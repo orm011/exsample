{
 "cells": [
  {
   "cell_type": "code",
   "execution_count": 1,
   "metadata": {
    "ExecuteTime": {
     "end_time": "2021-11-18T20:27:30.379129Z",
     "start_time": "2021-11-18T20:27:29.339Z"
    }
   },
   "outputs": [
    {
     "name": "stderr",
     "output_type": "stream",
     "text": [
      "── \u001b[1mAttaching packages\u001b[22m ─────────────────────────────────────────────────────────────────────────────────────────────────────────────────────────────────────────────────────────────────────────────────────────────────── tidyverse 1.3.1 ──\n",
      "\n",
      "\u001b[32m✔\u001b[39m \u001b[34mggplot2\u001b[39m 3.3.5     \u001b[32m✔\u001b[39m \u001b[34mpurrr  \u001b[39m 0.3.4\n",
      "\u001b[32m✔\u001b[39m \u001b[34mtibble \u001b[39m 3.1.6     \u001b[32m✔\u001b[39m \u001b[34mdplyr  \u001b[39m 1.0.7\n",
      "\u001b[32m✔\u001b[39m \u001b[34mtidyr  \u001b[39m 1.1.4     \u001b[32m✔\u001b[39m \u001b[34mstringr\u001b[39m 1.4.0\n",
      "\u001b[32m✔\u001b[39m \u001b[34mreadr  \u001b[39m 2.1.0     \u001b[32m✔\u001b[39m \u001b[34mforcats\u001b[39m 0.5.1\n",
      "\n",
      "── \u001b[1mConflicts\u001b[22m ────────────────────────────────────────────────────────────────────────────────────────────────────────────────────────────────────────────────────────────────────────────────────────────────────── tidyverse_conflicts() ──\n",
      "\u001b[31m✖\u001b[39m \u001b[34mdplyr\u001b[39m::\u001b[32mfilter()\u001b[39m masks \u001b[34mstats\u001b[39m::filter()\n",
      "\u001b[31m✖\u001b[39m \u001b[34mdplyr\u001b[39m::\u001b[32mlag()\u001b[39m    masks \u001b[34mstats\u001b[39m::lag()\n",
      "\n"
     ]
    }
   ],
   "source": [
    "library(tidyverse)"
   ]
  },
  {
   "cell_type": "code",
   "execution_count": 3,
   "metadata": {
    "ExecuteTime": {
     "end_time": "2021-11-18T20:27:55.048938Z",
     "start_time": "2021-11-18T20:27:54.905Z"
    }
   },
   "outputs": [
    {
     "name": "stderr",
     "output_type": "stream",
     "text": [
      "New names:\n",
      "* `` -> ...1\n",
      "\n",
      "\u001b[1mRows: \u001b[22m\u001b[34m45\u001b[39m \u001b[1mColumns: \u001b[22m\u001b[34m5\u001b[39m\n",
      "\n",
      "\u001b[36m──\u001b[39m \u001b[1mColumn specification\u001b[22m \u001b[36m────────────────────────────────────────────────────────────────────────────────────────────────────────────────────────────────────────────────────────────────────────────────────────────────────────────────────\u001b[39m\n",
      "\u001b[1mDelimiter:\u001b[22m \",\"\n",
      "\u001b[31mchr\u001b[39m (3): level_0, object_class, dataset\n",
      "\u001b[32mdbl\u001b[39m (2): ...1, AP\n",
      "\n",
      "\n",
      "\u001b[36mℹ\u001b[39m Use \u001b[30m\u001b[47m\u001b[30m\u001b[47m`spec()`\u001b[47m\u001b[30m\u001b[49m\u001b[39m to retrieve the full column specification for this data.\n",
      "\u001b[36mℹ\u001b[39m Specify the column types or set \u001b[30m\u001b[47m\u001b[30m\u001b[47m`show_col_types = FALSE`\u001b[47m\u001b[30m\u001b[49m\u001b[39m to quiet this message.\n",
      "\n"
     ]
    }
   ],
   "source": [
    "accuracies = read_csv('./data/surrogate_stats_bdd_dashcam.csv')"
   ]
  },
  {
   "cell_type": "code",
   "execution_count": 4,
   "metadata": {
    "ExecuteTime": {
     "end_time": "2021-11-18T20:27:58.063415Z",
     "start_time": "2021-11-18T20:27:57.849Z"
    }
   },
   "outputs": [],
   "source": [
    "ratio = filter(accuracies, level_0 == 'ratio')"
   ]
  },
  {
   "cell_type": "code",
   "execution_count": 26,
   "metadata": {
    "ExecuteTime": {
     "end_time": "2021-11-18T21:03:08.597471Z",
     "start_time": "2021-11-18T21:03:08.220Z"
    }
   },
   "outputs": [],
   "source": [
    "library(repr)\n",
    "## set figure size\n",
    "f = 2\n",
    "width=3*f\n",
    "height=1.5*f\n",
    "options(repr.plot.width=width, repr.plot.height=height)"
   ]
  },
  {
   "cell_type": "code",
   "execution_count": 27,
   "metadata": {
    "ExecuteTime": {
     "end_time": "2021-11-18T21:03:08.935830Z",
     "start_time": "2021-11-18T21:03:08.557Z"
    }
   },
   "outputs": [],
   "source": [
    "#factor(dataset, levels=c('dashcam', 'bdd'))\n",
    "pt = (ggplot(ratio, aes(y=AP, x=factor(object_class), \n",
    "                             #fill=factor(object_class), \n",
    "                             fill_alpha=.6))\n",
    "        + geom_bar(stat='identity', position='dodge')\n",
    "#         + geom_hline(mapping=aes(yintercept=1.,), linetype='dashed')\n",
    "        + facet_grid(cols=vars(dataset), scales='free', labeller='label_both')\n",
    "        + scale_y_log10()\n",
    "        + ylab(label = 'proxy AP / random AP')\n",
    "        + xlab(element_blank())\n",
    "        + labs(title = 'Proxy model average precision (AP) vs random AP')\n",
    "        + theme(plot.title=element_text(hjust = .5, size=15),\n",
    "                legend.title=element_blank(),\n",
    "                legend.position='top',\n",
    "                strip.text=element_text(size=14),\n",
    "                legend.margin=margin(t=0, b=0),\n",
    "                legend.box.margin=margin(0,0,0,0),\n",
    "                axis.text.y=element_text(size=12),\n",
    "                axis.title=element_text(size=14),\n",
    "                axis.text.x=element_text(size=14, angle=90, hjust = 1, vjust=.5),\n",
    "                legend.text=element_text(size=14))\n",
    "     )"
   ]
  },
  {
   "cell_type": "code",
   "execution_count": 28,
   "metadata": {
    "ExecuteTime": {
     "end_time": "2021-11-18T21:03:09.349590Z",
     "start_time": "2021-11-18T21:03:08.998Z"
    }
   },
   "outputs": [
    {
     "data": {
      "image/png": "[encoded data removed]",
      "text/plain": [
       "plot without title"
      ]
     },
     "metadata": {
      "image/png": {
       "height": 180,
       "width": 360
      }
     },
     "output_type": "display_data"
    }
   ],
   "source": [
    "pt"
   ]
  },
  {
   "cell_type": "code",
   "execution_count": 30,
   "metadata": {
    "ExecuteTime": {
     "end_time": "2021-11-18T21:04:10.849327Z",
     "start_time": "2021-11-18T21:04:10.540Z"
    }
   },
   "outputs": [],
   "source": [
    "ggsave(file='./assets/precision_compared.pdf', plot=pt, units='in', width=width, height = height)"
   ]
  },
  {
   "cell_type": "code",
   "execution_count": null,
   "metadata": {},
   "outputs": [],
   "source": []
  }
 ],
 "metadata": {
  "kernelspec": {
   "display_name": "R 4.1.1",
   "language": "R",
   "name": "r_env"
  },
  "language_info": {
   "codemirror_mode": "r",
   "file_extension": ".r",
   "mimetype": "text/x-r-source",
   "name": "R",
   "pygments_lexer": "r",
   "version": "4.1.1"
  }
 },
 "nbformat": 4,
 "nbformat_minor": 2
}
