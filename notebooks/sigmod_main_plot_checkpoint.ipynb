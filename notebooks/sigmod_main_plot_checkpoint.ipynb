{
 "cells": [
  {
   "cell_type": "code",
   "execution_count": 1,
   "metadata": {
    "ExecuteTime": {
     "end_time": "2021-09-27T18:32:28.205655Z",
     "start_time": "2021-09-27T18:32:24.783807Z"
    }
   },
   "outputs": [
    {
     "ename": "ImportError",
     "evalue": "cannot import name 'estimation' from 'vsms' (/nvme_drive/orm/vls/vsms/__init__.py)",
     "output_type": "error",
     "traceback": [
      "\u001b[0;31m---------------------------------------------------------------------------\u001b[0m",
      "\u001b[0;31mImportError\u001b[0m                               Traceback (most recent call last)",
      "\u001b[0;32m<ipython-input-1-927948579a7d>\u001b[0m in \u001b[0;36m<module>\u001b[0;34m\u001b[0m\n\u001b[1;32m      1\u001b[0m \u001b[0;32mimport\u001b[0m \u001b[0mvsms\u001b[0m\u001b[0;34m\u001b[0m\u001b[0;34m\u001b[0m\u001b[0m\n\u001b[0;32m----> 2\u001b[0;31m \u001b[0;32mfrom\u001b[0m \u001b[0mvsms\u001b[0m \u001b[0;32mimport\u001b[0m \u001b[0mestimation\u001b[0m\u001b[0;34m,\u001b[0m \u001b[0mevaluation_tools\u001b[0m\u001b[0;34m,\u001b[0m \u001b[0msampler_utils\u001b[0m\u001b[0;34m,\u001b[0m \u001b[0mbench_utils\u001b[0m\u001b[0;34m\u001b[0m\u001b[0;34m\u001b[0m\u001b[0m\n\u001b[0m\u001b[1;32m      3\u001b[0m \u001b[0;34m\u001b[0m\u001b[0m\n\u001b[1;32m      4\u001b[0m \u001b[0;32mimport\u001b[0m \u001b[0mimportlib\u001b[0m\u001b[0;34m\u001b[0m\u001b[0;34m\u001b[0m\u001b[0m\n\u001b[1;32m      5\u001b[0m \u001b[0mimportlib\u001b[0m\u001b[0;34m.\u001b[0m\u001b[0mreload\u001b[0m\u001b[0;34m(\u001b[0m\u001b[0mvsms\u001b[0m\u001b[0;34m)\u001b[0m\u001b[0;34m\u001b[0m\u001b[0;34m\u001b[0m\u001b[0m\n",
      "\u001b[0;31mImportError\u001b[0m: cannot import name 'estimation' from 'vsms' (/nvme_drive/orm/vls/vsms/__init__.py)"
     ]
    }
   ],
   "source": [
    "import vsms\n",
    "from vsms import estimation, evaluation_tools, sampler_utils, bench_utils\n",
    "\n",
    "import importlib\n",
    "\n",
    "\n",
    "## sampler common\n",
    "## sampler utils\n",
    "## bench utils\n",
    "## estimation \n",
    "## evaluation tools\n",
    "## plotting\n",
    "## avutils\n",
    "\n",
    "# importlib.reload(vsms)\n",
    "# importlib.reload(vsms.sampler_common)\n",
    "# importlib.reload(vsms.sampler_utils)\n",
    "# importlib.reload(vsms.bench_utils)\n",
    "# importlib.reload(vsms.estimation)\n",
    "# importlib.reload(vsms.evaluation_tools)\n",
    "# importlib.reload(vsms.coco_categories)\n",
    "\n",
    "import matplotlib\n",
    "#importlib.reload(matplotlib.pyplot)\n",
    "from matplotlib import pyplot as plt\n",
    "from vsms.plotting import *\n",
    "from vsms.estimation import *\n",
    "from vsms.bench_utils import *\n",
    "from vsms.sampler_utils import *\n",
    "from vsms.evaluation_tools import *\n",
    "from vsms.sampler_common import *\n",
    "from vsms.avutils import *\n",
    "#import vsms.coco_categories as cc\n",
    "import matplotlib as mpl\n",
    "import matplotlib.pyplot as plt\n",
    "\n",
    "import sys\n",
    "p = '/nvme_drive/orm/car_stuff/deployment/blazeit'\n",
    "if p not in sys.path:\n",
    "    sys.path.append(p)\n",
    "    \n",
    "import blazeit\n",
    "import blazeit.specializers.trn as trn\n",
    "%matplotlib notebook"
   ]
  },
  {
   "cell_type": "code",
   "execution_count": 2,
   "metadata": {
    "ExecuteTime": {
     "end_time": "2020-03-23T19:58:48.526809Z",
     "start_time": "2020-03-23T19:58:48.174142Z"
    }
   },
   "outputs": [],
   "source": [
    "import pandas.api.types as pdtypes\n",
    "from plotnine import (ggplot, geom_point, geom_bar, geom_boxplot, \n",
    "                      geom_col, aes, stat_smooth, position_dodge,\n",
    "                    facet_wrap, facet_grid, stats, geom_text, stat_quantile, \n",
    "                      geom_segment, scale_x_discrete, scale_y_continuous, annotate, \n",
    "                      geom_jitter, geom_hline, geom_errorbar, scale_y_reverse)\n",
    "from plotnine.data import mtcars\n",
    "from plotnine.scales import scale_y_log10\n",
    "from plotnine import theme, xlab, labs, element_text, scale_y_continuous"
   ]
  },
  {
   "cell_type": "code",
   "execution_count": 3,
   "metadata": {
    "ExecuteTime": {
     "end_time": "2020-03-23T19:58:48.825284Z",
     "start_time": "2020-03-23T19:58:48.709954Z"
    }
   },
   "outputs": [],
   "source": [
    "import torchvision.models as models\n",
    "import torchvision"
   ]
  },
  {
   "cell_type": "code",
   "execution_count": 4,
   "metadata": {
    "ExecuteTime": {
     "end_time": "2020-03-23T19:58:51.131494Z",
     "start_time": "2020-03-23T19:58:50.736128Z"
    }
   },
   "outputs": [],
   "source": [
    "ds_dash = Dataset(data_root='/nvme_drive/orm/results10/', dataset_name='dashcam_unified_ng')\n",
    "#ds_square = Dataset(data_root='/nvme_drive/orm/results10/', dataset_name='jackson-town-square')"
   ]
  },
  {
   "cell_type": "code",
   "execution_count": 5,
   "metadata": {
    "ExecuteTime": {
     "end_time": "2020-03-23T19:58:52.198987Z",
     "start_time": "2020-03-23T19:58:52.195971Z"
    }
   },
   "outputs": [],
   "source": [
    "ds = ds_dash"
   ]
  },
  {
   "cell_type": "code",
   "execution_count": null,
   "metadata": {},
   "outputs": [],
   "source": [
    "ds.ma"
   ]
  },
  {
   "cell_type": "code",
   "execution_count": 6,
   "metadata": {
    "ExecuteTime": {
     "end_time": "2020-03-23T19:58:54.144927Z",
     "start_time": "2020-03-23T19:58:54.132178Z"
    }
   },
   "outputs": [],
   "source": [
    "class UniqueScore(ScoringModel):\n",
    "    def __init__(self, **base_args):\n",
    "        super().__init__(**base_args)\n",
    "        \n",
    "    def update(self):\n",
    "        pass\n",
    "\n",
    "    def score(self, batch_size):\n",
    "        assert self.randomize\n",
    "        ds = dist.Gamma(concentration=self.stats.Nunique + .1, rate=self.stats.Ns + 1.) \n",
    "        s =  ds.sample(batch_size)\n",
    "        return s \n",
    "    \n",
    "class GtScore(ScoringModel):\n",
    "    def __init__(self, **base_args):\n",
    "        super().__init__(**base_args)\n",
    "        \n",
    "    def update(self):\n",
    "        pass\n",
    "\n",
    "    def score(self, batch_size):\n",
    "        assert self.randomize\n",
    "        ds = dist.Gamma(concentration=self.stats.Nonce + .1, rate=self.stats.Ns + 1.) \n",
    "        s =  ds.sample(batch_size)\n",
    "        return s"
   ]
  },
  {
   "cell_type": "code",
   "execution_count": 7,
   "metadata": {
    "ExecuteTime": {
     "end_time": "2020-03-23T19:58:55.132698Z",
     "start_time": "2020-03-23T19:58:55.122486Z"
    }
   },
   "outputs": [],
   "source": [
    "def random_plus(size=None, scores=None, initial_step=256, initial_offset=None):\n",
    "    if size is None:\n",
    "        size = scores.shape[0]\n",
    "\n",
    "    if scores is None:\n",
    "        scores = np.random.normal(size=size)\n",
    "    if isinstance(scores, pd.Series):\n",
    "        scores = scores.values\n",
    "\n",
    "    x = np.arange(size)\n",
    "    assert scores.shape[0] == size\n",
    "\n",
    "    if initial_step > size//4:\n",
    "        initial_step = size//4\n",
    "        \n",
    "    if initial_offset is None:\n",
    "        initial_offset = np.random.randint(initial_step)    \n",
    "    \n",
    "    acc_idxs = []\n",
    "    step = initial_step\n",
    "    offset = initial_offset\n",
    "    seen = pr.BitMap()\n",
    "    while step >= 1:\n",
    "        offset = offset % step\n",
    "\n",
    "        assert offset < step\n",
    "        tmp = x[offset::step]\n",
    "        new_set = pr.BitMap(tmp).difference(seen)#.to_array() # remove duplicates\n",
    "        next_idxs = np.array(new_set)\n",
    "        score_order = np.argsort(scores[next_idxs])[-1::-1] # descending order\n",
    "        next_idxs = next_idxs[score_order]\n",
    "        acc_idxs.append(next_idxs)\n",
    "        seen = seen.union(new_set)\n",
    "\n",
    "        step = step//2\n",
    "\n",
    "    out = np.concatenate(acc_idxs)\n",
    "    assert np.unique(out).shape[0] == out.shape[0]\n",
    "    assert out.shape[0] == x.shape[0]\n",
    "    return out"
   ]
  },
  {
   "cell_type": "code",
   "execution_count": 8,
   "metadata": {
    "ExecuteTime": {
     "end_time": "2020-03-23T19:58:58.316570Z",
     "start_time": "2020-03-23T19:58:58.301776Z"
    }
   },
   "outputs": [],
   "source": [
    "def score_minus(sc, ds, \n",
    "                object_class, \n",
    "                excluded_frames, \n",
    "                initial_distance=32):\n",
    "\n",
    "    scores = sc[object_class]\n",
    "    hits = ds.boxes.loc[COCO_IDS[object_class]].index\n",
    "    assert (sc.index == pd.RangeIndex(ds.video.len)).all(), 'work with absolute index'\n",
    "\n",
    "    excluded = pr.FrozenBitMap(excluded_frames)\n",
    "    all_frames = pr.FrozenBitMap(sc.index)\n",
    "    assert excluded.issubset(all_frames)\n",
    "    \n",
    "    acc  = []\n",
    "    seen = pr.FrozenBitMap([])\n",
    "    dist = initial_distance\n",
    "    while len(seen) < len(all_frames - excluded):\n",
    "        locs = score_minus_helper(scores, hits, \n",
    "                                  initial_ex=excluded.union(seen), \n",
    "                                  distance=dist)\n",
    "        dist = dist//2\n",
    "        seen = seen.union(pr.FrozenBitMap(locs))\n",
    "        acc.append(locs)\n",
    "    \n",
    "    final = np.concatenate(acc)\n",
    "    assert len(pr.BitMap(final)) == final.shape[0] # no repeats\n",
    "    assert pr.BitMap(final).intersection_cardinality(excluded) == 0 # no training set\n",
    "    assert final.shape[0] == len(all_frames) - len(excluded) # all remaining\n",
    "    return pd.Index(final, name='blz_'+ object_class)\n",
    "    \n",
    "\n",
    "def score_minus_helper(scores, hits, initial_ex=None, distance=32):\n",
    "    banned = pr.BitMap(initial_ex)\n",
    "    \n",
    "    start_locs = pr.BitMap(scores.index).difference(banned)    \n",
    "    scores = scores.loc[start_locs]\n",
    "    locs = scores.sort_values(ascending=False).index\n",
    "    hits = pr.BitMap(hits)\n",
    "    output_locs = []\n",
    "    for l in locs:\n",
    "        if l in banned:\n",
    "            continue \n",
    "        else:\n",
    "            output_locs.append(l)\n",
    "#            if l in hits: # only clear range for positive result\n",
    "            banned.add_range(l-distance,l+distance)\n",
    "                \n",
    "    return np.array(output_locs)"
   ]
  },
  {
   "cell_type": "code",
   "execution_count": 10,
   "metadata": {
    "ExecuteTime": {
     "end_time": "2019-10-28T21:01:24.726607Z",
     "start_time": "2019-10-28T21:01:23.717167Z"
    }
   },
   "outputs": [],
   "source": [
    "# ds = ds_square\n",
    "# #frame_meta = pd.read_parquet('/nvme_drive/orm/dashcam_frame_metadata_v2.parquet')\n",
    "# #frame_meta = pd.read_parquet('/nvme_drive/orm/dashcam_frame_metadata_v2.parquet')\n",
    "# frame_meta = pd.DataFrame({'frame_ts':ds.max_scores.index, \n",
    "#                             'trip_id':pd.Categorical(ds.max_scores.index.round('H')).codes})"
   ]
  },
  {
   "cell_type": "code",
   "execution_count": 9,
   "metadata": {
    "ExecuteTime": {
     "end_time": "2020-03-23T19:59:08.299116Z",
     "start_time": "2020-03-23T19:59:08.097978Z"
    }
   },
   "outputs": [],
   "source": [
    "if True:\n",
    "    blazed_logits2 = pd.read_parquet('/nvme_drive/orm/dashcam_logits_balanced.parquet')\n",
    "else:\n",
    "    blazed_logits2 = pd.read_parquet('/nvme_drive/orm/square_logits_balanced.parquet')\n",
    "\n",
    "obj_cols = [c for c in blazed_logits2.columns if c in COCO_CATEGORIES]\n",
    "bl = blazed_logits2[obj_cols]\n",
    "bl_rest = bl[blazed_logits2.subset == 'rest']\n",
    "training_set = bl[blazed_logits2.subset.isin(['train', 'val'])].index"
   ]
  },
  {
   "cell_type": "code",
   "execution_count": 15,
   "metadata": {
    "ExecuteTime": {
     "end_time": "2019-10-28T21:01:43.749380Z",
     "start_time": "2019-10-28T21:01:43.743905Z"
    }
   },
   "outputs": [
    {
     "data": {
      "text/plain": [
       "(1164206, 10)"
      ]
     },
     "execution_count": 15,
     "metadata": {},
     "output_type": "execute_result"
    }
   ],
   "source": [
    "## how to proceed.\n",
    "## assumptions thus far: extract top 10 pca based on some sample of data.\n",
    "## experiments: log reg for traffic light is still much better than random (3x more AP), so assume predictive power.\n",
    "\n",
    "## design0: blaze it w. light scan: train on all features. then, scan all saved features (vs scan all video)\n",
    "## design1: frames pre-sorted by those 10 main features, pick the single one with most predictive power. use that.\n",
    "\n",
    "## design2: using features + exsample. \n",
    "    ## design2.0: sample using transformed feature values as weights.\n",
    "            ## pick best feature.\n",
    "\n",
    "    ## design2.1: cluster features, use those as buckets.\n",
    "    ## design2.2: use time buckets. sample using transformed feature values."
   ]
  },
  {
   "cell_type": "code",
   "execution_count": 10,
   "metadata": {
    "ExecuteTime": {
     "end_time": "2020-03-23T19:59:18.179321Z",
     "start_time": "2020-03-23T19:59:18.117114Z"
    }
   },
   "outputs": [],
   "source": [
    "bl3 = pd.read_parquet('scores_best_dim.parquet')"
   ]
  },
  {
   "cell_type": "code",
   "execution_count": 12,
   "metadata": {
    "ExecuteTime": {
     "end_time": "2020-03-23T19:59:29.282795Z",
     "start_time": "2020-03-23T19:59:29.270874Z"
    },
    "scrolled": true
   },
   "outputs": [
    {
     "data": {
      "text/plain": [
       "((1164226,), (1164206,))"
      ]
     },
     "execution_count": 12,
     "metadata": {},
     "output_type": "execute_result"
    }
   ],
   "source": [
    "blazed_logits2.index.shape, bl3.index.shape"
   ]
  },
  {
   "cell_type": "code",
   "execution_count": 13,
   "metadata": {
    "ExecuteTime": {
     "end_time": "2020-03-23T19:59:58.967289Z",
     "start_time": "2020-03-23T19:59:58.939349Z"
    }
   },
   "outputs": [],
   "source": [
    "bl3 = pd.concat([bl3, bl3.iloc[np.random.randint(low=0, high=bl3.shape[0], size=20)]], ignore_index=True)"
   ]
  },
  {
   "cell_type": "code",
   "execution_count": 14,
   "metadata": {
    "ExecuteTime": {
     "end_time": "2020-03-23T20:00:01.006776Z",
     "start_time": "2020-03-23T20:00:00.912823Z"
    }
   },
   "outputs": [],
   "source": [
    "bl3_rest = bl3[blazed_logits2.subset == 'rest']"
   ]
  },
  {
   "cell_type": "code",
   "execution_count": 15,
   "metadata": {
    "ExecuteTime": {
     "end_time": "2020-03-23T20:00:03.182818Z",
     "start_time": "2020-03-23T20:00:03.171354Z"
    }
   },
   "outputs": [],
   "source": [
    "class Bench2(object):\n",
    "    ## meant to keep track of previous runs so we don't lose them\n",
    "    def __init__(self, ds, excluded_set=[]):\n",
    "        self.params = []\n",
    "        self.param_names = []\n",
    "        self.graders = []\n",
    "        self.samplers = []\n",
    "        self.excluded_set = pr.FrozenBitMap(excluded_set)\n",
    "        dsfr = ds.boxes.reset_index()\n",
    "        self.ok_boxes = dsfr[~dsfr.frame_idx.isin(self.excluded_set)]\n",
    "        (self.NIs, self.NF) = get_NI_NF(ds, self.excluded_set)\n",
    "\n",
    "        gfs = {}\n",
    "        for (l,gp) in self.ok_boxes.groupby(['label']):\n",
    "            label = COCO_CATEGORIES[l]\n",
    "            tidcodes = pd.Categorical(gp.tid).codes\n",
    "            tids = pd.Series(tidcodes, index=gp.frame_idx)\n",
    "            gf = GraderMFactory(tids, NF=self.NF, excluded_set=self.excluded_set)\n",
    "            gfs[label] = gf\n",
    "\n",
    "        self.grader_factories = gfs\n",
    "#         random_offset_ts = (ds.frame_timestamps.round('1 ms')\n",
    "#                             + pd.to_timedelta(np.random.randint(9999999), unit='ms'))\n",
    "#         lsb_values = time_series_to_lsb(random_offset_ts)\n",
    "\n",
    "#         # common splits\n",
    "        self.nosplit = pd.Series(np.ones(ds.video.len), name='nosplit')\n",
    "#         self.split10min = time_split2(ds.max_scores, '10 min')\n",
    "#         self.split20min = time_split2(ds.max_scores, '20 min')\n",
    "#         self.split30min = time_split2(ds.max_scores, '30 min')\n",
    "#         self.split1hr = time_split2(ds.max_scores, '60 min')\n",
    "#         self.split5min = time_split2(ds.max_scores, '5 min')\n",
    "        self.object_classes = list(gfs.keys())\n",
    "        # common order\n",
    "#         self.lsb_ilocs = lsb_values.reset_index(drop=True).sort_values().index.rename('lsb')\n",
    "#         self.random_ilocs = pd.Int64Index(np.random.permutation(ds.frame_timestamps.shape[0]), name='random')\n",
    "#         self.skip_1s_ilocs = ds.max_scores.assign(sec=random_offset_ts.floor('1s')).reset_index().drop_duplicates(\n",
    "#             subset=['sec'], keep='first').index.rename('skip_1s')"
   ]
  },
  {
   "cell_type": "code",
   "execution_count": 16,
   "metadata": {
    "ExecuteTime": {
     "end_time": "2020-03-23T20:00:06.594862Z",
     "start_time": "2020-03-23T20:00:06.590021Z"
    }
   },
   "outputs": [],
   "source": [
    "def remove_in(seq, bad_set):\n",
    "    return seq[seq.map(lambda i : i not in bad_set)]    "
   ]
  },
  {
   "cell_type": "code",
   "execution_count": 195,
   "metadata": {
    "ExecuteTime": {
     "end_time": "2019-10-21T22:51:24.766771Z",
     "start_time": "2019-10-21T22:51:24.751152Z"
    }
   },
   "outputs": [],
   "source": [
    "# 1) explain problems with balanced dataset : very common or very rare.\n",
    "# 2) explain problems with dataset drift as shown by plot\n",
    "# 3) explain initial fixed cost issue.\n",
    "\n",
    "\n",
    "# converting a set of scores to a sampling strategy/\n",
    "# explain.\n",
    "# 3) why is truck performance not great. "
   ]
  },
  {
   "cell_type": "code",
   "execution_count": null,
   "metadata": {},
   "outputs": [],
   "source": [
    "## weighted sampling alone"
   ]
  },
  {
   "cell_type": "code",
   "execution_count": 17,
   "metadata": {
    "ExecuteTime": {
     "end_time": "2020-03-23T20:00:08.928021Z",
     "start_time": "2020-03-23T20:00:08.924251Z"
    }
   },
   "outputs": [],
   "source": [
    "import scipy.stats"
   ]
  },
  {
   "cell_type": "code",
   "execution_count": 18,
   "metadata": {
    "ExecuteTime": {
     "end_time": "2020-03-23T20:00:09.144135Z",
     "start_time": "2020-03-23T20:00:09.140124Z"
    }
   },
   "outputs": [],
   "source": [
    "from scipy.special import expit, logit, softmax"
   ]
  },
  {
   "cell_type": "code",
   "execution_count": 19,
   "metadata": {
    "ExecuteTime": {
     "end_time": "2020-03-23T20:00:13.349744Z",
     "start_time": "2020-03-23T20:00:13.308365Z"
    }
   },
   "outputs": [],
   "source": [
    "special_score = pd.read_parquet('rep_loss_no_flow_tr.parquet')"
   ]
  },
  {
   "cell_type": "code",
   "execution_count": 180,
   "metadata": {
    "ExecuteTime": {
     "end_time": "2019-11-01T15:41:30.904767Z",
     "start_time": "2019-11-01T15:41:28.695993Z"
    }
   },
   "outputs": [],
   "source": [
    "# for c in special_score.columns:\n",
    "#     special_order = np.random.choice(a=bl_rest.index, size=bl_rest.shape[0], replace=False, p=softmax(sp_rest['traffic light'].values))\n",
    "#     special_order = pd.Index(special_order, name='OptNew')"
   ]
  },
  {
   "cell_type": "code",
   "execution_count": 186,
   "metadata": {
    "ExecuteTime": {
     "end_time": "2019-11-01T15:44:59.615532Z",
     "start_time": "2019-11-01T15:44:59.389730Z"
    }
   },
   "outputs": [],
   "source": [
    "# sp_strict = sp_rest.sort_values(['traffic light'], ascending=False)"
   ]
  },
  {
   "cell_type": "code",
   "execution_count": 21,
   "metadata": {
    "ExecuteTime": {
     "end_time": "2020-03-23T20:00:26.598008Z",
     "start_time": "2020-03-23T20:00:26.223811Z"
    }
   },
   "outputs": [],
   "source": [
    "# ilocs = pd.Index(sp_strict.index, name='SpStrict')\n",
    "b4 = Bench2(ds, excluded_set=training_set)\n",
    "batch_size= 50"
   ]
  },
  {
   "cell_type": "code",
   "execution_count": 24,
   "metadata": {
    "ExecuteTime": {
     "end_time": "2020-03-23T20:01:41.684548Z",
     "start_time": "2020-03-23T20:01:15.601660Z"
    }
   },
   "outputs": [
    {
     "data": {
      "application/vnd.jupyter.widget-view+json": {
       "model_id": "93286838e65a41139c35bfa5f8de665b",
       "version_major": 2,
       "version_minor": 0
      },
      "text/plain": [
       "HBox(children=(IntProgress(value=0, max=1), HTML(value='')))"
      ]
     },
     "metadata": {},
     "output_type": "display_data"
    },
    {
     "name": "stdout",
     "output_type": "stream",
     "text": [
      "\n"
     ]
    },
    {
     "data": {
      "application/vnd.jupyter.widget-view+json": {
       "model_id": "ff77c231f0ed4df9adb7390671bc9905",
       "version_major": 2,
       "version_minor": 0
      },
      "text/plain": [
       "HBox(children=(IntProgress(value=0, max=1), HTML(value='')))"
      ]
     },
     "metadata": {},
     "output_type": "display_data"
    },
    {
     "name": "stdout",
     "output_type": "stream",
     "text": [
      "\n"
     ]
    },
    {
     "data": {
      "application/vnd.jupyter.widget-view+json": {
       "model_id": "13a14e7a2f084c67b38e28296600e82d",
       "version_major": 2,
       "version_minor": 0
      },
      "text/plain": [
       "HBox(children=(IntProgress(value=0, max=1), HTML(value='')))"
      ]
     },
     "metadata": {},
     "output_type": "display_data"
    },
    {
     "name": "stdout",
     "output_type": "stream",
     "text": [
      "\n"
     ]
    },
    {
     "data": {
      "application/vnd.jupyter.widget-view+json": {
       "model_id": "9d88927958eb4e6ab9f384b3a097d475",
       "version_major": 2,
       "version_minor": 0
      },
      "text/plain": [
       "HBox(children=(IntProgress(value=0, max=1), HTML(value='')))"
      ]
     },
     "metadata": {},
     "output_type": "display_data"
    },
    {
     "name": "stdout",
     "output_type": "stream",
     "text": [
      "\n"
     ]
    },
    {
     "data": {
      "application/vnd.jupyter.widget-view+json": {
       "model_id": "c4daf80a54154f9a86e693bcc64efa9b",
       "version_major": 2,
       "version_minor": 0
      },
      "text/plain": [
       "HBox(children=(IntProgress(value=0, max=1), HTML(value='')))"
      ]
     },
     "metadata": {},
     "output_type": "display_data"
    },
    {
     "name": "stdout",
     "output_type": "stream",
     "text": [
      "\n"
     ]
    },
    {
     "data": {
      "application/vnd.jupyter.widget-view+json": {
       "model_id": "d2b6328aa132419ab37f68f1709f5f79",
       "version_major": 2,
       "version_minor": 0
      },
      "text/plain": [
       "HBox(children=(IntProgress(value=0, max=1), HTML(value='')))"
      ]
     },
     "metadata": {},
     "output_type": "display_data"
    },
    {
     "name": "stdout",
     "output_type": "stream",
     "text": [
      "\n"
     ]
    },
    {
     "data": {
      "application/vnd.jupyter.widget-view+json": {
       "model_id": "296d3c065cf5451c8bb3dedd0c1ddf31",
       "version_major": 2,
       "version_minor": 0
      },
      "text/plain": [
       "HBox(children=(IntProgress(value=0, max=1), HTML(value='')))"
      ]
     },
     "metadata": {},
     "output_type": "display_data"
    },
    {
     "name": "stdout",
     "output_type": "stream",
     "text": [
      "\n"
     ]
    }
   ],
   "source": [
    "#   noised_pkt_size = sm_pkt_size2*np.random.gamma(32.,scale=1./32, size=sm_pkt_size.shape[0])\n",
    "#   pkt_size_ilocs = noised_pkt_size.sort_values().index.rename('pkt_size')\n",
    "#   new_order = np.random.permutation(frame_meta.trip_id.max()+1)\n",
    "#   part_order = new_order[frame_meta.trip_id][pkt_size_ilocs]\n",
    "#   skip_1s_ilocs = pd.DataFrame({'skip1s':b4.skip_1s_ilocs, 'part_order':part_order}).sort_values(['part_order', 'skip1s']).skip1s.rename('skip_1s')\n",
    "#   pkt_size_ilocs = pd.DataFrame({'skip1s':b4.skip_1s_ilocs, 'part_order':part_order}).sort_values(['part_order', 'skip1s']).skip1s.rename('skip_1s')\n",
    "# bl = bl3\n",
    "# bl_rest = bl3_rest\n",
    "for col in special_score.columns:\n",
    "#     ps = bl_rest[col]\n",
    "#     logits = logit(ps)\n",
    "#     orders = []\n",
    "#     for temp in (1,.01, .1, 10, 100, 1000):\n",
    "#         ps = softmax(logits/temp)\n",
    "#         tmp1 = pd.Index(np.random.choice(a=bl_rest.index, size=bl_rest.shape[0], replace=False, p=ps), \n",
    "#                         name='temp_{}'.format(temp))\n",
    "#         orders.append(tmp1)\n",
    "# #         np.random.choice(a=bl_rest.index, size=bl_rest.shape[0], replace=False, p=ps)\n",
    "    sp_minus = score_minus(special_score, ds_dash, col, training_set).rename('SpLossNoFlow')    \n",
    "    \n",
    "    sampler_combx = named_prod(order=[sp_minus], \n",
    "                      score_method=[None],\n",
    "                      damping=[None],\n",
    "                      split=[b4.nosplit],\n",
    "                        batch_size=[batch_size],\n",
    "                        object_class=[col])\n",
    "    add_combos2(b4, sampler_combx)\n",
    "\n",
    "    \n",
    "#rplus = remove_in(pd.Series(random_plus(size=bl.shape[0])).rename('rplus'), training_set)\n",
    "# # r = remove_in(pd.Series(np.random.permutation(bl.shape[0])).rename('random'), training_set)\n",
    "# sampler_comb = named_prod(order=[rplus], \n",
    "#                       score_method=[None],\n",
    "#                       damping=[None],\n",
    "#                       split=[b4.nosplit],\n",
    "#                         batch_size=[batch_size],\n",
    "#                         object_class=b4.object_classes[:3])\n",
    "\n",
    "# add_combos2(b4, sampler_comb)\n",
    "\n",
    "# sampler_comb3 = named_prod(order=[rplus], \n",
    "#                        score_method=[GtScore], \n",
    "#                        damping=[None],\n",
    "#                        split=[b4.split30min],\n",
    "#                          batch_size=[batch_size],\n",
    "#                          object_class=b4.object_classes[:3])\n",
    "\n",
    "# add_combos2(b4, sampler_comb3)"
   ]
  },
  {
   "cell_type": "code",
   "execution_count": 25,
   "metadata": {
    "ExecuteTime": {
     "end_time": "2020-03-23T20:01:54.187075Z",
     "start_time": "2020-03-23T20:01:41.686013Z"
    }
   },
   "outputs": [
    {
     "data": {
      "application/vnd.jupyter.widget-view+json": {
       "model_id": "662eba45abf34bcfb1c7e6aba3b0207e",
       "version_major": 2,
       "version_minor": 0
      },
      "text/plain": [
       "HBox(children=(IntProgress(value=0, max=7), HTML(value='')))"
      ]
     },
     "metadata": {},
     "output_type": "display_data"
    },
    {
     "data": {
      "application/vnd.jupyter.widget-view+json": {
       "model_id": "583b19909f51482ca3d1ccb3133a78fd",
       "version_major": 2,
       "version_minor": 0
      },
      "text/plain": [
       "HBox(children=(IntProgress(value=0, max=1047815), HTML(value='')))"
      ]
     },
     "metadata": {},
     "output_type": "display_data"
    },
    {
     "name": "stdout",
     "output_type": "stream",
     "text": [
      "\n"
     ]
    },
    {
     "data": {
      "application/vnd.jupyter.widget-view+json": {
       "model_id": "0cbd448c1a69461ab7ece14bde0e7ac2",
       "version_major": 2,
       "version_minor": 0
      },
      "text/plain": [
       "HBox(children=(IntProgress(value=0, max=1047815), HTML(value='')))"
      ]
     },
     "metadata": {},
     "output_type": "display_data"
    },
    {
     "name": "stdout",
     "output_type": "stream",
     "text": [
      "\n"
     ]
    },
    {
     "data": {
      "application/vnd.jupyter.widget-view+json": {
       "model_id": "d3fd3af7ced545e09e8a341e69d77b44",
       "version_major": 2,
       "version_minor": 0
      },
      "text/plain": [
       "HBox(children=(IntProgress(value=0, max=1047815), HTML(value='')))"
      ]
     },
     "metadata": {},
     "output_type": "display_data"
    },
    {
     "name": "stdout",
     "output_type": "stream",
     "text": [
      "\n"
     ]
    },
    {
     "data": {
      "application/vnd.jupyter.widget-view+json": {
       "model_id": "5497c37cb63a474cb56e6a92fae811f8",
       "version_major": 2,
       "version_minor": 0
      },
      "text/plain": [
       "HBox(children=(IntProgress(value=0, max=1047815), HTML(value='')))"
      ]
     },
     "metadata": {},
     "output_type": "display_data"
    },
    {
     "name": "stdout",
     "output_type": "stream",
     "text": [
      "\n"
     ]
    },
    {
     "data": {
      "application/vnd.jupyter.widget-view+json": {
       "model_id": "160be375b4934e19a7698cf964610d90",
       "version_major": 2,
       "version_minor": 0
      },
      "text/plain": [
       "HBox(children=(IntProgress(value=0, max=1047815), HTML(value='')))"
      ]
     },
     "metadata": {},
     "output_type": "display_data"
    },
    {
     "name": "stdout",
     "output_type": "stream",
     "text": [
      "\n"
     ]
    },
    {
     "data": {
      "application/vnd.jupyter.widget-view+json": {
       "model_id": "f8ed8efd4eaf4dd8a30a67dd4382a7d1",
       "version_major": 2,
       "version_minor": 0
      },
      "text/plain": [
       "HBox(children=(IntProgress(value=0, max=1047815), HTML(value='')))"
      ]
     },
     "metadata": {},
     "output_type": "display_data"
    },
    {
     "name": "stdout",
     "output_type": "stream",
     "text": [
      "\n"
     ]
    },
    {
     "data": {
      "application/vnd.jupyter.widget-view+json": {
       "model_id": "d9b58c3aafb842a98bdde299943208dd",
       "version_major": 2,
       "version_minor": 0
      },
      "text/plain": [
       "HBox(children=(IntProgress(value=0, max=1047815), HTML(value='')))"
      ]
     },
     "metadata": {},
     "output_type": "display_data"
    },
    {
     "name": "stdout",
     "output_type": "stream",
     "text": [
      "\n",
      "\n"
     ]
    }
   ],
   "source": [
    "run_up_to2(b4, recall_threshold=.9, sample_threshold=1000000)"
   ]
  },
  {
   "cell_type": "code",
   "execution_count": 26,
   "metadata": {
    "ExecuteTime": {
     "end_time": "2020-03-23T20:01:58.455088Z",
     "start_time": "2020-03-23T20:01:58.324285Z"
    }
   },
   "outputs": [],
   "source": [
    "res13 = get_results(b4).assign(dataset='dashcam', method='SpNoFlow')"
   ]
  },
  {
   "cell_type": "code",
   "execution_count": 58,
   "metadata": {
    "ExecuteTime": {
     "end_time": "2019-10-29T20:35:29.972297Z",
     "start_time": "2019-10-29T20:35:29.943185Z"
    }
   },
   "outputs": [],
   "source": [
    "#res10 = res10.assign(method=res10.method.map(lambda x: 'bestdim0' if x.startswith('NN_desc0') else 'LRbestdim'))"
   ]
  },
  {
   "cell_type": "code",
   "execution_count": 161,
   "metadata": {
    "ExecuteTime": {
     "end_time": "2019-10-30T00:32:09.392808Z",
     "start_time": "2019-10-30T00:32:09.151108Z"
    }
   },
   "outputs": [],
   "source": [
    "#avd = VideoDataset('/nvme_drive/orm/results10/videos/dashcam_unified_ng_kf20_full.mp4')"
   ]
  },
  {
   "cell_type": "code",
   "execution_count": 111,
   "metadata": {
    "ExecuteTime": {
     "end_time": "2019-10-29T20:44:34.504768Z",
     "start_time": "2019-10-29T20:44:34.490860Z"
    }
   },
   "outputs": [],
   "source": [
    "#res10f = res10[res10.method == 'LRbestdim'].assign(dataset='dashcam')"
   ]
  },
  {
   "cell_type": "code",
   "execution_count": 27,
   "metadata": {
    "ExecuteTime": {
     "end_time": "2020-03-23T20:02:03.425042Z",
     "start_time": "2020-03-23T20:02:03.395202Z"
    }
   },
   "outputs": [
    {
     "ename": "NameError",
     "evalue": "name 'bar_data' is not defined",
     "output_type": "error",
     "traceback": [
      "\u001b[0;31m---------------------------------------------------------------------------\u001b[0m",
      "\u001b[0;31mNameError\u001b[0m                                 Traceback (most recent call last)",
      "\u001b[0;32m<ipython-input-27-897027292840>\u001b[0m in \u001b[0;36m<module>\u001b[0;34m\u001b[0m\n\u001b[1;32m      1\u001b[0m \u001b[0;31m#bar_data = pd.concat([res10f, bar_data], sort=True)\u001b[0m\u001b[0;34m\u001b[0m\u001b[0;34m\u001b[0m\u001b[0m\n\u001b[0;32m----> 2\u001b[0;31m \u001b[0mplot_results\u001b[0m\u001b[0;34m(\u001b[0m\u001b[0mpd\u001b[0m\u001b[0;34m.\u001b[0m\u001b[0mconcat\u001b[0m\u001b[0;34m(\u001b[0m\u001b[0;34m[\u001b[0m\u001b[0mbar_data\u001b[0m\u001b[0;34m[\u001b[0m\u001b[0mbar_data\u001b[0m\u001b[0;34m.\u001b[0m\u001b[0mmethod\u001b[0m\u001b[0;34m.\u001b[0m\u001b[0misin\u001b[0m\u001b[0;34m(\u001b[0m\u001b[0;34m'random'\u001b[0m\u001b[0;34m)\u001b[0m\u001b[0;34m]\u001b[0m\u001b[0;34m,\u001b[0m\u001b[0mres13\u001b[0m\u001b[0;34m]\u001b[0m\u001b[0;34m)\u001b[0m\u001b[0;34m,\u001b[0m \u001b[0mmax_frame_f\u001b[0m\u001b[0;34m=\u001b[0m\u001b[0;36m.05\u001b[0m\u001b[0;34m)\u001b[0m\u001b[0;34m.\u001b[0m\u001b[0minteractive\u001b[0m\u001b[0;34m(\u001b[0m\u001b[0;34m)\u001b[0m\u001b[0;34m\u001b[0m\u001b[0m\n\u001b[0m\u001b[1;32m      3\u001b[0m \u001b[0;31m#bar_data = bar_data[0]\u001b[0m\u001b[0;34m\u001b[0m\u001b[0;34m\u001b[0m\u001b[0m\n",
      "\u001b[0;31mNameError\u001b[0m: name 'bar_data' is not defined"
     ]
    }
   ],
   "source": [
    "#bar_data = pd.concat([res10f, bar_data], sort=True)\n",
    "plot_results(pd.concat([bar_data[bar_data.method.isin('random')],res13]), max_frame_f=.05).interactive()\n",
    "#bar_data = bar_data[0]"
   ]
  },
  {
   "cell_type": "code",
   "execution_count": 40,
   "metadata": {
    "ExecuteTime": {
     "end_time": "2020-03-23T20:03:47.392173Z",
     "start_time": "2020-03-23T20:03:47.376162Z"
    }
   },
   "outputs": [],
   "source": [
    "import scipy.stats\n",
    "def savings_at(all_res, ni=None, instance_f=None, agg=scipy.stats.gmean, rel=None, agg_min=5, compare='nf'):\n",
    "    all_res = all_res.sort_values(['dataset', 'object_class', 'method', 'nf', 'ni'])\n",
    "    all_methods = all_res.method.unique()\n",
    "\n",
    "    if ni is not None:\n",
    "        pred = all_res.ni >= ni\n",
    "    elif instance_f is not None:\n",
    "        pred = all_res.instance_f >= instance_f\n",
    "    else:\n",
    "        assert False\n",
    "\n",
    "    fst = all_res[pred].groupby(['dataset', 'object_class', 'method', 'sampler_id'])[compare].min().reset_index()\n",
    "    \n",
    "    if rel is not None:    \n",
    "        res_rel = fst[fst.method == rel]\n",
    "        baselines = res_rel.groupby(['dataset','object_class'])[compare].median().rename('baseline')    \n",
    "        fst_wbase = pd.merge(fst, baselines, how='left', left_on=['dataset','object_class'], right_index=True)\n",
    "        fst_wbase['savings'] = fst_wbase['baseline']/fst_wbase[compare]\n",
    "        compare = 'savings'\n",
    "\n",
    "    if agg is not None:\n",
    "        gp = fst.groupby(['dataset', 'object_class', 'method'])[compare]\n",
    "        gmeans = gp.agg(agg).unstack('method')\n",
    "        tot= gp.size().unstack('method')\n",
    "\n",
    "        if rel is not None:\n",
    "            gm = gmeans.apply(lambda x: old_div(gmeans[rel], x))\n",
    "            #gm[rel] = gmeans[rel]\n",
    "        else:\n",
    "            gm = gmeans\n",
    "\n",
    "        #order = ['video_bandit', 'gt_bandit', 'lsb', '1fps','random', 'noscope(inf)']\n",
    "        for m in all_methods:\n",
    "            if m not in gm.columns:\n",
    "                gm[m] = -np.inf\n",
    "\n",
    "        #order = [o for o in order if o in gm.columns]\n",
    "        return gm[tot >= agg_min].style.format('{:.1f}').background_gradient(axis=1)\n",
    "    else:\n",
    "        return fst_wbase"
   ]
  },
  {
   "cell_type": "code",
   "execution_count": 374,
   "metadata": {
    "ExecuteTime": {
     "end_time": "2019-10-16T15:26:21.742409Z",
     "start_time": "2019-10-16T15:26:21.475609Z"
    }
   },
   "outputs": [],
   "source": [
    "#res5.assign(dataset='dashcam').to_parquet('/nvme_drive/orm/sigmod_eval_sec2_v3_single_run.parquet')"
   ]
  },
  {
   "cell_type": "code",
   "execution_count": 35,
   "metadata": {
    "ExecuteTime": {
     "end_time": "2019-10-17T16:46:25.399044Z",
     "start_time": "2019-10-17T16:46:25.288580Z"
    }
   },
   "outputs": [],
   "source": [
    "# new_dash = pd.read_parquet('/nvme_drive/orm/sigmod_eval_sec2_v3_single_run.parquet')\n",
    "# new_square = pd.read_parquet('/nvme_drive/orm/sigmod_eval_sec2_v3_square_single_run.parquet')\n",
    "\n",
    "#res_now3 = pd.read_parquet('/nvme_drive/orm/sigmod_eval_sec2_v2.parquet')"
   ]
  },
  {
   "cell_type": "code",
   "execution_count": 138,
   "metadata": {
    "ExecuteTime": {
     "end_time": "2019-10-17T17:45:59.459018Z",
     "start_time": "2019-10-17T17:45:59.390646Z"
    }
   },
   "outputs": [],
   "source": [
    "#prev_ok = res_now[res_now.object_class != 'parking meter']"
   ]
  },
  {
   "cell_type": "code",
   "execution_count": 146,
   "metadata": {
    "ExecuteTime": {
     "end_time": "2019-10-17T17:47:39.071401Z",
     "start_time": "2019-10-17T17:47:38.988239Z"
    }
   },
   "outputs": [],
   "source": [
    "#res_now = pd.concat([prev_ok, res5], sort=False)"
   ]
  },
  {
   "cell_type": "code",
   "execution_count": 44,
   "metadata": {
    "ExecuteTime": {
     "end_time": "2019-11-04T15:36:23.988690Z",
     "start_time": "2019-11-04T15:36:23.982402Z"
    }
   },
   "outputs": [],
   "source": [
    "res12 = res12.assign(method='SpLoss')"
   ]
  },
  {
   "cell_type": "code",
   "execution_count": 28,
   "metadata": {
    "ExecuteTime": {
     "end_time": "2020-03-23T20:02:47.400288Z",
     "start_time": "2020-03-23T20:02:47.332853Z"
    }
   },
   "outputs": [],
   "source": [
    "res_now = pd.read_parquet('/nvme_drive/orm/sigmod_eval_res_checkpoint.parquet')\n",
    "bar_data = res_now\n",
    "#bar_data  = pd.concat([res12, bar_data], sort=True)"
   ]
  },
  {
   "cell_type": "code",
   "execution_count": 29,
   "metadata": {
    "ExecuteTime": {
     "end_time": "2020-03-23T20:02:49.169896Z",
     "start_time": "2020-03-23T20:02:49.152267Z"
    }
   },
   "outputs": [
    {
     "data": {
      "text/plain": [
       "array(['blz0', 'blz1', 'blz2', 'random+', 'random', 'this_work',\n",
       "       'this work', 'unique', 'NN_desc', 'NN', 'NN+', 'NN score'],\n",
       "      dtype=object)"
      ]
     },
     "execution_count": 29,
     "metadata": {},
     "output_type": "execute_result"
    }
   ],
   "source": [
    "bar_data.method.unique()"
   ]
  },
  {
   "cell_type": "code",
   "execution_count": 30,
   "metadata": {
    "ExecuteTime": {
     "end_time": "2020-03-23T20:03:04.311126Z",
     "start_time": "2020-03-23T20:03:04.206146Z"
    }
   },
   "outputs": [],
   "source": [
    "def rnfn(k):\n",
    "    d = {'this_work':'this work',\n",
    "         'NN_desc':'NN score',\n",
    "        'blz0':'NN score',\n",
    "        'blz1':'BlazeIt',\n",
    "         'NN':'BlazeIt',\n",
    "        'blz2':'NN+',\n",
    "        'NN_score': 'NN score'}\n",
    "\n",
    "    return d[k] if k in d else k\n",
    "\n",
    "#median_savings = cdat[['dataset','recall','method','object_class','savings', 'metric']]\n",
    "#ms = median_savings\n",
    "bar_data = bar_data.assign(method=bar_data.method.map(rnfn))\n",
    "#bar_data = bar_data.assign(method=bar_data.method.map(rnfn))"
   ]
  },
  {
   "cell_type": "code",
   "execution_count": 32,
   "metadata": {
    "ExecuteTime": {
     "end_time": "2020-03-23T20:03:10.396614Z",
     "start_time": "2020-03-23T20:03:10.393218Z"
    }
   },
   "outputs": [],
   "source": [
    "#bar_data.method.isin(['LRbestdim']).any()"
   ]
  },
  {
   "cell_type": "code",
   "execution_count": 33,
   "metadata": {
    "ExecuteTime": {
     "end_time": "2020-03-23T20:03:19.793798Z",
     "start_time": "2020-03-23T20:03:19.713949Z"
    }
   },
   "outputs": [],
   "source": [
    "bar_data = bar_data[bar_data.method.isin(['BlazeIt','this work','random+','random', 'LRbestdim', 'SpLoss'])]\n",
    "bar_data = bar_data[bar_data.object_class != 'parking meter']\n",
    "bar_data = bar_data[bar_data.dataset == 'dashcam']"
   ]
  },
  {
   "cell_type": "code",
   "execution_count": 34,
   "metadata": {
    "ExecuteTime": {
     "end_time": "2020-03-23T20:03:20.817005Z",
     "start_time": "2020-03-23T20:03:20.806749Z"
    }
   },
   "outputs": [
    {
     "data": {
      "text/plain": [
       "array(['BlazeIt', 'random+', 'random', 'this work'], dtype=object)"
      ]
     },
     "execution_count": 34,
     "metadata": {},
     "output_type": "execute_result"
    }
   ],
   "source": [
    "bar_data.method.unique()"
   ]
  },
  {
   "cell_type": "code",
   "execution_count": 35,
   "metadata": {
    "ExecuteTime": {
     "end_time": "2020-03-23T20:03:36.563353Z",
     "start_time": "2020-03-23T20:03:36.548470Z"
    }
   },
   "outputs": [],
   "source": [
    "ests = pd.read_parquet('time_estimates_101_2.parquet')\n",
    "def merge_ests(bar_data, ests):\n",
    "    throughputs = ests[ests.phase == 'sample'].set_index(['dataset','phase']).xput.unstack(level=1)\n",
    "    fixed_costs = ests[ests.phase != 'sample'].set_index(['dataset','phase']).est_seconds.unstack(level=1)\n",
    "    costs = fixed_costs.assign(sample_xput=throughputs['sample'])\n",
    "    bmerge = pd.merge(bar_data, costs, left_on=['dataset'], right_index=True)\n",
    "    \n",
    "    bmerge = bmerge.assign(overhead=(bmerge.score + bmerge.train + bmerge.label)*bmerge.method.isin(['BlazeIt']),\n",
    "             sample_time=(bmerge.nf/bmerge.sample_xput))\n",
    "    bmerge = bmerge.assign(total_time=bmerge.overhead +  bmerge.sample_time)\n",
    "    return bmerge"
   ]
  },
  {
   "cell_type": "code",
   "execution_count": 36,
   "metadata": {
    "ExecuteTime": {
     "end_time": "2020-03-23T20:03:37.530984Z",
     "start_time": "2020-03-23T20:03:37.456520Z"
    }
   },
   "outputs": [],
   "source": [
    "bmerge = merge_ests(bar_data, ests)"
   ]
  },
  {
   "cell_type": "code",
   "execution_count": 37,
   "metadata": {
    "ExecuteTime": {
     "end_time": "2020-03-23T20:03:39.687713Z",
     "start_time": "2020-03-23T20:03:39.663611Z"
    }
   },
   "outputs": [],
   "source": [
    "def recall_cdat(bmerge):\n",
    "    dat = []\n",
    "    for insf in list([.1, .5, .9]):\n",
    "        tmp2 = savings_at(bmerge, instance_f=insf, agg=None, compare='total_time', rel='random+')\n",
    "        tmp3 = tmp2.assign(recall=insf)\n",
    "        dat.append(tmp3)\n",
    "\n",
    "    cdat = pd.concat(dat).assign(metric='time savings')\n",
    "\n",
    "\n",
    "    dat = []\n",
    "    for insf in list([.1, .5, .9]):\n",
    "        tmp2 = savings_at(bmerge, instance_f=insf, agg=None, compare='nf', rel='random+')\n",
    "        tmp3 = tmp2.assign(recall=insf)\n",
    "        dat.append(tmp3)\n",
    "\n",
    "    cdat2 = pd.concat(dat).assign(metric='savings in frames')\n",
    "    return pd.concat([cdat, cdat2], sort=True)\n",
    "    \n",
    "def count_cdat(bmerge):\n",
    "    dat = []\n",
    "    ls = [5,10,50]\n",
    "    for insf in list(ls):\n",
    "        tmp2 = savings_at(bmerge, ni=insf, agg=None, compare='total_time', rel='random+')\n",
    "        tmp3 = tmp2.assign(recall=insf)\n",
    "        dat.append(tmp3)\n",
    "\n",
    "    cdat = pd.concat(dat).assign(metric='elapsed time')\n",
    "\n",
    "\n",
    "    dat = []\n",
    "    for insf in list(ls):\n",
    "        tmp2 = savings_at(bmerge, ni=insf, agg=None, rel='random+')\n",
    "        tmp3 = tmp2.assign(recall=insf)\n",
    "        dat.append(tmp3)\n",
    "\n",
    "    cdat2 = pd.concat(dat).assign(metric='frames processed')\n",
    "    return pd.concat([cdat, cdat2], sort=True)\n",
    "\n",
    "\n",
    "def cleanup(cdat):\n",
    "    from scipy.stats  import gmean\n",
    "\n",
    "    def rnfn(k):\n",
    "        d = {'this_work':'this work',\n",
    "             'NN_desc':'NN score',\n",
    "            'blz0':'NN score',\n",
    "            'blz1':'BlazeIt',\n",
    "             'NN':'BlazeIt',\n",
    "            'blz2':'NN+',\n",
    "            'NN_score': 'NN score'}\n",
    "\n",
    "        return d[k] if k in d else k\n",
    "\n",
    "    median_savings = cdat[['dataset','recall','method','object_class','savings', 'metric']]\n",
    "    ms = median_savings\n",
    "    ms = ms.assign(method=ms.method.map(rnfn))\n",
    "    ms = ms[ms.method.isin(['this work', \n",
    "                            #'NN score',\n",
    "                            'LRbestdim',\n",
    "                            'random', \n",
    "                            'BlazeIt',\n",
    "                            'SpLoss'\n",
    "                           ])]\n",
    "    ms = (ms.groupby(['dataset', 'recall', 'method', 'object_class', 'metric'])\n",
    "            .savings.agg(q2=lambda a : scipy.quantile(a, q=.2),\n",
    "                        q8=lambda a : scipy.quantile(a, q=.8),\n",
    "                      q5=lambda a : scipy.quantile(a, q=.5))\n",
    "         ).reset_index()\n",
    "\n",
    "    gmn = (ms.groupby(['dataset', 'method', 'recall', 'metric'])\n",
    "           .q5.agg(gmean).reset_index().assign(object_class='geomean')\n",
    "          )\n",
    "\n",
    "    gms = pd.concat([ms, gmn], sort=True) #median_savings.assign(object_class=short_class)\n",
    "\n",
    "    oc =  (gms.groupby(['dataset', 'method', 'object_class', 'metric'])\n",
    "            .q5.agg(gmean).reset_index().assign(recall='geomean'))\n",
    "    oc = oc.assign(is_geomean=(oc.object_class=='geomean'))\n",
    "    order_by_savings = oc[oc.method.isin(['this work']) & \n",
    "                         (oc.metric == 'savings in frames')].sort_values(['dataset','is_geomean','q5'], ascending=False)\n",
    "    do_order_type = pd.CategoricalDtype(order_by_savings[['dataset', 'object_class']].apply(tuple, axis=1).values)\n",
    "    ok = pd.Categorical(gms[['dataset','object_class']].apply(tuple,axis=1), dtype=do_order_type)\n",
    "    gms = gms.assign(order_key=ok)\n",
    "    return gms"
   ]
  },
  {
   "cell_type": "code",
   "execution_count": 38,
   "metadata": {
    "ExecuteTime": {
     "end_time": "2020-03-23T20:03:40.875651Z",
     "start_time": "2020-03-23T20:03:40.865363Z"
    }
   },
   "outputs": [
    {
     "data": {
      "text/plain": [
       "array(['BlazeIt', 'random+', 'random', 'this work'], dtype=object)"
      ]
     },
     "execution_count": 38,
     "metadata": {},
     "output_type": "execute_result"
    }
   ],
   "source": [
    "bmerge.method.unique()"
   ]
  },
  {
   "cell_type": "code",
   "execution_count": 41,
   "metadata": {
    "ExecuteTime": {
     "end_time": "2020-03-23T20:03:53.614073Z",
     "start_time": "2020-03-23T20:03:53.355947Z"
    }
   },
   "outputs": [],
   "source": [
    "cdat = recall_cdat(bmerge)"
   ]
  },
  {
   "cell_type": "code",
   "execution_count": 42,
   "metadata": {
    "ExecuteTime": {
     "end_time": "2020-03-23T20:03:55.765135Z",
     "start_time": "2020-03-23T20:03:55.652170Z"
    }
   },
   "outputs": [],
   "source": [
    "gms = cleanup(cdat)"
   ]
  },
  {
   "cell_type": "code",
   "execution_count": 43,
   "metadata": {
    "ExecuteTime": {
     "end_time": "2020-03-23T20:03:56.597747Z",
     "start_time": "2020-03-23T20:03:56.591753Z"
    }
   },
   "outputs": [
    {
     "data": {
      "text/plain": [
       "array(['BlazeIt', 'random', 'this work'], dtype=object)"
      ]
     },
     "execution_count": 43,
     "metadata": {},
     "output_type": "execute_result"
    }
   ],
   "source": [
    "gms.method.unique()"
   ]
  },
  {
   "cell_type": "code",
   "execution_count": 44,
   "metadata": {
    "ExecuteTime": {
     "end_time": "2020-03-23T20:04:02.264463Z",
     "start_time": "2020-03-23T20:04:02.258131Z"
    }
   },
   "outputs": [],
   "source": [
    "frms = gms[gms.metric == 'savings in frames']"
   ]
  },
  {
   "cell_type": "code",
   "execution_count": 45,
   "metadata": {
    "ExecuteTime": {
     "end_time": "2020-03-23T20:04:02.525942Z",
     "start_time": "2020-03-23T20:04:02.519720Z"
    }
   },
   "outputs": [],
   "source": [
    "times = gms[gms.metric == 'time savings']"
   ]
  },
  {
   "cell_type": "code",
   "execution_count": 46,
   "metadata": {
    "ExecuteTime": {
     "end_time": "2020-03-23T20:04:06.557836Z",
     "start_time": "2020-03-23T20:04:06.542042Z"
    }
   },
   "outputs": [],
   "source": [
    "sidebyside = times.groupby(['object_class', 'recall', 'method']).q5.max().unstack(level=2).reset_index()"
   ]
  },
  {
   "cell_type": "code",
   "execution_count": 47,
   "metadata": {
    "ExecuteTime": {
     "end_time": "2020-03-23T20:04:06.797046Z",
     "start_time": "2020-03-23T20:04:06.790363Z"
    }
   },
   "outputs": [],
   "source": [
    "sbs = sidebyside.assign(ratio=sidebyside['this work']/sidebyside['BlazeIt'])"
   ]
  },
  {
   "cell_type": "code",
   "execution_count": 48,
   "metadata": {
    "ExecuteTime": {
     "end_time": "2020-03-23T20:04:07.629132Z",
     "start_time": "2020-03-23T20:04:07.622378Z"
    }
   },
   "outputs": [],
   "source": [
    "obs_only=sbs[sbs.object_class != 'geomean']"
   ]
  },
  {
   "cell_type": "code",
   "execution_count": 55,
   "metadata": {
    "ExecuteTime": {
     "end_time": "2020-03-23T20:05:17.559411Z",
     "start_time": "2020-03-23T20:05:17.552757Z"
    }
   },
   "outputs": [],
   "source": [
    "gmean_only=sbs[sbs.object_class == 'geomean']"
   ]
  },
  {
   "cell_type": "code",
   "execution_count": 49,
   "metadata": {
    "ExecuteTime": {
     "end_time": "2020-03-23T20:04:15.749000Z",
     "start_time": "2020-03-23T20:04:15.619695Z"
    }
   },
   "outputs": [
    {
     "data": {
      "text/html": [
       "<style  type=\"text/css\" >\n",
       "    #T_78ee132c_6d41_11ea_8ccb_3497f65a40f9row2_col2 {\n",
       "            background-color:  yellow;\n",
       "        }    #T_78ee132c_6d41_11ea_8ccb_3497f65a40f9row2_col5 {\n",
       "            background-color:  yellow;\n",
       "        }    #T_78ee132c_6d41_11ea_8ccb_3497f65a40f9row3_col0 {\n",
       "            background-color:  yellow;\n",
       "        }    #T_78ee132c_6d41_11ea_8ccb_3497f65a40f9row3_col1 {\n",
       "            background-color:  yellow;\n",
       "        }    #T_78ee132c_6d41_11ea_8ccb_3497f65a40f9row3_col3 {\n",
       "            background-color:  yellow;\n",
       "        }    #T_78ee132c_6d41_11ea_8ccb_3497f65a40f9row3_col4 {\n",
       "            background-color:  yellow;\n",
       "        }</style><table id=\"T_78ee132c_6d41_11ea_8ccb_3497f65a40f9\" ><thead>    <tr>        <th class=\"index_name level0\" >method</th>        <th class=\"col_heading level0 col0\" colspan=3>vs random</th>        <th class=\"col_heading level0 col3\" colspan=3>vs BlazeIt</th>    </tr>    <tr>        <th class=\"index_name level1\" >recall</th>        <th class=\"col_heading level1 col0\" >0.1</th>        <th class=\"col_heading level1 col1\" >0.5</th>        <th class=\"col_heading level1 col2\" >0.9</th>        <th class=\"col_heading level1 col3\" >0.1</th>        <th class=\"col_heading level1 col4\" >0.5</th>        <th class=\"col_heading level1 col5\" >0.9</th>    </tr>    <tr>        <th class=\"index_name level0\" >object_class</th>        <th class=\"blank\" ></th>        <th class=\"blank\" ></th>        <th class=\"blank\" ></th>        <th class=\"blank\" ></th>        <th class=\"blank\" ></th>        <th class=\"blank\" ></th>    </tr></thead><tbody>\n",
       "                <tr>\n",
       "                        <th id=\"T_78ee132c_6d41_11ea_8ccb_3497f65a40f9level0_row0\" class=\"row_heading level0 row0\" >bicycle</th>\n",
       "                        <td id=\"T_78ee132c_6d41_11ea_8ccb_3497f65a40f9row0_col0\" class=\"data row0 col0\" >3.12</td>\n",
       "                        <td id=\"T_78ee132c_6d41_11ea_8ccb_3497f65a40f9row0_col1\" class=\"data row0 col1\" >3.73009</td>\n",
       "                        <td id=\"T_78ee132c_6d41_11ea_8ccb_3497f65a40f9row0_col2\" class=\"data row0 col2\" >2.81562</td>\n",
       "                        <td id=\"T_78ee132c_6d41_11ea_8ccb_3497f65a40f9row0_col3\" class=\"data row0 col3\" >201.834</td>\n",
       "                        <td id=\"T_78ee132c_6d41_11ea_8ccb_3497f65a40f9row0_col4\" class=\"data row0 col4\" >25.1365</td>\n",
       "                        <td id=\"T_78ee132c_6d41_11ea_8ccb_3497f65a40f9row0_col5\" class=\"data row0 col5\" >5.2215</td>\n",
       "            </tr>\n",
       "            <tr>\n",
       "                        <th id=\"T_78ee132c_6d41_11ea_8ccb_3497f65a40f9level0_row1\" class=\"row_heading level0 row1\" >bus</th>\n",
       "                        <td id=\"T_78ee132c_6d41_11ea_8ccb_3497f65a40f9row1_col0\" class=\"data row1 col0\" >1.94444</td>\n",
       "                        <td id=\"T_78ee132c_6d41_11ea_8ccb_3497f65a40f9row1_col1\" class=\"data row1 col1\" >1.36604</td>\n",
       "                        <td id=\"T_78ee132c_6d41_11ea_8ccb_3497f65a40f9row1_col2\" class=\"data row1 col2\" >1.02878</td>\n",
       "                        <td id=\"T_78ee132c_6d41_11ea_8ccb_3497f65a40f9row1_col3\" class=\"data row1 col3\" >142.496</td>\n",
       "                        <td id=\"T_78ee132c_6d41_11ea_8ccb_3497f65a40f9row1_col4\" class=\"data row1 col4\" >7.08694</td>\n",
       "                        <td id=\"T_78ee132c_6d41_11ea_8ccb_3497f65a40f9row1_col5\" class=\"data row1 col5\" >2.09759</td>\n",
       "            </tr>\n",
       "            <tr>\n",
       "                        <th id=\"T_78ee132c_6d41_11ea_8ccb_3497f65a40f9level0_row2\" class=\"row_heading level0 row2\" >fire hydrant</th>\n",
       "                        <td id=\"T_78ee132c_6d41_11ea_8ccb_3497f65a40f9row2_col0\" class=\"data row2 col0\" >3.54902</td>\n",
       "                        <td id=\"T_78ee132c_6d41_11ea_8ccb_3497f65a40f9row2_col1\" class=\"data row2 col1\" >2.54378</td>\n",
       "                        <td id=\"T_78ee132c_6d41_11ea_8ccb_3497f65a40f9row2_col2\" class=\"data row2 col2\" >2.90909</td>\n",
       "                        <td id=\"T_78ee132c_6d41_11ea_8ccb_3497f65a40f9row2_col3\" class=\"data row2 col3\" >99.8599</td>\n",
       "                        <td id=\"T_78ee132c_6d41_11ea_8ccb_3497f65a40f9row2_col4\" class=\"data row2 col4\" >14.8038</td>\n",
       "                        <td id=\"T_78ee132c_6d41_11ea_8ccb_3497f65a40f9row2_col5\" class=\"data row2 col5\" >6.63381</td>\n",
       "            </tr>\n",
       "            <tr>\n",
       "                        <th id=\"T_78ee132c_6d41_11ea_8ccb_3497f65a40f9level0_row3\" class=\"row_heading level0 row3\" >person</th>\n",
       "                        <td id=\"T_78ee132c_6d41_11ea_8ccb_3497f65a40f9row3_col0\" class=\"data row3 col0\" >5.33333</td>\n",
       "                        <td id=\"T_78ee132c_6d41_11ea_8ccb_3497f65a40f9row3_col1\" class=\"data row3 col1\" >4.50641</td>\n",
       "                        <td id=\"T_78ee132c_6d41_11ea_8ccb_3497f65a40f9row3_col2\" class=\"data row3 col2\" >2.40162</td>\n",
       "                        <td id=\"T_78ee132c_6d41_11ea_8ccb_3497f65a40f9row3_col3\" class=\"data row3 col3\" >420.988</td>\n",
       "                        <td id=\"T_78ee132c_6d41_11ea_8ccb_3497f65a40f9row3_col4\" class=\"data row3 col4\" >36.3709</td>\n",
       "                        <td id=\"T_78ee132c_6d41_11ea_8ccb_3497f65a40f9row3_col5\" class=\"data row3 col5\" >4.82658</td>\n",
       "            </tr>\n",
       "            <tr>\n",
       "                        <th id=\"T_78ee132c_6d41_11ea_8ccb_3497f65a40f9level0_row4\" class=\"row_heading level0 row4\" >stop sign</th>\n",
       "                        <td id=\"T_78ee132c_6d41_11ea_8ccb_3497f65a40f9row4_col0\" class=\"data row4 col0\" >3.10345</td>\n",
       "                        <td id=\"T_78ee132c_6d41_11ea_8ccb_3497f65a40f9row4_col1\" class=\"data row4 col1\" >2.01733</td>\n",
       "                        <td id=\"T_78ee132c_6d41_11ea_8ccb_3497f65a40f9row4_col2\" class=\"data row4 col2\" >1.51444</td>\n",
       "                        <td id=\"T_78ee132c_6d41_11ea_8ccb_3497f65a40f9row4_col3\" class=\"data row4 col3\" >174.443</td>\n",
       "                        <td id=\"T_78ee132c_6d41_11ea_8ccb_3497f65a40f9row4_col4\" class=\"data row4 col4\" >10.9027</td>\n",
       "                        <td id=\"T_78ee132c_6d41_11ea_8ccb_3497f65a40f9row4_col5\" class=\"data row4 col5\" >3.36947</td>\n",
       "            </tr>\n",
       "            <tr>\n",
       "                        <th id=\"T_78ee132c_6d41_11ea_8ccb_3497f65a40f9level0_row5\" class=\"row_heading level0 row5\" >traffic light</th>\n",
       "                        <td id=\"T_78ee132c_6d41_11ea_8ccb_3497f65a40f9row5_col0\" class=\"data row5 col0\" >2.73333</td>\n",
       "                        <td id=\"T_78ee132c_6d41_11ea_8ccb_3497f65a40f9row5_col1\" class=\"data row5 col1\" >3.34934</td>\n",
       "                        <td id=\"T_78ee132c_6d41_11ea_8ccb_3497f65a40f9row5_col2\" class=\"data row5 col2\" >2.5932</td>\n",
       "                        <td id=\"T_78ee132c_6d41_11ea_8ccb_3497f65a40f9row5_col3\" class=\"data row5 col3\" >336.924</td>\n",
       "                        <td id=\"T_78ee132c_6d41_11ea_8ccb_3497f65a40f9row5_col4\" class=\"data row5 col4\" >25.0256</td>\n",
       "                        <td id=\"T_78ee132c_6d41_11ea_8ccb_3497f65a40f9row5_col5\" class=\"data row5 col5\" >5.3224</td>\n",
       "            </tr>\n",
       "            <tr>\n",
       "                        <th id=\"T_78ee132c_6d41_11ea_8ccb_3497f65a40f9level0_row6\" class=\"row_heading level0 row6\" >truck</th>\n",
       "                        <td id=\"T_78ee132c_6d41_11ea_8ccb_3497f65a40f9row6_col0\" class=\"data row6 col0\" >1.55224</td>\n",
       "                        <td id=\"T_78ee132c_6d41_11ea_8ccb_3497f65a40f9row6_col1\" class=\"data row6 col1\" >1.34091</td>\n",
       "                        <td id=\"T_78ee132c_6d41_11ea_8ccb_3497f65a40f9row6_col2\" class=\"data row6 col2\" >1.12871</td>\n",
       "                        <td id=\"T_78ee132c_6d41_11ea_8ccb_3497f65a40f9row6_col3\" class=\"data row6 col3\" >76.6695</td>\n",
       "                        <td id=\"T_78ee132c_6d41_11ea_8ccb_3497f65a40f9row6_col4\" class=\"data row6 col4\" >7.51777</td>\n",
       "                        <td id=\"T_78ee132c_6d41_11ea_8ccb_3497f65a40f9row6_col5\" class=\"data row6 col5\" >2.33556</td>\n",
       "            </tr>\n",
       "    </tbody></table>"
      ],
      "text/plain": [
       "<pandas.io.formats.style.Styler at 0x7f5895cb2ac8>"
      ]
     },
     "execution_count": 49,
     "metadata": {},
     "output_type": "execute_result"
    }
   ],
   "source": [
    "x = (obs_only.set_index(['recall', 'object_class'])[['this work', 'ratio']]\n",
    ".rename({'this work':'vs random', 'ratio':'vs BlazeIt'}, axis=1)).unstack(0)\n",
    "x.style.highlight_max()"
   ]
  },
  {
   "cell_type": "code",
   "execution_count": 51,
   "metadata": {
    "ExecuteTime": {
     "end_time": "2020-03-23T20:04:41.626292Z",
     "start_time": "2020-03-23T20:04:41.622218Z"
    }
   },
   "outputs": [],
   "source": [
    "from scipy.stats import gmean"
   ]
  },
  {
   "cell_type": "code",
   "execution_count": 52,
   "metadata": {
    "ExecuteTime": {
     "end_time": "2020-03-23T20:04:42.212063Z",
     "start_time": "2020-03-23T20:04:42.201800Z"
    }
   },
   "outputs": [
    {
     "data": {
      "text/plain": [
       "method\n",
       "this work     2.366442\n",
       "ratio        22.015122\n",
       "dtype: float64"
      ]
     },
     "execution_count": 52,
     "metadata": {},
     "output_type": "execute_result"
    }
   ],
   "source": [
    "obs_only[['this work','ratio']].apply(gmean,axis=0)"
   ]
  },
  {
   "cell_type": "code",
   "execution_count": 53,
   "metadata": {
    "ExecuteTime": {
     "end_time": "2020-03-23T20:04:45.909857Z",
     "start_time": "2020-03-23T20:04:45.902673Z"
    }
   },
   "outputs": [
    {
     "data": {
      "text/plain": [
       "method      recall\n",
       "vs random   0.1         2.845914\n",
       "            0.5         2.449571\n",
       "            0.9         1.900971\n",
       "vs BlazeIt  0.1       177.026424\n",
       "            0.5        15.305327\n",
       "            0.9         3.938062\n",
       "dtype: float64"
      ]
     },
     "execution_count": 53,
     "metadata": {},
     "output_type": "execute_result"
    }
   ],
   "source": [
    " x.apply(gmean, axis=0)"
   ]
  },
  {
   "cell_type": "code",
   "execution_count": 56,
   "metadata": {
    "ExecuteTime": {
     "end_time": "2020-03-23T20:05:22.633633Z",
     "start_time": "2020-03-23T20:05:22.617880Z"
    }
   },
   "outputs": [
    {
     "data": {
      "text/plain": [
       "method\n",
       "vs random      2.366442\n",
       "vs BlazeIt    22.015122\n",
       "dtype: float64"
      ]
     },
     "execution_count": 56,
     "metadata": {},
     "output_type": "execute_result"
    }
   ],
   "source": [
    "gmean_only.set_index('recall')[['this work', 'ratio']].rename({'this work':'vs random', 'ratio':'vs BlazeIt'}, axis=1).apply(gmean)"
   ]
  },
  {
   "cell_type": "code",
   "execution_count": 57,
   "metadata": {
    "ExecuteTime": {
     "end_time": "2020-03-23T20:05:53.392510Z",
     "start_time": "2020-03-23T20:05:51.580509Z"
    }
   },
   "outputs": [
    {
     "data": {
      "image/png": "[encoded data removed]",
      "text/plain": [
       "<Figure size 525x787.5 with 6 Axes>"
      ]
     },
     "metadata": {},
     "output_type": "display_data"
    },
    {
     "data": {
      "text/plain": [
       "<ggplot: (8751109211084)>"
      ]
     },
     "metadata": {},
     "output_type": "display_data"
    },
    {
     "data": {
      "text/plain": [
       "<Figure size 432x288 with 0 Axes>"
      ]
     },
     "metadata": {},
     "output_type": "display_data"
    }
   ],
   "source": [
    "from plotnine.data import mtcars\n",
    "from plotnine.themes import element_rect\n",
    "import plotnine.scales\n",
    "\n",
    "\n",
    "dodge_text = position_dodge(width=.2)\n",
    "\n",
    "pt = (ggplot()\n",
    "        + geom_bar(gms, \n",
    "                   aes(y='q5', x='order_key', fill='method', fill_alpha=.6),\n",
    "                   stat='identity', position='dodge',\n",
    "                   #fill='#095890', \n",
    "                   show_legend=True)\n",
    "        + geom_hline(mapping=aes(yintercept=1.), data=pd.DataFrame({'hi':[1]}), linetype='dashed')\n",
    "        + facet_grid(['recall', 'metric'], labeller='label_both', scales='free_y')\n",
    "        + scale_y_log10()\n",
    "        + plotnine.labels.ylab('')\n",
    "        + plotnine.labels.xlab('')\n",
    "        + theme(legend_title=element_text(color='#ffffff',size=1),\n",
    "                legend_direction='horizontal',\n",
    "                legend_position='top',\n",
    "                strip_text=element_text(size=13),\n",
    "                axis_text_x=element_text(size=11, angle=90, ha='center'), #  color='#ffffff',size=1.),\n",
    "                axis_title_x=element_text(size=1, alpha=0),\n",
    "                figure_size=(3.5*1.5,1.5*3.5*7.5/5),\n",
    "                legend_margin=0,\n",
    "                panel_spacing_x=0,\n",
    "                panel_spacing_y=0,\n",
    "                legend_box_margin=0,\n",
    "                axis_text_y=element_text(size=13, ha='right'),\n",
    "                legend_text=element_text(size=13),\n",
    "               )\n",
    "\n",
    " )\n",
    "display(pt)\n",
    "\n",
    "mpl.rc('font',**{'family':'sans-serif','sans-serif':['Helvetica'], 'size':10})\n",
    "mpl.rc('text', usetex=True)\n",
    "params= {'text.latex.preamble' : [r'\\usepackage{amsmath}']}\n",
    "\n",
    "\n",
    "def to_frac(text):\n",
    "    lab = text._text\n",
    "    pars = fractions.Decimal(lab)\n",
    "    myfr = fractions.Fraction.from_decimal(pars)\n",
    "    \n",
    "    if myfr.numerator == 0:\n",
    "        return r'$0$'\n",
    "    \n",
    "    inv = 1/myfr\n",
    "    approx = inv.limit_denominator(40)\n",
    "    err = approx - inv\n",
    "    if err.numerator != 0:\n",
    "        rel_err = float(np.abs(err)/inv)\n",
    "        if rel_err > .02:\n",
    "            approx = inv\n",
    "\n",
    "    if approx.denominator == 1:\n",
    "        return r'$%d$' % (approx.numerator)\n",
    "    else:\n",
    "        return r'$\\dfrac{%d}{%d}$' % (approx.numerator, approx.denominator)\n",
    "        \n",
    "#fmt = matplotlib.ticker.FuncFormatter(lambda )#Formatter(StrMethodFormatter(\"{x}\")\n",
    "mpl.pyplot.rcParams.update(params)\n",
    "## for Palatino and other serif fonts use:\n",
    "#rc('font',**{'family':'serif','serif':['Palatino']})\n",
    "\n",
    "import fractions\n",
    "f = plt.gcf()\n",
    "axes = f.get_axes()\n",
    "for (i,ax) in enumerate(axes):\n",
    "    xaxis = ax.xaxis\n",
    "    xaxis.set_tick_params(size=0)\n",
    "    if i < len(axes) - 2:\n",
    "        ax.set_xticks([])\n",
    "    ax.grid(False, axis='x')\n",
    "    #ax.grid(False, which='minor', axis='y')\n",
    "    (m,mx) = xaxis.get_data_interval()\n",
    "    centers = np.arange(np.ceil(m), np.floor(mx)+1)\n",
    "    for (i,c) in enumerate(centers):\n",
    "        if i == 0:\n",
    "            ax.axvspan(c-.5,c+.5, \n",
    "                   color='gray', \n",
    "                   alpha=.4, \n",
    "                   linewidth=2)\n",
    "        else:\n",
    "            ax.axvspan(c-.5,c+.5, \n",
    "                       color='gray', \n",
    "                       alpha=.2 if i % 2 == 0 else .0, \n",
    "                       linewidth=0)\n",
    "f.subplots_adjust(hspace=.25, wspace=.14)\n",
    "\n",
    "f = plt.gcf()\n",
    "for a in f.axes:\n",
    "#    a.xaxis.set_major_formatter(fmt)\n",
    "    #a.yaxis.set_major_formatter(fmt)\n",
    "    labs  = a.get_yticklabels()        \n",
    "    labs2 = list(map(lambda x : x._text, labs))\n",
    "    if len(labs2)>0:\n",
    "        labs2[-1] = labs2[-1] + 'x'\n",
    "    a.set_yticklabels(labs2)\n",
    "    \n",
    "    labsx  = a.get_xticklabels()\n",
    "    def lb(tx):\n",
    "        lx = tx._text.split(\"'\")[-2]\n",
    "        if lx == 'geomean':\n",
    "            return lx #r'{\\bf mean}'\n",
    "        else:\n",
    "            return lx\n",
    "        \n",
    "    labsx = map(lb, labsx)\n",
    "    a.set_xticklabels(list(labsx))\n",
    "\n",
    "    \n",
    "f.savefig('/tmp/sigmod_savings_most_recent.pdf')"
   ]
  },
  {
   "cell_type": "code",
   "execution_count": 523,
   "metadata": {
    "ExecuteTime": {
     "end_time": "2019-10-22T23:10:04.241671Z",
     "start_time": "2019-10-22T23:10:03.901468Z"
    }
   },
   "outputs": [],
   "source": [
    "cdat = recall_cdat(bmerge)"
   ]
  },
  {
   "cell_type": "code",
   "execution_count": 527,
   "metadata": {
    "ExecuteTime": {
     "end_time": "2019-10-22T23:12:01.390145Z",
     "start_time": "2019-10-22T23:12:01.361494Z"
    }
   },
   "outputs": [
    {
     "data": {
      "text/html": [
       "<div>\n",
       "<style scoped>\n",
       "    .dataframe tbody tr th:only-of-type {\n",
       "        vertical-align: middle;\n",
       "    }\n",
       "\n",
       "    .dataframe tbody tr th {\n",
       "        vertical-align: top;\n",
       "    }\n",
       "\n",
       "    .dataframe thead th {\n",
       "        text-align: right;\n",
       "    }\n",
       "</style>\n",
       "<table border=\"1\" class=\"dataframe\">\n",
       "  <thead>\n",
       "    <tr style=\"text-align: right;\">\n",
       "      <th></th>\n",
       "      <th>baseline</th>\n",
       "      <th>dataset</th>\n",
       "      <th>method</th>\n",
       "      <th>metric</th>\n",
       "      <th>nf</th>\n",
       "      <th>object_class</th>\n",
       "      <th>recall</th>\n",
       "      <th>sampler_id</th>\n",
       "      <th>savings</th>\n",
       "      <th>total_time</th>\n",
       "    </tr>\n",
       "  </thead>\n",
       "  <tbody>\n",
       "    <tr>\n",
       "      <td>0</td>\n",
       "      <td>267.957707</td>\n",
       "      <td>dashcam</td>\n",
       "      <td>BlazeIt</td>\n",
       "      <td>time savings</td>\n",
       "      <td>NaN</td>\n",
       "      <td>bicycle</td>\n",
       "      <td>0.1</td>\n",
       "      <td>1571164417645140</td>\n",
       "      <td>0.015458</td>\n",
       "      <td>17334.306066</td>\n",
       "    </tr>\n",
       "    <tr>\n",
       "      <td>1</td>\n",
       "      <td>267.957707</td>\n",
       "      <td>dashcam</td>\n",
       "      <td>random</td>\n",
       "      <td>time savings</td>\n",
       "      <td>NaN</td>\n",
       "      <td>bicycle</td>\n",
       "      <td>0.1</td>\n",
       "      <td>1571164675351647</td>\n",
       "      <td>0.644628</td>\n",
       "      <td>415.677981</td>\n",
       "    </tr>\n",
       "    <tr>\n",
       "      <td>2</td>\n",
       "      <td>267.957707</td>\n",
       "      <td>dashcam</td>\n",
       "      <td>random+</td>\n",
       "      <td>time savings</td>\n",
       "      <td>NaN</td>\n",
       "      <td>bicycle</td>\n",
       "      <td>0.1</td>\n",
       "      <td>1571164674367186</td>\n",
       "      <td>1.000000</td>\n",
       "      <td>267.957707</td>\n",
       "    </tr>\n",
       "    <tr>\n",
       "      <td>3</td>\n",
       "      <td>267.957707</td>\n",
       "      <td>dashcam</td>\n",
       "      <td>this work</td>\n",
       "      <td>time savings</td>\n",
       "      <td>NaN</td>\n",
       "      <td>bicycle</td>\n",
       "      <td>0.1</td>\n",
       "      <td>1571164679162830</td>\n",
       "      <td>3.120000</td>\n",
       "      <td>85.883880</td>\n",
       "    </tr>\n",
       "    <tr>\n",
       "      <td>0</td>\n",
       "      <td>3120.000000</td>\n",
       "      <td>dashcam</td>\n",
       "      <td>BlazeIt</td>\n",
       "      <td>savings in frames</td>\n",
       "      <td>120.0</td>\n",
       "      <td>bicycle</td>\n",
       "      <td>0.1</td>\n",
       "      <td>1571164417645140</td>\n",
       "      <td>26.000000</td>\n",
       "      <td>NaN</td>\n",
       "    </tr>\n",
       "    <tr>\n",
       "      <td>1</td>\n",
       "      <td>3120.000000</td>\n",
       "      <td>dashcam</td>\n",
       "      <td>random</td>\n",
       "      <td>savings in frames</td>\n",
       "      <td>4840.0</td>\n",
       "      <td>bicycle</td>\n",
       "      <td>0.1</td>\n",
       "      <td>1571164675351647</td>\n",
       "      <td>0.644628</td>\n",
       "      <td>NaN</td>\n",
       "    </tr>\n",
       "    <tr>\n",
       "      <td>2</td>\n",
       "      <td>3120.000000</td>\n",
       "      <td>dashcam</td>\n",
       "      <td>random+</td>\n",
       "      <td>savings in frames</td>\n",
       "      <td>3120.0</td>\n",
       "      <td>bicycle</td>\n",
       "      <td>0.1</td>\n",
       "      <td>1571164674367186</td>\n",
       "      <td>1.000000</td>\n",
       "      <td>NaN</td>\n",
       "    </tr>\n",
       "    <tr>\n",
       "      <td>3</td>\n",
       "      <td>3120.000000</td>\n",
       "      <td>dashcam</td>\n",
       "      <td>this work</td>\n",
       "      <td>savings in frames</td>\n",
       "      <td>1000.0</td>\n",
       "      <td>bicycle</td>\n",
       "      <td>0.1</td>\n",
       "      <td>1571164679162830</td>\n",
       "      <td>3.120000</td>\n",
       "      <td>NaN</td>\n",
       "    </tr>\n",
       "  </tbody>\n",
       "</table>\n",
       "</div>"
      ],
      "text/plain": [
       "      baseline  dataset     method             metric      nf object_class  \\\n",
       "0   267.957707  dashcam    BlazeIt       time savings     NaN      bicycle   \n",
       "1   267.957707  dashcam     random       time savings     NaN      bicycle   \n",
       "2   267.957707  dashcam    random+       time savings     NaN      bicycle   \n",
       "3   267.957707  dashcam  this work       time savings     NaN      bicycle   \n",
       "0  3120.000000  dashcam    BlazeIt  savings in frames   120.0      bicycle   \n",
       "1  3120.000000  dashcam     random  savings in frames  4840.0      bicycle   \n",
       "2  3120.000000  dashcam    random+  savings in frames  3120.0      bicycle   \n",
       "3  3120.000000  dashcam  this work  savings in frames  1000.0      bicycle   \n",
       "\n",
       "   recall        sampler_id    savings    total_time  \n",
       "0     0.1  1571164417645140   0.015458  17334.306066  \n",
       "1     0.1  1571164675351647   0.644628    415.677981  \n",
       "2     0.1  1571164674367186   1.000000    267.957707  \n",
       "3     0.1  1571164679162830   3.120000     85.883880  \n",
       "0     0.1  1571164417645140  26.000000           NaN  \n",
       "1     0.1  1571164675351647   0.644628           NaN  \n",
       "2     0.1  1571164674367186   1.000000           NaN  \n",
       "3     0.1  1571164679162830   3.120000           NaN  "
      ]
     },
     "execution_count": 527,
     "metadata": {},
     "output_type": "execute_result"
    }
   ],
   "source": [
    "cdat[(cdat.recall ==.1) & (cdat.object_class == 'bicycle')]"
   ]
  },
  {
   "cell_type": "code",
   "execution_count": 480,
   "metadata": {
    "ExecuteTime": {
     "end_time": "2019-10-22T23:05:23.094593Z",
     "start_time": "2019-10-22T23:05:23.089878Z"
    }
   },
   "outputs": [
    {
     "data": {
      "text/plain": [
       "(0.4988136673686022, 3.8313170364967606)"
      ]
     },
     "execution_count": 480,
     "metadata": {},
     "output_type": "execute_result"
    }
   ],
   "source": [
    "mt = ms[ms.method == 'this work']\n",
    "mt.q5.min(), mt.q5.max()"
   ]
  },
  {
   "cell_type": "code",
   "execution_count": 481,
   "metadata": {
    "ExecuteTime": {
     "end_time": "2019-10-22T23:05:24.058942Z",
     "start_time": "2019-10-22T23:05:23.098215Z"
    },
    "scrolled": false
   },
   "outputs": [
    {
     "data": {
      "application/javascript": [
       "/* Put everything inside the global mpl namespace */\n",
       "window.mpl = {};\n",
       "\n",
       "\n",
       "mpl.get_websocket_type = function() {\n",
       "    if (typeof(WebSocket) !== 'undefined') {\n",
       "        return WebSocket;\n",
       "    } else if (typeof(MozWebSocket) !== 'undefined') {\n",
       "        return MozWebSocket;\n",
       "    } else {\n",
       "        alert('Your browser does not have WebSocket support. ' +\n",
       "              'Please try Chrome, Safari or Firefox ≥ 6. ' +\n",
       "              'Firefox 4 and 5 are also supported but you ' +\n",
       "              'have to enable WebSockets in about:config.');\n",
       "    };\n",
       "}\n",
       "\n",
       "mpl.figure = function(figure_id, websocket, ondownload, parent_element) {\n",
       "    this.id = figure_id;\n",
       "\n",
       "    this.ws = websocket;\n",
       "\n",
       "    this.supports_binary = (this.ws.binaryType != undefined);\n",
       "\n",
       "    if (!this.supports_binary) {\n",
       "        var warnings = document.getElementById(\"mpl-warnings\");\n",
       "        if (warnings) {\n",
       "            warnings.style.display = 'block';\n",
       "            warnings.textContent = (\n",
       "                \"This browser does not support binary websocket messages. \" +\n",
       "                    \"Performance may be slow.\");\n",
       "        }\n",
       "    }\n",
       "\n",
       "    this.imageObj = new Image();\n",
       "\n",
       "    this.context = undefined;\n",
       "    this.message = undefined;\n",
       "    this.canvas = undefined;\n",
       "    this.rubberband_canvas = undefined;\n",
       "    this.rubberband_context = undefined;\n",
       "    this.format_dropdown = undefined;\n",
       "\n",
       "    this.image_mode = 'full';\n",
       "\n",
       "    this.root = $('<div/>');\n",
       "    this._root_extra_style(this.root)\n",
       "    this.root.attr('style', 'display: inline-block');\n",
       "\n",
       "    $(parent_element).append(this.root);\n",
       "\n",
       "    this._init_header(this);\n",
       "    this._init_canvas(this);\n",
       "    this._init_toolbar(this);\n",
       "\n",
       "    var fig = this;\n",
       "\n",
       "    this.waiting = false;\n",
       "\n",
       "    this.ws.onopen =  function () {\n",
       "            fig.send_message(\"supports_binary\", {value: fig.supports_binary});\n",
       "            fig.send_message(\"send_image_mode\", {});\n",
       "            if (mpl.ratio != 1) {\n",
       "                fig.send_message(\"set_dpi_ratio\", {'dpi_ratio': mpl.ratio});\n",
       "            }\n",
       "            fig.send_message(\"refresh\", {});\n",
       "        }\n",
       "\n",
       "    this.imageObj.onload = function() {\n",
       "            if (fig.image_mode == 'full') {\n",
       "                // Full images could contain transparency (where diff images\n",
       "                // almost always do), so we need to clear the canvas so that\n",
       "                // there is no ghosting.\n",
       "                fig.context.clearRect(0, 0, fig.canvas.width, fig.canvas.height);\n",
       "            }\n",
       "            fig.context.drawImage(fig.imageObj, 0, 0);\n",
       "        };\n",
       "\n",
       "    this.imageObj.onunload = function() {\n",
       "        fig.ws.close();\n",
       "    }\n",
       "\n",
       "    this.ws.onmessage = this._make_on_message_function(this);\n",
       "\n",
       "    this.ondownload = ondownload;\n",
       "}\n",
       "\n",
       "mpl.figure.prototype._init_header = function() {\n",
       "    var titlebar = $(\n",
       "        '<div class=\"ui-dialog-titlebar ui-widget-header ui-corner-all ' +\n",
       "        'ui-helper-clearfix\"/>');\n",
       "    var titletext = $(\n",
       "        '<div class=\"ui-dialog-title\" style=\"width: 100%; ' +\n",
       "        'text-align: center; padding: 3px;\"/>');\n",
       "    titlebar.append(titletext)\n",
       "    this.root.append(titlebar);\n",
       "    this.header = titletext[0];\n",
       "}\n",
       "\n",
       "\n",
       "\n",
       "mpl.figure.prototype._canvas_extra_style = function(canvas_div) {\n",
       "\n",
       "}\n",
       "\n",
       "\n",
       "mpl.figure.prototype._root_extra_style = function(canvas_div) {\n",
       "\n",
       "}\n",
       "\n",
       "mpl.figure.prototype._init_canvas = function() {\n",
       "    var fig = this;\n",
       "\n",
       "    var canvas_div = $('<div/>');\n",
       "\n",
       "    canvas_div.attr('style', 'position: relative; clear: both; outline: 0');\n",
       "\n",
       "    function canvas_keyboard_event(event) {\n",
       "        return fig.key_event(event, event['data']);\n",
       "    }\n",
       "\n",
       "    canvas_div.keydown('key_press', canvas_keyboard_event);\n",
       "    canvas_div.keyup('key_release', canvas_keyboard_event);\n",
       "    this.canvas_div = canvas_div\n",
       "    this._canvas_extra_style(canvas_div)\n",
       "    this.root.append(canvas_div);\n",
       "\n",
       "    var canvas = $('<canvas/>');\n",
       "    canvas.addClass('mpl-canvas');\n",
       "    canvas.attr('style', \"left: 0; top: 0; z-index: 0; outline: 0\")\n",
       "\n",
       "    this.canvas = canvas[0];\n",
       "    this.context = canvas[0].getContext(\"2d\");\n",
       "\n",
       "    var backingStore = this.context.backingStorePixelRatio ||\n",
       "\tthis.context.webkitBackingStorePixelRatio ||\n",
       "\tthis.context.mozBackingStorePixelRatio ||\n",
       "\tthis.context.msBackingStorePixelRatio ||\n",
       "\tthis.context.oBackingStorePixelRatio ||\n",
       "\tthis.context.backingStorePixelRatio || 1;\n",
       "\n",
       "    mpl.ratio = (window.devicePixelRatio || 1) / backingStore;\n",
       "\n",
       "    var rubberband = $('<canvas/>');\n",
       "    rubberband.attr('style', \"position: absolute; left: 0; top: 0; z-index: 1;\")\n",
       "\n",
       "    var pass_mouse_events = true;\n",
       "\n",
       "    canvas_div.resizable({\n",
       "        start: function(event, ui) {\n",
       "            pass_mouse_events = false;\n",
       "        },\n",
       "        resize: function(event, ui) {\n",
       "            fig.request_resize(ui.size.width, ui.size.height);\n",
       "        },\n",
       "        stop: function(event, ui) {\n",
       "            pass_mouse_events = true;\n",
       "            fig.request_resize(ui.size.width, ui.size.height);\n",
       "        },\n",
       "    });\n",
       "\n",
       "    function mouse_event_fn(event) {\n",
       "        if (pass_mouse_events)\n",
       "            return fig.mouse_event(event, event['data']);\n",
       "    }\n",
       "\n",
       "    rubberband.mousedown('button_press', mouse_event_fn);\n",
       "    rubberband.mouseup('button_release', mouse_event_fn);\n",
       "    // Throttle sequential mouse events to 1 every 20ms.\n",
       "    rubberband.mousemove('motion_notify', mouse_event_fn);\n",
       "\n",
       "    rubberband.mouseenter('figure_enter', mouse_event_fn);\n",
       "    rubberband.mouseleave('figure_leave', mouse_event_fn);\n",
       "\n",
       "    canvas_div.on(\"wheel\", function (event) {\n",
       "        event = event.originalEvent;\n",
       "        event['data'] = 'scroll'\n",
       "        if (event.deltaY < 0) {\n",
       "            event.step = 1;\n",
       "        } else {\n",
       "            event.step = -1;\n",
       "        }\n",
       "        mouse_event_fn(event);\n",
       "    });\n",
       "\n",
       "    canvas_div.append(canvas);\n",
       "    canvas_div.append(rubberband);\n",
       "\n",
       "    this.rubberband = rubberband;\n",
       "    this.rubberband_canvas = rubberband[0];\n",
       "    this.rubberband_context = rubberband[0].getContext(\"2d\");\n",
       "    this.rubberband_context.strokeStyle = \"#000000\";\n",
       "\n",
       "    this._resize_canvas = function(width, height) {\n",
       "        // Keep the size of the canvas, canvas container, and rubber band\n",
       "        // canvas in synch.\n",
       "        canvas_div.css('width', width)\n",
       "        canvas_div.css('height', height)\n",
       "\n",
       "        canvas.attr('width', width * mpl.ratio);\n",
       "        canvas.attr('height', height * mpl.ratio);\n",
       "        canvas.attr('style', 'width: ' + width + 'px; height: ' + height + 'px;');\n",
       "\n",
       "        rubberband.attr('width', width);\n",
       "        rubberband.attr('height', height);\n",
       "    }\n",
       "\n",
       "    // Set the figure to an initial 600x600px, this will subsequently be updated\n",
       "    // upon first draw.\n",
       "    this._resize_canvas(600, 600);\n",
       "\n",
       "    // Disable right mouse context menu.\n",
       "    $(this.rubberband_canvas).bind(\"contextmenu\",function(e){\n",
       "        return false;\n",
       "    });\n",
       "\n",
       "    function set_focus () {\n",
       "        canvas.focus();\n",
       "        canvas_div.focus();\n",
       "    }\n",
       "\n",
       "    window.setTimeout(set_focus, 100);\n",
       "}\n",
       "\n",
       "mpl.figure.prototype._init_toolbar = function() {\n",
       "    var fig = this;\n",
       "\n",
       "    var nav_element = $('<div/>');\n",
       "    nav_element.attr('style', 'width: 100%');\n",
       "    this.root.append(nav_element);\n",
       "\n",
       "    // Define a callback function for later on.\n",
       "    function toolbar_event(event) {\n",
       "        return fig.toolbar_button_onclick(event['data']);\n",
       "    }\n",
       "    function toolbar_mouse_event(event) {\n",
       "        return fig.toolbar_button_onmouseover(event['data']);\n",
       "    }\n",
       "\n",
       "    for(var toolbar_ind in mpl.toolbar_items) {\n",
       "        var name = mpl.toolbar_items[toolbar_ind][0];\n",
       "        var tooltip = mpl.toolbar_items[toolbar_ind][1];\n",
       "        var image = mpl.toolbar_items[toolbar_ind][2];\n",
       "        var method_name = mpl.toolbar_items[toolbar_ind][3];\n",
       "\n",
       "        if (!name) {\n",
       "            // put a spacer in here.\n",
       "            continue;\n",
       "        }\n",
       "        var button = $('<button/>');\n",
       "        button.addClass('ui-button ui-widget ui-state-default ui-corner-all ' +\n",
       "                        'ui-button-icon-only');\n",
       "        button.attr('role', 'button');\n",
       "        button.attr('aria-disabled', 'false');\n",
       "        button.click(method_name, toolbar_event);\n",
       "        button.mouseover(tooltip, toolbar_mouse_event);\n",
       "\n",
       "        var icon_img = $('<span/>');\n",
       "        icon_img.addClass('ui-button-icon-primary ui-icon');\n",
       "        icon_img.addClass(image);\n",
       "        icon_img.addClass('ui-corner-all');\n",
       "\n",
       "        var tooltip_span = $('<span/>');\n",
       "        tooltip_span.addClass('ui-button-text');\n",
       "        tooltip_span.html(tooltip);\n",
       "\n",
       "        button.append(icon_img);\n",
       "        button.append(tooltip_span);\n",
       "\n",
       "        nav_element.append(button);\n",
       "    }\n",
       "\n",
       "    var fmt_picker_span = $('<span/>');\n",
       "\n",
       "    var fmt_picker = $('<select/>');\n",
       "    fmt_picker.addClass('mpl-toolbar-option ui-widget ui-widget-content');\n",
       "    fmt_picker_span.append(fmt_picker);\n",
       "    nav_element.append(fmt_picker_span);\n",
       "    this.format_dropdown = fmt_picker[0];\n",
       "\n",
       "    for (var ind in mpl.extensions) {\n",
       "        var fmt = mpl.extensions[ind];\n",
       "        var option = $(\n",
       "            '<option/>', {selected: fmt === mpl.default_extension}).html(fmt);\n",
       "        fmt_picker.append(option);\n",
       "    }\n",
       "\n",
       "    // Add hover states to the ui-buttons\n",
       "    $( \".ui-button\" ).hover(\n",
       "        function() { $(this).addClass(\"ui-state-hover\");},\n",
       "        function() { $(this).removeClass(\"ui-state-hover\");}\n",
       "    );\n",
       "\n",
       "    var status_bar = $('<span class=\"mpl-message\"/>');\n",
       "    nav_element.append(status_bar);\n",
       "    this.message = status_bar[0];\n",
       "}\n",
       "\n",
       "mpl.figure.prototype.request_resize = function(x_pixels, y_pixels) {\n",
       "    // Request matplotlib to resize the figure. Matplotlib will then trigger a resize in the client,\n",
       "    // which will in turn request a refresh of the image.\n",
       "    this.send_message('resize', {'width': x_pixels, 'height': y_pixels});\n",
       "}\n",
       "\n",
       "mpl.figure.prototype.send_message = function(type, properties) {\n",
       "    properties['type'] = type;\n",
       "    properties['figure_id'] = this.id;\n",
       "    this.ws.send(JSON.stringify(properties));\n",
       "}\n",
       "\n",
       "mpl.figure.prototype.send_draw_message = function() {\n",
       "    if (!this.waiting) {\n",
       "        this.waiting = true;\n",
       "        this.ws.send(JSON.stringify({type: \"draw\", figure_id: this.id}));\n",
       "    }\n",
       "}\n",
       "\n",
       "\n",
       "mpl.figure.prototype.handle_save = function(fig, msg) {\n",
       "    var format_dropdown = fig.format_dropdown;\n",
       "    var format = format_dropdown.options[format_dropdown.selectedIndex].value;\n",
       "    fig.ondownload(fig, format);\n",
       "}\n",
       "\n",
       "\n",
       "mpl.figure.prototype.handle_resize = function(fig, msg) {\n",
       "    var size = msg['size'];\n",
       "    if (size[0] != fig.canvas.width || size[1] != fig.canvas.height) {\n",
       "        fig._resize_canvas(size[0], size[1]);\n",
       "        fig.send_message(\"refresh\", {});\n",
       "    };\n",
       "}\n",
       "\n",
       "mpl.figure.prototype.handle_rubberband = function(fig, msg) {\n",
       "    var x0 = msg['x0'] / mpl.ratio;\n",
       "    var y0 = (fig.canvas.height - msg['y0']) / mpl.ratio;\n",
       "    var x1 = msg['x1'] / mpl.ratio;\n",
       "    var y1 = (fig.canvas.height - msg['y1']) / mpl.ratio;\n",
       "    x0 = Math.floor(x0) + 0.5;\n",
       "    y0 = Math.floor(y0) + 0.5;\n",
       "    x1 = Math.floor(x1) + 0.5;\n",
       "    y1 = Math.floor(y1) + 0.5;\n",
       "    var min_x = Math.min(x0, x1);\n",
       "    var min_y = Math.min(y0, y1);\n",
       "    var width = Math.abs(x1 - x0);\n",
       "    var height = Math.abs(y1 - y0);\n",
       "\n",
       "    fig.rubberband_context.clearRect(\n",
       "        0, 0, fig.canvas.width / mpl.ratio, fig.canvas.height / mpl.ratio);\n",
       "\n",
       "    fig.rubberband_context.strokeRect(min_x, min_y, width, height);\n",
       "}\n",
       "\n",
       "mpl.figure.prototype.handle_figure_label = function(fig, msg) {\n",
       "    // Updates the figure title.\n",
       "    fig.header.textContent = msg['label'];\n",
       "}\n",
       "\n",
       "mpl.figure.prototype.handle_cursor = function(fig, msg) {\n",
       "    var cursor = msg['cursor'];\n",
       "    switch(cursor)\n",
       "    {\n",
       "    case 0:\n",
       "        cursor = 'pointer';\n",
       "        break;\n",
       "    case 1:\n",
       "        cursor = 'default';\n",
       "        break;\n",
       "    case 2:\n",
       "        cursor = 'crosshair';\n",
       "        break;\n",
       "    case 3:\n",
       "        cursor = 'move';\n",
       "        break;\n",
       "    }\n",
       "    fig.rubberband_canvas.style.cursor = cursor;\n",
       "}\n",
       "\n",
       "mpl.figure.prototype.handle_message = function(fig, msg) {\n",
       "    fig.message.textContent = msg['message'];\n",
       "}\n",
       "\n",
       "mpl.figure.prototype.handle_draw = function(fig, msg) {\n",
       "    // Request the server to send over a new figure.\n",
       "    fig.send_draw_message();\n",
       "}\n",
       "\n",
       "mpl.figure.prototype.handle_image_mode = function(fig, msg) {\n",
       "    fig.image_mode = msg['mode'];\n",
       "}\n",
       "\n",
       "mpl.figure.prototype.updated_canvas_event = function() {\n",
       "    // Called whenever the canvas gets updated.\n",
       "    this.send_message(\"ack\", {});\n",
       "}\n",
       "\n",
       "// A function to construct a web socket function for onmessage handling.\n",
       "// Called in the figure constructor.\n",
       "mpl.figure.prototype._make_on_message_function = function(fig) {\n",
       "    return function socket_on_message(evt) {\n",
       "        if (evt.data instanceof Blob) {\n",
       "            /* FIXME: We get \"Resource interpreted as Image but\n",
       "             * transferred with MIME type text/plain:\" errors on\n",
       "             * Chrome.  But how to set the MIME type?  It doesn't seem\n",
       "             * to be part of the websocket stream */\n",
       "            evt.data.type = \"image/png\";\n",
       "\n",
       "            /* Free the memory for the previous frames */\n",
       "            if (fig.imageObj.src) {\n",
       "                (window.URL || window.webkitURL).revokeObjectURL(\n",
       "                    fig.imageObj.src);\n",
       "            }\n",
       "\n",
       "            fig.imageObj.src = (window.URL || window.webkitURL).createObjectURL(\n",
       "                evt.data);\n",
       "            fig.updated_canvas_event();\n",
       "            fig.waiting = false;\n",
       "            return;\n",
       "        }\n",
       "        else if (typeof evt.data === 'string' && evt.data.slice(0, 21) == \"data:image/png;base64\") {\n",
       "            fig.imageObj.src = evt.data;\n",
       "            fig.updated_canvas_event();\n",
       "            fig.waiting = false;\n",
       "            return;\n",
       "        }\n",
       "\n",
       "        var msg = JSON.parse(evt.data);\n",
       "        var msg_type = msg['type'];\n",
       "\n",
       "        // Call the  \"handle_{type}\" callback, which takes\n",
       "        // the figure and JSON message as its only arguments.\n",
       "        try {\n",
       "            var callback = fig[\"handle_\" + msg_type];\n",
       "        } catch (e) {\n",
       "            console.log(\"No handler for the '\" + msg_type + \"' message type: \", msg);\n",
       "            return;\n",
       "        }\n",
       "\n",
       "        if (callback) {\n",
       "            try {\n",
       "                // console.log(\"Handling '\" + msg_type + \"' message: \", msg);\n",
       "                callback(fig, msg);\n",
       "            } catch (e) {\n",
       "                console.log(\"Exception inside the 'handler_\" + msg_type + \"' callback:\", e, e.stack, msg);\n",
       "            }\n",
       "        }\n",
       "    };\n",
       "}\n",
       "\n",
       "// from http://stackoverflow.com/questions/1114465/getting-mouse-location-in-canvas\n",
       "mpl.findpos = function(e) {\n",
       "    //this section is from http://www.quirksmode.org/js/events_properties.html\n",
       "    var targ;\n",
       "    if (!e)\n",
       "        e = window.event;\n",
       "    if (e.target)\n",
       "        targ = e.target;\n",
       "    else if (e.srcElement)\n",
       "        targ = e.srcElement;\n",
       "    if (targ.nodeType == 3) // defeat Safari bug\n",
       "        targ = targ.parentNode;\n",
       "\n",
       "    // jQuery normalizes the pageX and pageY\n",
       "    // pageX,Y are the mouse positions relative to the document\n",
       "    // offset() returns the position of the element relative to the document\n",
       "    var x = e.pageX - $(targ).offset().left;\n",
       "    var y = e.pageY - $(targ).offset().top;\n",
       "\n",
       "    return {\"x\": x, \"y\": y};\n",
       "};\n",
       "\n",
       "/*\n",
       " * return a copy of an object with only non-object keys\n",
       " * we need this to avoid circular references\n",
       " * http://stackoverflow.com/a/24161582/3208463\n",
       " */\n",
       "function simpleKeys (original) {\n",
       "  return Object.keys(original).reduce(function (obj, key) {\n",
       "    if (typeof original[key] !== 'object')\n",
       "        obj[key] = original[key]\n",
       "    return obj;\n",
       "  }, {});\n",
       "}\n",
       "\n",
       "mpl.figure.prototype.mouse_event = function(event, name) {\n",
       "    var canvas_pos = mpl.findpos(event)\n",
       "\n",
       "    if (name === 'button_press')\n",
       "    {\n",
       "        this.canvas.focus();\n",
       "        this.canvas_div.focus();\n",
       "    }\n",
       "\n",
       "    var x = canvas_pos.x * mpl.ratio;\n",
       "    var y = canvas_pos.y * mpl.ratio;\n",
       "\n",
       "    this.send_message(name, {x: x, y: y, button: event.button,\n",
       "                             step: event.step,\n",
       "                             guiEvent: simpleKeys(event)});\n",
       "\n",
       "    /* This prevents the web browser from automatically changing to\n",
       "     * the text insertion cursor when the button is pressed.  We want\n",
       "     * to control all of the cursor setting manually through the\n",
       "     * 'cursor' event from matplotlib */\n",
       "    event.preventDefault();\n",
       "    return false;\n",
       "}\n",
       "\n",
       "mpl.figure.prototype._key_event_extra = function(event, name) {\n",
       "    // Handle any extra behaviour associated with a key event\n",
       "}\n",
       "\n",
       "mpl.figure.prototype.key_event = function(event, name) {\n",
       "\n",
       "    // Prevent repeat events\n",
       "    if (name == 'key_press')\n",
       "    {\n",
       "        if (event.which === this._key)\n",
       "            return;\n",
       "        else\n",
       "            this._key = event.which;\n",
       "    }\n",
       "    if (name == 'key_release')\n",
       "        this._key = null;\n",
       "\n",
       "    var value = '';\n",
       "    if (event.ctrlKey && event.which != 17)\n",
       "        value += \"ctrl+\";\n",
       "    if (event.altKey && event.which != 18)\n",
       "        value += \"alt+\";\n",
       "    if (event.shiftKey && event.which != 16)\n",
       "        value += \"shift+\";\n",
       "\n",
       "    value += 'k';\n",
       "    value += event.which.toString();\n",
       "\n",
       "    this._key_event_extra(event, name);\n",
       "\n",
       "    this.send_message(name, {key: value,\n",
       "                             guiEvent: simpleKeys(event)});\n",
       "    return false;\n",
       "}\n",
       "\n",
       "mpl.figure.prototype.toolbar_button_onclick = function(name) {\n",
       "    if (name == 'download') {\n",
       "        this.handle_save(this, null);\n",
       "    } else {\n",
       "        this.send_message(\"toolbar_button\", {name: name});\n",
       "    }\n",
       "};\n",
       "\n",
       "mpl.figure.prototype.toolbar_button_onmouseover = function(tooltip) {\n",
       "    this.message.textContent = tooltip;\n",
       "};\n",
       "mpl.toolbar_items = [[\"Home\", \"Reset original view\", \"fa fa-home icon-home\", \"home\"], [\"Back\", \"Back to previous view\", \"fa fa-arrow-left icon-arrow-left\", \"back\"], [\"Forward\", \"Forward to next view\", \"fa fa-arrow-right icon-arrow-right\", \"forward\"], [\"\", \"\", \"\", \"\"], [\"Pan\", \"Pan axes with left mouse, zoom with right\", \"fa fa-arrows icon-move\", \"pan\"], [\"Zoom\", \"Zoom to rectangle\", \"fa fa-square-o icon-check-empty\", \"zoom\"], [\"\", \"\", \"\", \"\"], [\"Download\", \"Download plot\", \"fa fa-floppy-o icon-save\", \"download\"]];\n",
       "\n",
       "mpl.extensions = [\"eps\", \"jpeg\", \"pdf\", \"png\", \"ps\", \"raw\", \"svg\", \"tif\"];\n",
       "\n",
       "mpl.default_extension = \"png\";var comm_websocket_adapter = function(comm) {\n",
       "    // Create a \"websocket\"-like object which calls the given IPython comm\n",
       "    // object with the appropriate methods. Currently this is a non binary\n",
       "    // socket, so there is still some room for performance tuning.\n",
       "    var ws = {};\n",
       "\n",
       "    ws.close = function() {\n",
       "        comm.close()\n",
       "    };\n",
       "    ws.send = function(m) {\n",
       "        //console.log('sending', m);\n",
       "        comm.send(m);\n",
       "    };\n",
       "    // Register the callback with on_msg.\n",
       "    comm.on_msg(function(msg) {\n",
       "        //console.log('receiving', msg['content']['data'], msg);\n",
       "        // Pass the mpl event to the overridden (by mpl) onmessage function.\n",
       "        ws.onmessage(msg['content']['data'])\n",
       "    });\n",
       "    return ws;\n",
       "}\n",
       "\n",
       "mpl.mpl_figure_comm = function(comm, msg) {\n",
       "    // This is the function which gets called when the mpl process\n",
       "    // starts-up an IPython Comm through the \"matplotlib\" channel.\n",
       "\n",
       "    var id = msg.content.data.id;\n",
       "    // Get hold of the div created by the display call when the Comm\n",
       "    // socket was opened in Python.\n",
       "    var element = $(\"#\" + id);\n",
       "    var ws_proxy = comm_websocket_adapter(comm)\n",
       "\n",
       "    function ondownload(figure, format) {\n",
       "        window.open(figure.imageObj.src);\n",
       "    }\n",
       "\n",
       "    var fig = new mpl.figure(id, ws_proxy,\n",
       "                           ondownload,\n",
       "                           element.get(0));\n",
       "\n",
       "    // Call onopen now - mpl needs it, as it is assuming we've passed it a real\n",
       "    // web socket which is closed, not our websocket->open comm proxy.\n",
       "    ws_proxy.onopen();\n",
       "\n",
       "    fig.parent_element = element.get(0);\n",
       "    fig.cell_info = mpl.find_output_cell(\"<div id='\" + id + \"'></div>\");\n",
       "    if (!fig.cell_info) {\n",
       "        console.error(\"Failed to find cell for figure\", id, fig);\n",
       "        return;\n",
       "    }\n",
       "\n",
       "    var output_index = fig.cell_info[2]\n",
       "    var cell = fig.cell_info[0];\n",
       "\n",
       "};\n",
       "\n",
       "mpl.figure.prototype.handle_close = function(fig, msg) {\n",
       "    var width = fig.canvas.width/mpl.ratio\n",
       "    fig.root.unbind('remove')\n",
       "\n",
       "    // Update the output cell to use the data from the current canvas.\n",
       "    fig.push_to_output();\n",
       "    var dataURL = fig.canvas.toDataURL();\n",
       "    // Re-enable the keyboard manager in IPython - without this line, in FF,\n",
       "    // the notebook keyboard shortcuts fail.\n",
       "    IPython.keyboard_manager.enable()\n",
       "    $(fig.parent_element).html('<img src=\"' + dataURL + '\" width=\"' + width + '\">');\n",
       "    fig.close_ws(fig, msg);\n",
       "}\n",
       "\n",
       "mpl.figure.prototype.close_ws = function(fig, msg){\n",
       "    fig.send_message('closing', msg);\n",
       "    // fig.ws.close()\n",
       "}\n",
       "\n",
       "mpl.figure.prototype.push_to_output = function(remove_interactive) {\n",
       "    // Turn the data on the canvas into data in the output cell.\n",
       "    var width = this.canvas.width/mpl.ratio\n",
       "    var dataURL = this.canvas.toDataURL();\n",
       "    this.cell_info[1]['text/html'] = '<img src=\"' + dataURL + '\" width=\"' + width + '\">';\n",
       "}\n",
       "\n",
       "mpl.figure.prototype.updated_canvas_event = function() {\n",
       "    // Tell IPython that the notebook contents must change.\n",
       "    IPython.notebook.set_dirty(true);\n",
       "    this.send_message(\"ack\", {});\n",
       "    var fig = this;\n",
       "    // Wait a second, then push the new image to the DOM so\n",
       "    // that it is saved nicely (might be nice to debounce this).\n",
       "    setTimeout(function () { fig.push_to_output() }, 1000);\n",
       "}\n",
       "\n",
       "mpl.figure.prototype._init_toolbar = function() {\n",
       "    var fig = this;\n",
       "\n",
       "    var nav_element = $('<div/>');\n",
       "    nav_element.attr('style', 'width: 100%');\n",
       "    this.root.append(nav_element);\n",
       "\n",
       "    // Define a callback function for later on.\n",
       "    function toolbar_event(event) {\n",
       "        return fig.toolbar_button_onclick(event['data']);\n",
       "    }\n",
       "    function toolbar_mouse_event(event) {\n",
       "        return fig.toolbar_button_onmouseover(event['data']);\n",
       "    }\n",
       "\n",
       "    for(var toolbar_ind in mpl.toolbar_items){\n",
       "        var name = mpl.toolbar_items[toolbar_ind][0];\n",
       "        var tooltip = mpl.toolbar_items[toolbar_ind][1];\n",
       "        var image = mpl.toolbar_items[toolbar_ind][2];\n",
       "        var method_name = mpl.toolbar_items[toolbar_ind][3];\n",
       "\n",
       "        if (!name) { continue; };\n",
       "\n",
       "        var button = $('<button class=\"btn btn-default\" href=\"#\" title=\"' + name + '\"><i class=\"fa ' + image + ' fa-lg\"></i></button>');\n",
       "        button.click(method_name, toolbar_event);\n",
       "        button.mouseover(tooltip, toolbar_mouse_event);\n",
       "        nav_element.append(button);\n",
       "    }\n",
       "\n",
       "    // Add the status bar.\n",
       "    var status_bar = $('<span class=\"mpl-message\" style=\"text-align:right; float: right;\"/>');\n",
       "    nav_element.append(status_bar);\n",
       "    this.message = status_bar[0];\n",
       "\n",
       "    // Add the close button to the window.\n",
       "    var buttongrp = $('<div class=\"btn-group inline pull-right\"></div>');\n",
       "    var button = $('<button class=\"btn btn-mini btn-primary\" href=\"#\" title=\"Stop Interaction\"><i class=\"fa fa-power-off icon-remove icon-large\"></i></button>');\n",
       "    button.click(function (evt) { fig.handle_close(fig, {}); } );\n",
       "    button.mouseover('Stop Interaction', toolbar_mouse_event);\n",
       "    buttongrp.append(button);\n",
       "    var titlebar = this.root.find($('.ui-dialog-titlebar'));\n",
       "    titlebar.prepend(buttongrp);\n",
       "}\n",
       "\n",
       "mpl.figure.prototype._root_extra_style = function(el){\n",
       "    var fig = this\n",
       "    el.on(\"remove\", function(){\n",
       "\tfig.close_ws(fig, {});\n",
       "    });\n",
       "}\n",
       "\n",
       "mpl.figure.prototype._canvas_extra_style = function(el){\n",
       "    // this is important to make the div 'focusable\n",
       "    el.attr('tabindex', 0)\n",
       "    // reach out to IPython and tell the keyboard manager to turn it's self\n",
       "    // off when our div gets focus\n",
       "\n",
       "    // location in version 3\n",
       "    if (IPython.notebook.keyboard_manager) {\n",
       "        IPython.notebook.keyboard_manager.register_events(el);\n",
       "    }\n",
       "    else {\n",
       "        // location in version 2\n",
       "        IPython.keyboard_manager.register_events(el);\n",
       "    }\n",
       "\n",
       "}\n",
       "\n",
       "mpl.figure.prototype._key_event_extra = function(event, name) {\n",
       "    var manager = IPython.notebook.keyboard_manager;\n",
       "    if (!manager)\n",
       "        manager = IPython.keyboard_manager;\n",
       "\n",
       "    // Check for shift+enter\n",
       "    if (event.shiftKey && event.which == 13) {\n",
       "        this.canvas_div.blur();\n",
       "        event.shiftKey = false;\n",
       "        // Send a \"J\" for go to next cell\n",
       "        event.which = 74;\n",
       "        event.keyCode = 74;\n",
       "        manager.command_mode();\n",
       "        manager.handle_keydown(event);\n",
       "    }\n",
       "}\n",
       "\n",
       "mpl.figure.prototype.handle_save = function(fig, msg) {\n",
       "    fig.ondownload(fig, null);\n",
       "}\n",
       "\n",
       "\n",
       "mpl.find_output_cell = function(html_output) {\n",
       "    // Return the cell and output element which can be found *uniquely* in the notebook.\n",
       "    // Note - this is a bit hacky, but it is done because the \"notebook_saving.Notebook\"\n",
       "    // IPython event is triggered only after the cells have been serialised, which for\n",
       "    // our purposes (turning an active figure into a static one), is too late.\n",
       "    var cells = IPython.notebook.get_cells();\n",
       "    var ncells = cells.length;\n",
       "    for (var i=0; i<ncells; i++) {\n",
       "        var cell = cells[i];\n",
       "        if (cell.cell_type === 'code'){\n",
       "            for (var j=0; j<cell.output_area.outputs.length; j++) {\n",
       "                var data = cell.output_area.outputs[j];\n",
       "                if (data.data) {\n",
       "                    // IPython >= 3 moved mimebundle to data attribute of output\n",
       "                    data = data.data;\n",
       "                }\n",
       "                if (data['text/html'] == html_output) {\n",
       "                    return [cell, data, j];\n",
       "                }\n",
       "            }\n",
       "        }\n",
       "    }\n",
       "}\n",
       "\n",
       "// Register the function which deals with the matplotlib target/channel.\n",
       "// The kernel may be null if the page has been refreshed.\n",
       "if (IPython.notebook.kernel != null) {\n",
       "    IPython.notebook.kernel.comm_manager.register_target('matplotlib', mpl.mpl_figure_comm);\n",
       "}\n"
      ],
      "text/plain": [
       "<IPython.core.display.Javascript object>"
      ]
     },
     "metadata": {},
     "output_type": "display_data"
    },
    {
     "data": {
      "text/html": [
       "<img src=\"data:image/png;base64,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\" width=\"499.4444576752042\">"
      ],
      "text/plain": [
       "<IPython.core.display.HTML object>"
      ]
     },
     "metadata": {},
     "output_type": "display_data"
    },
    {
     "data": {
      "text/plain": [
       "<ggplot: (8761824011889)>"
      ]
     },
     "metadata": {},
     "output_type": "display_data"
    }
   ],
   "source": [
    "from plotnine.data import mtcars\n",
    "from plotnine.themes import element_rect\n",
    "import plotnine.scales\n",
    "\n",
    "\n",
    "#ms = ms[ms.method.isin(['this work'])]\n",
    "dodge_text = position_dodge(width=.2)\n",
    "\n",
    "pt = (ggplot()\n",
    "        + geom_bar(gms, \n",
    "                   aes(y='q5', x='order_key', fill='method', fill_alpha=.6),\n",
    "                   stat='identity', position='dodge',\n",
    "                   #fill='#095890', \n",
    "                   show_legend=True)\n",
    "        + geom_hline(mapping=aes(yintercept=1.), data=pd.DataFrame({'hi':[1]}), linetype='dashed')\n",
    "        + facet_wrap(['recall', 'dataset'], ncol=2, labeller='label_context', scales='free')\n",
    "        + scale_y_log10(name='Time savings (relative to random+)')\n",
    "        + plotnine.labels.xlab('')\n",
    "        + theme(legend_title=element_text(color='#ffffff'),\n",
    "                legend_direction='horizontal',\n",
    "                legend_position='top',\n",
    "                axis_text_x=element_text(angle=90, ha='center',), #  color='#ffffff',size=1.),\n",
    "                axis_title_x=element_text(size=1, alpha=0),\n",
    "                figure_size=(5.,7.),\n",
    "               )\n",
    "\n",
    " )\n",
    "display(pt)\n",
    "\n",
    "mpl.rc('font',**{'family':'sans-serif','sans-serif':['Helvetica'], 'size':10})\n",
    "mpl.rc('text', usetex=True)\n",
    "params= {'text.latex.preamble' : [r'\\usepackage{amsmath}']}\n",
    "\n",
    "\n",
    "def to_frac(text):\n",
    "    lab = text._text\n",
    "    pars = fractions.Decimal(lab)\n",
    "    myfr = fractions.Fraction.from_decimal(pars)\n",
    "    \n",
    "    if myfr.numerator == 0:\n",
    "        return r'$0$'\n",
    "    \n",
    "    inv = 1/myfr\n",
    "    approx = inv.limit_denominator(40)\n",
    "    err = approx - inv\n",
    "    if err.numerator != 0:\n",
    "        rel_err = float(np.abs(err)/inv)\n",
    "        if rel_err > .02:\n",
    "            approx = inv\n",
    "\n",
    "    if approx.denominator == 1:\n",
    "        return r'$%d$' % (approx.numerator)\n",
    "    else:\n",
    "        return r'$\\dfrac{%d}{%d}$' % (approx.numerator, approx.denominator)\n",
    "        \n",
    "#fmt = matplotlib.ticker.FuncFormatter(lambda )#Formatter(StrMethodFormatter(\"{x}\")\n",
    "mpl.pyplot.rcParams.update(params)\n",
    "## for Palatino and other serif fonts use:\n",
    "#rc('font',**{'family':'serif','serif':['Palatino']})\n",
    "\n",
    "import fractions\n",
    "f = plt.gcf()\n",
    "axes = f.get_axes()\n",
    "for (i,ax) in enumerate(axes):\n",
    "    xaxis = ax.xaxis\n",
    "    xaxis.set_tick_params(size=0)\n",
    "    if i < len(axes) - 2:\n",
    "        ax.set_xticks([])\n",
    "    ax.grid(False, axis='x')\n",
    "    #ax.grid(False, which='minor', axis='y')\n",
    "    (m,mx) = xaxis.get_data_interval()\n",
    "    centers = np.arange(np.ceil(m), np.floor(mx)+1)\n",
    "    for (i,c) in enumerate(centers):\n",
    "        if i == 0:\n",
    "            ax.axvspan(c-.5,c+.5, \n",
    "                   color='gray', \n",
    "                   alpha=.4, \n",
    "                   linewidth=2)\n",
    "        else:\n",
    "            ax.axvspan(c-.5,c+.5, \n",
    "                       color='gray', \n",
    "                       alpha=.2 if i % 2 == 0 else .0, \n",
    "                       linewidth=0)\n",
    "f.subplots_adjust(hspace=.25, wspace=.14)\n",
    "\n",
    "f = plt.gcf()\n",
    "for a in f.axes:\n",
    "#    a.xaxis.set_major_formatter(fmt)\n",
    "    #a.yaxis.set_major_formatter(fmt)\n",
    "    labs  = a.get_yticklabels()        \n",
    "    labs2 = map(to_frac, labs)\n",
    "    labs2 = list(labs2)\n",
    "    #a.set_yticklabels(labs2)\n",
    "    \n",
    "    labsx  = a.get_xticklabels()\n",
    "    def lb(tx):\n",
    "        lx = tx._text.split(\"'\")[-2]\n",
    "        if lx == 'geomean':\n",
    "            return lx #r'{\\bf mean}'\n",
    "        else:\n",
    "            return lx\n",
    "        \n",
    "    labsx = map(lb, labsx)\n",
    "    a.set_xticklabels(list(labsx))\n",
    "\n",
    "    \n",
    "f.savefig('/tmp/sigmod_res_savings_time_most_recent.pdf')"
   ]
  },
  {
   "cell_type": "code",
   "execution_count": null,
   "metadata": {},
   "outputs": [],
   "source": []
  }
 ],
 "metadata": {
  "kernelspec": {
   "display_name": "Python3.8 (vsms4)",
   "language": "python",
   "name": "vsms4"
  },
  "language_info": {
   "codemirror_mode": {
    "name": "ipython",
    "version": 3
   },
   "file_extension": ".py",
   "mimetype": "text/x-python",
   "name": "python",
   "nbconvert_exporter": "python",
   "pygments_lexer": "ipython3",
   "version": "3.8.8"
  }
 },
 "nbformat": 4,
 "nbformat_minor": 2
}
