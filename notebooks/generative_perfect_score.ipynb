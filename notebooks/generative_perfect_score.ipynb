{
 "cells": [
  {
   "cell_type": "code",
   "execution_count": 1,
   "metadata": {
    "ExecuteTime": {
     "end_time": "2020-09-13T15:03:01.831524Z",
     "start_time": "2020-09-13T15:03:01.005116Z"
    }
   },
   "outputs": [],
   "source": [
    "import torch.distributions as dist\n",
    "import numpy as np\n",
    "import torch.distributions as dist\n",
    "import torch\n",
    "import vsms\n",
    "import importlib\n",
    "import vsms.exsample_benchmark\n",
    "import vsms.exsample_sampler\n",
    "importlib.reload(vsms.exsample_benchmark)\n",
    "importlib.reload(vsms.exsample_sampler)\n",
    "from vsms.exsample_benchmark import *\n",
    "from vsms.exsample_sampler import *\n",
    "from vsms.exsample_analytic import *\n",
    "from vsms.exsample_simulation import *\n",
    "import scipy.stats\n",
    "import pandas as pd"
   ]
  },
  {
   "cell_type": "code",
   "execution_count": 2,
   "metadata": {
    "ExecuteTime": {
     "end_time": "2020-09-13T15:03:01.835104Z",
     "start_time": "2020-09-13T15:03:01.833068Z"
    }
   },
   "outputs": [],
   "source": [
    "# normal dist: 95% are within 2sigma\n",
    "np.set_printoptions(precision=3, suppress=True)"
   ]
  },
  {
   "cell_type": "code",
   "execution_count": 3,
   "metadata": {
    "ExecuteTime": {
     "end_time": "2020-09-13T15:03:01.853648Z",
     "start_time": "2020-09-13T15:03:01.836459Z"
    }
   },
   "outputs": [],
   "source": [
    "NF = int(2**24)\n",
    "N = 2000"
   ]
  },
  {
   "cell_type": "code",
   "execution_count": 4,
   "metadata": {
    "ExecuteTime": {
     "end_time": "2020-09-13T15:03:02.060216Z",
     "start_time": "2020-09-13T15:03:01.895407Z"
    }
   },
   "outputs": [],
   "source": [
    "durations = torch.load('./durations.pth')\n",
    "positions = torch.load('./positions.pth')\n",
    "starts, ends = generate_tracks(positions, durations, NF) # skew 1/32\n",
    "mm = make_multi_map(starts[:,-2], ends[:,-2])"
   ]
  },
  {
   "cell_type": "code",
   "execution_count": 137,
   "metadata": {
    "ExecuteTime": {
     "end_time": "2020-09-09T16:25:33.543502Z",
     "start_time": "2020-09-09T16:25:33.465943Z"
    }
   },
   "outputs": [],
   "source": [
    "f,s = make_score_order(mm, N)"
   ]
  },
  {
   "cell_type": "code",
   "execution_count": 138,
   "metadata": {
    "ExecuteTime": {
     "end_time": "2020-09-09T16:25:51.970238Z",
     "start_time": "2020-09-09T16:25:51.931319Z"
    }
   },
   "outputs": [],
   "source": [
    "fs = FrameScoreOrder(f, s, gap=0)"
   ]
  },
  {
   "cell_type": "code",
   "execution_count": 269,
   "metadata": {
    "ExecuteTime": {
     "end_time": "2020-09-09T17:30:18.305849Z",
     "start_time": "2020-09-09T17:30:18.297916Z"
    }
   },
   "outputs": [
    {
     "data": {
      "text/plain": [
       "tensor([1., 1., 1., 1., 1., 1., 1., 1., 1., 1.])"
      ]
     },
     "execution_count": 269,
     "metadata": {},
     "output_type": "execute_result"
    }
   ],
   "source": [
    "dist.Normal(1., 0).sample((10,))"
   ]
  },
  {
   "cell_type": "code",
   "execution_count": 270,
   "metadata": {
    "ExecuteTime": {
     "end_time": "2020-09-09T17:31:39.290338Z",
     "start_time": "2020-09-09T17:31:39.279862Z"
    }
   },
   "outputs": [],
   "source": [
    "def make_frame_scores(mm : ArrayMultiMap, N : int, \n",
    "                     positive_sigma=0., negative_sigma=0.):\n",
    "    \"\"\"\n",
    "    :param mm: frames => tids\n",
    "    :param N: total number of instances\n",
    "    :return: a score for each frame, and the ordering on frames\n",
    "    based on a decreasing score\n",
    "    \"\"\"\n",
    "    scores_pos = dist.Normal(1., positive_sigma).sample((N,)).numpy()\n",
    "    scores_neg = dist.Normal(0., negative_sigma)\n",
    "    frscore = scores_pos[mm.ovalues]\n",
    "    np.unique(mm.okeys).shape\n",
    "    unq_keys, cts = np.unique(mm.okeys, return_counts=True)\n",
    "    accs = frscore.cumsum()\n",
    "    tots = cts.cumsum()\n",
    "    lastaccs = accs[tots-1]\n",
    "    frame_total = np.diff(lastaccs, prepend=0)\n",
    "    return unq_keys, frame_total"
   ]
  },
  {
   "cell_type": "code",
   "execution_count": 130,
   "metadata": {
    "ExecuteTime": {
     "end_time": "2020-09-09T15:51:33.110996Z",
     "start_time": "2020-09-09T15:51:33.106767Z"
    }
   },
   "outputs": [],
   "source": [
    "bm = pr.BitMap([])"
   ]
  },
  {
   "cell_type": "code",
   "execution_count": null,
   "metadata": {},
   "outputs": [],
   "source": [
    "bm.add_range()"
   ]
  },
  {
   "cell_type": "code",
   "execution_count": 271,
   "metadata": {
    "ExecuteTime": {
     "end_time": "2020-09-09T17:35:17.860147Z",
     "start_time": "2020-09-09T17:35:17.840685Z"
    }
   },
   "outputs": [],
   "source": [
    "from collections import deque\n",
    "\n",
    "def rank_scores(score):\n",
    "    \"\"\"\n",
    "    :param score: score array\n",
    "    :return: returns ranking from highest to\n",
    "    lowest score, while randomizing order of any score-ties\n",
    "    \"\"\"\n",
    "    score = -score #  want ascending scores\n",
    "    tiebreaker = np.random.randn(*score.shape)\n",
    "    idx1 = np.argsort(tiebreaker)\n",
    "    score = np.take_along_axis(score,idx1,axis=-1)\n",
    "    idx2 = np.argsort(score, kind='stable')\n",
    "    idx = np.take_along_axis(idx1,idx2,axis=-1)\n",
    "    return idx\n",
    "\n",
    "class FrameScoreOrder(Sampler):\n",
    "    \"\"\"\n",
    "    Return the highest scoring frames which are not near previous frames\n",
    "    If a frame has a positive result, then de-prioritize frames one GAP away.\n",
    "    GAP = 1 means no deprioritizing\n",
    "    Once we have gone through the remaining frames, come back once more to those\n",
    "    frames which were near previously delayed frames\n",
    "    \"\"\"\n",
    "    \n",
    "    def __init__(self, frame_ids, frame_scores, gap=1):\n",
    "        super().__init__()\n",
    "        idxs = rank_scores(frame_scores)\n",
    "        self.frame_ids = frame_ids[idxs]\n",
    "        self.frame_scores = frame_scores[idxs]\n",
    "        assert gap >= 1 # gap of 1 allows neighbors\n",
    "        self.gap = gap\n",
    "\n",
    "        # state\n",
    "        self.queue = deque(self.frame_ids)\n",
    "        self.pending = deque()\n",
    "        self.delayed_ranges = pr.BitMap([])\n",
    "                \n",
    "    def _remaining(self):\n",
    "        return len(self.queue) + len(self.pending)\n",
    "\n",
    "    def nf(self):\n",
    "        return len(self.frame_ids) - self._remaining()\n",
    "    \n",
    "    def _next(self):\n",
    "        ret = -1\n",
    "        if self._remaining() == 0:\n",
    "            return -1\n",
    "        \n",
    "        while len(self.queue) > 0:\n",
    "            ret = self.queue.popleft()\n",
    "            if ret in self.delayed_ranges:\n",
    "                self.pending.append(ret)\n",
    "            else:\n",
    "                return ret\n",
    "            \n",
    "        # reset state to go through pending frames in similar fashion\n",
    "        assert len(self.queue) == 0\n",
    "        self.queue = self.pending\n",
    "        self.pending = deque()\n",
    "        self.delayed_ranges = pr.BitMap([])\n",
    "        return self._next()\n",
    "            \n",
    "    def next_batch(self, n):\n",
    "        ret = []\n",
    "        for _ in range(n):\n",
    "            r = self._next()\n",
    "            if r >= 0:\n",
    "                ret.append(r)\n",
    "            else:\n",
    "                break\n",
    "                \n",
    "        return (np.array(ret), None)\n",
    "    \n",
    "    def feedback(self, batch, match_ids):\n",
    "        # delay frames near previous frames with positive results\n",
    "        (ilocs, _) = batch\n",
    "        for (i,ms) in zip(ilocs, match_ids):\n",
    "            if len(ms) > 0: \n",
    "                start = max(i-self.gap + 1, 0)\n",
    "                self.delayed_ranges.add_range(start, i+self.gap)"
   ]
  },
  {
   "cell_type": "code",
   "execution_count": 147,
   "metadata": {
    "ExecuteTime": {
     "end_time": "2020-09-09T16:28:36.265698Z",
     "start_time": "2020-09-09T16:28:36.262259Z"
    }
   },
   "outputs": [],
   "source": [
    "# checks:\n",
    "# 1) gap=0 means it just returns frame ids.\n",
    "# 2) try some random gap and check it returns all frame ids eventually"
   ]
  },
  {
   "cell_type": "code",
   "execution_count": 232,
   "metadata": {
    "ExecuteTime": {
     "end_time": "2020-09-09T17:04:35.720963Z",
     "start_time": "2020-09-09T17:04:35.714538Z"
    }
   },
   "outputs": [
    {
     "data": {
      "text/plain": [
       "array([0, 1, 2, 3, 4, 5, 6, 7, 8, 9])"
      ]
     },
     "execution_count": 232,
     "metadata": {},
     "output_type": "execute_result"
    }
   ],
   "source": [
    "np.arange(10)"
   ]
  },
  {
   "cell_type": "code",
   "execution_count": 272,
   "metadata": {
    "ExecuteTime": {
     "end_time": "2020-09-09T17:35:20.460427Z",
     "start_time": "2020-09-09T17:35:20.408850Z"
    }
   },
   "outputs": [],
   "source": [
    "def testFrameScoreOrder():\n",
    "    f = np.arange(1000)\n",
    "    s = np.arange(1., 0., step=-1./f.shape[0])\n",
    "    ## score max to 0\n",
    "    scramble = np.random.permutation(f.shape[0])\n",
    "    f = f[scramble]\n",
    "    s = s[scramble]\n",
    "    \n",
    "    def checkFirst():\n",
    "        fso = FrameScoreOrder(frame_ids=f, frame_scores=s, gap=1)\n",
    "        fst = fso.next_batch(n=1)\n",
    "        assert fst[0] == 0\n",
    "    checkFirst()\n",
    "\n",
    "    ## check I get everything\n",
    "    def checkSequential():\n",
    "        rets = []\n",
    "        fso = FrameScoreOrder(frame_ids=f, frame_scores=s, gap=1)\n",
    "        while True:\n",
    "            (ilocs, _) = fso.next_batch(n=1)\n",
    "            if len(ilocs) == 0:\n",
    "                break\n",
    "            rets.append(ilocs[0])\n",
    "        assert (np.array(rets) == np.arange(f.shape[0])).all()\n",
    "    checkSequential()\n",
    "        \n",
    "\n",
    "    def checkGapNoPositive():\n",
    "        rets = []\n",
    "        fso = FrameScoreOrder(frame_ids=f, frame_scores=s, gap=100)\n",
    "        while True:\n",
    "            (ilocs, _) = fso.next_batch(n=1)\n",
    "            if len(ilocs) < 1:\n",
    "                break\n",
    "            rets.append(ilocs[0])\n",
    "            # no positives\n",
    "            fso.feedback((ilocs,None), [[] for _ in range(len(ilocs))])\n",
    "            \n",
    "        retset = set(rets)\n",
    "        assert len(retset) == len(rets)\n",
    "        assert set(rets) == set(f)\n",
    "    checkGapNoPositive()\n",
    "        \n",
    "    def checkGap():\n",
    "        rets = []\n",
    "        fso = FrameScoreOrder(frame_ids=f, frame_scores=s, gap=100)\n",
    "        while True:\n",
    "            (ilocs, _) = fso.next_batch(n=1)\n",
    "            if len(ilocs) < 1:\n",
    "                break\n",
    "            rets.append(ilocs[0])\n",
    "            fso.feedback((ilocs, None), match_ids=[[i] for i  in range(len(ilocs))])\n",
    "\n",
    "        retset = set(rets)\n",
    "        assert len(retset) == len(rets)\n",
    "        assert set(rets) == set(f)\n",
    "        post_order = np.array(rets)\n",
    "        assert (post_order[:10] == np.arange(0,1000,step=100)).all()\n",
    "        assert (post_order[10:20] == np.arange(1,1001,step=100)).all()\n",
    "    checkGap()\n",
    "    \n",
    "testFrameScoreOrder()"
   ]
  },
  {
   "cell_type": "code",
   "execution_count": 273,
   "metadata": {
    "ExecuteTime": {
     "end_time": "2020-09-09T17:35:22.317565Z",
     "start_time": "2020-09-09T17:35:22.308681Z"
    }
   },
   "outputs": [],
   "source": [
    "def gen_exp_partitions(mm, ps, Ms):\n",
    "    ans = []\n",
    "    ps = ps.reshape(-1)\n",
    "\n",
    "    for i,M in enumerate(Ms):\n",
    "        Ps = getPs(mm, N, NF, NF//M)\n",
    "        ans.append({'params':{'NF':NF,\n",
    "                              'N':N,\n",
    "                            'minp':ps.min().item(),\n",
    "                            'mup':ps.mean().item(), \n",
    "                            'maxp':ps.max().item(),\n",
    "                            'sigmap':ps.std().item(), \n",
    "                            'M':M},\n",
    "                    'mm':mm,\n",
    "                    'Ps':Ps})\n",
    "        assert Ps.shape[1] == M\n",
    "        assert np.isclose(Ps.mean(axis=1), ps).all()\n",
    "        assert (Ps <= 1.).all()\n",
    "        assert (Ps >= 0.).all()\n",
    "    return ans"
   ]
  },
  {
   "cell_type": "code",
   "execution_count": 274,
   "metadata": {
    "ExecuteTime": {
     "end_time": "2020-09-09T17:35:23.629378Z",
     "start_time": "2020-09-09T17:35:23.564396Z"
    }
   },
   "outputs": [],
   "source": [
    "setups = gen_exp_partitions(mm, ps, np.array([128]))"
   ]
  },
  {
   "cell_type": "code",
   "execution_count": 279,
   "metadata": {
    "ExecuteTime": {
     "end_time": "2020-09-09T17:37:34.306798Z",
     "start_time": "2020-09-09T17:37:34.292861Z"
    }
   },
   "outputs": [],
   "source": [
    "#frames = np.arange(NF).astype('int')\n",
    "def make_experiment(mm, batch_size, score, score_params, other_params):\n",
    "    g = Grader(mm, pr.BitMap([]))\n",
    "    \n",
    "    if score == 'random1':\n",
    "        s = RandomlyPermutedRange(0, NF)\n",
    "    elif score == 'framescore':\n",
    "        frames, scores = make_frame_scores(mm, N, positive_sigma=score_params['score_sigma'])\n",
    "        s = FrameScoreOrder(frames, scores, gap=score_params['gap'])\n",
    "    else:\n",
    "        M = other_params['M']\n",
    "        fpc = NF//M\n",
    "        samplers = [RandomlyPermutedRange(start=fpc*i, end=fpc*(i+1)) for i in range(M)]\n",
    "        if score == 'gt':\n",
    "            sm = GtScore\n",
    "        elif score == 'statscorer':\n",
    "            sm = StatScorer\n",
    "        elif score == 'random':\n",
    "            sm = RandomScore\n",
    "        else:\n",
    "            assert False\n",
    "        \n",
    "        s = CompositeSampler(samplers, NI=N, score_method=sm, score_opts=score_params)\n",
    "\n",
    "    params={'score':score}\n",
    "    params.update(score_params)\n",
    "    params.update(other_params)\n",
    "    exp = Experiment(sampler=s, grader=g, params=params, param_names=params, \n",
    "                     NI=N, NF=NF, batch_size=batch_size)\n",
    "    return exp"
   ]
  },
  {
   "cell_type": "code",
   "execution_count": 276,
   "metadata": {
    "ExecuteTime": {
     "end_time": "2020-09-09T17:35:27.170692Z",
     "start_time": "2020-09-09T17:35:27.163805Z"
    }
   },
   "outputs": [],
   "source": [
    "def skew_metric(Ps, fraction=.5):\n",
    "    Ns = (Ps > 0).sum(axis=0)\n",
    "    order = np.argsort(-Ns)\n",
    "    ons = Ns[order]\n",
    "    fracs = ons/sum(ons)\n",
    "    needed = (fracs.cumsum() < fraction).sum() + 1\n",
    "    return Ps.shape[1]/needed"
   ]
  },
  {
   "cell_type": "code",
   "execution_count": 277,
   "metadata": {
    "ExecuteTime": {
     "end_time": "2020-09-09T17:35:27.413705Z",
     "start_time": "2020-09-09T17:35:27.407586Z"
    }
   },
   "outputs": [],
   "source": [
    "def make_composite(df, cols):\n",
    "    df = df[cols]\n",
    "    tot = df[df.columns[0]]\n",
    "    for c in df.columns[1:]:\n",
    "        tot = tot + '_' + df[c].map(str)\n",
    "    return tot"
   ]
  },
  {
   "cell_type": "code",
   "execution_count": 59,
   "metadata": {
    "ExecuteTime": {
     "end_time": "2020-09-09T14:35:15.547584Z",
     "start_time": "2020-09-09T14:35:15.544528Z"
    }
   },
   "outputs": [],
   "source": [
    "# current goal: explain greedy scoring vs. sampling\n",
    "# it will help explain results."
   ]
  },
  {
   "cell_type": "code",
   "execution_count": 302,
   "metadata": {
    "ExecuteTime": {
     "end_time": "2020-09-09T17:45:47.834876Z",
     "start_time": "2020-09-09T17:45:46.333647Z"
    }
   },
   "outputs": [],
   "source": [
    "exps4 = []\n",
    "for ent in setups:\n",
    "    for i in range(5):\n",
    "        es = [\n",
    "                make_experiment(ent['mm'], batch_size=1, score='random1', \n",
    "                                     score_params=dict(stat='dummy', exp_model='dummy'),\n",
    "                                     other_params=ent['params']),\n",
    "                make_experiment(ent['mm'], batch_size=1, score='statscorer', \n",
    "                                score_params=dict(stat='gt', exp_model='ts'), \n",
    "                                other_params=ent['params']),\n",
    "                make_experiment(ent['mm'], batch_size=1, score='framescore',\n",
    "                                score_params=dict(stat='gt', exp_model='ts',\n",
    "                                                  gap=100, score_sigma=0), \n",
    "                                other_params=ent['params']),\n",
    "                make_experiment(ent['mm'], batch_size=1, score='framescore',\n",
    "                                score_params=dict(stat='gt', exp_model='ts',\n",
    "                                                  gap=100, score_sigma=.1), \n",
    "                                other_params=ent['params']),\n",
    "            #                 make_experiment(mm, batch_size=1, score='statscorer', \n",
    "#                                 score_params=dict(stat='gt', exp_model='bayes_ucb'), \n",
    "#                                 other_params=dict(M=M, x=x)),\n",
    "#                 make_experiment(mm, batch_size=1, score='statscorer', \n",
    "#                                 score_params=dict(stat='unique', exp_model='ts'), \n",
    "#                                 other_params=dict(M=M, x=x)),\n",
    "#                 make_experiment(mm, batch_size=1, score='statscorer', \n",
    "#                                 score_params=dict(stat='gt', exp_model='none'), \n",
    "#                                 other_params=dict(M=M, x=x))\n",
    "        ]\n",
    "        exps4.extend(es)"
   ]
  },
  {
   "cell_type": "code",
   "execution_count": 303,
   "metadata": {
    "ExecuteTime": {
     "end_time": "2020-09-09T17:46:27.361079Z",
     "start_time": "2020-09-09T17:45:51.790447Z"
    }
   },
   "outputs": [
    {
     "data": {
      "application/vnd.jupyter.widget-view+json": {
       "model_id": "184d44fc5b7a4a09afdcf1309932db87",
       "version_major": 2,
       "version_minor": 0
      },
      "text/plain": [
       "HBox(children=(FloatProgress(value=0.0, max=20.0), HTML(value='')))"
      ]
     },
     "metadata": {},
     "output_type": "display_data"
    },
    {
     "data": {
      "application/vnd.jupyter.widget-view+json": {
       "model_id": "",
       "version_major": 2,
       "version_minor": 0
      },
      "text/plain": [
       "HBox(children=(FloatProgress(value=1.0, bar_style='info', max=1.0), HTML(value='')))"
      ]
     },
     "metadata": {},
     "output_type": "display_data"
    },
    {
     "data": {
      "application/vnd.jupyter.widget-view+json": {
       "model_id": "",
       "version_major": 2,
       "version_minor": 0
      },
      "text/plain": [
       "HBox(children=(FloatProgress(value=1.0, bar_style='info', max=1.0), HTML(value='')))"
      ]
     },
     "metadata": {},
     "output_type": "display_data"
    },
    {
     "data": {
      "application/vnd.jupyter.widget-view+json": {
       "model_id": "",
       "version_major": 2,
       "version_minor": 0
      },
      "text/plain": [
       "HBox(children=(FloatProgress(value=1.0, bar_style='info', max=1.0), HTML(value='')))"
      ]
     },
     "metadata": {},
     "output_type": "display_data"
    },
    {
     "data": {
      "application/vnd.jupyter.widget-view+json": {
       "model_id": "",
       "version_major": 2,
       "version_minor": 0
      },
      "text/plain": [
       "HBox(children=(FloatProgress(value=1.0, bar_style='info', max=1.0), HTML(value='')))"
      ]
     },
     "metadata": {},
     "output_type": "display_data"
    },
    {
     "data": {
      "application/vnd.jupyter.widget-view+json": {
       "model_id": "",
       "version_major": 2,
       "version_minor": 0
      },
      "text/plain": [
       "HBox(children=(FloatProgress(value=1.0, bar_style='info', max=1.0), HTML(value='')))"
      ]
     },
     "metadata": {},
     "output_type": "display_data"
    },
    {
     "data": {
      "application/vnd.jupyter.widget-view+json": {
       "model_id": "",
       "version_major": 2,
       "version_minor": 0
      },
      "text/plain": [
       "HBox(children=(FloatProgress(value=1.0, bar_style='info', max=1.0), HTML(value='')))"
      ]
     },
     "metadata": {},
     "output_type": "display_data"
    },
    {
     "data": {
      "application/vnd.jupyter.widget-view+json": {
       "model_id": "",
       "version_major": 2,
       "version_minor": 0
      },
      "text/plain": [
       "HBox(children=(FloatProgress(value=1.0, bar_style='info', max=1.0), HTML(value='')))"
      ]
     },
     "metadata": {},
     "output_type": "display_data"
    },
    {
     "data": {
      "application/vnd.jupyter.widget-view+json": {
       "model_id": "",
       "version_major": 2,
       "version_minor": 0
      },
      "text/plain": [
       "HBox(children=(FloatProgress(value=1.0, bar_style='info', max=1.0), HTML(value='')))"
      ]
     },
     "metadata": {},
     "output_type": "display_data"
    },
    {
     "data": {
      "application/vnd.jupyter.widget-view+json": {
       "model_id": "",
       "version_major": 2,
       "version_minor": 0
      },
      "text/plain": [
       "HBox(children=(FloatProgress(value=1.0, bar_style='info', max=1.0), HTML(value='')))"
      ]
     },
     "metadata": {},
     "output_type": "display_data"
    },
    {
     "data": {
      "application/vnd.jupyter.widget-view+json": {
       "model_id": "",
       "version_major": 2,
       "version_minor": 0
      },
      "text/plain": [
       "HBox(children=(FloatProgress(value=1.0, bar_style='info', max=1.0), HTML(value='')))"
      ]
     },
     "metadata": {},
     "output_type": "display_data"
    },
    {
     "data": {
      "application/vnd.jupyter.widget-view+json": {
       "model_id": "",
       "version_major": 2,
       "version_minor": 0
      },
      "text/plain": [
       "HBox(children=(FloatProgress(value=1.0, bar_style='info', max=1.0), HTML(value='')))"
      ]
     },
     "metadata": {},
     "output_type": "display_data"
    },
    {
     "data": {
      "application/vnd.jupyter.widget-view+json": {
       "model_id": "",
       "version_major": 2,
       "version_minor": 0
      },
      "text/plain": [
       "HBox(children=(FloatProgress(value=1.0, bar_style='info', max=1.0), HTML(value='')))"
      ]
     },
     "metadata": {},
     "output_type": "display_data"
    },
    {
     "data": {
      "application/vnd.jupyter.widget-view+json": {
       "model_id": "",
       "version_major": 2,
       "version_minor": 0
      },
      "text/plain": [
       "HBox(children=(FloatProgress(value=1.0, bar_style='info', max=1.0), HTML(value='')))"
      ]
     },
     "metadata": {},
     "output_type": "display_data"
    },
    {
     "data": {
      "application/vnd.jupyter.widget-view+json": {
       "model_id": "",
       "version_major": 2,
       "version_minor": 0
      },
      "text/plain": [
       "HBox(children=(FloatProgress(value=1.0, bar_style='info', max=1.0), HTML(value='')))"
      ]
     },
     "metadata": {},
     "output_type": "display_data"
    },
    {
     "data": {
      "application/vnd.jupyter.widget-view+json": {
       "model_id": "",
       "version_major": 2,
       "version_minor": 0
      },
      "text/plain": [
       "HBox(children=(FloatProgress(value=1.0, bar_style='info', max=1.0), HTML(value='')))"
      ]
     },
     "metadata": {},
     "output_type": "display_data"
    },
    {
     "data": {
      "application/vnd.jupyter.widget-view+json": {
       "model_id": "",
       "version_major": 2,
       "version_minor": 0
      },
      "text/plain": [
       "HBox(children=(FloatProgress(value=1.0, bar_style='info', max=1.0), HTML(value='')))"
      ]
     },
     "metadata": {},
     "output_type": "display_data"
    },
    {
     "data": {
      "application/vnd.jupyter.widget-view+json": {
       "model_id": "",
       "version_major": 2,
       "version_minor": 0
      },
      "text/plain": [
       "HBox(children=(FloatProgress(value=1.0, bar_style='info', max=1.0), HTML(value='')))"
      ]
     },
     "metadata": {},
     "output_type": "display_data"
    },
    {
     "data": {
      "application/vnd.jupyter.widget-view+json": {
       "model_id": "",
       "version_major": 2,
       "version_minor": 0
      },
      "text/plain": [
       "HBox(children=(FloatProgress(value=1.0, bar_style='info', max=1.0), HTML(value='')))"
      ]
     },
     "metadata": {},
     "output_type": "display_data"
    },
    {
     "data": {
      "application/vnd.jupyter.widget-view+json": {
       "model_id": "",
       "version_major": 2,
       "version_minor": 0
      },
      "text/plain": [
       "HBox(children=(FloatProgress(value=1.0, bar_style='info', max=1.0), HTML(value='')))"
      ]
     },
     "metadata": {},
     "output_type": "display_data"
    },
    {
     "data": {
      "application/vnd.jupyter.widget-view+json": {
       "model_id": "",
       "version_major": 2,
       "version_minor": 0
      },
      "text/plain": [
       "HBox(children=(FloatProgress(value=1.0, bar_style='info', max=1.0), HTML(value='')))"
      ]
     },
     "metadata": {},
     "output_type": "display_data"
    },
    {
     "name": "stdout",
     "output_type": "stream",
     "text": [
      "\n"
     ]
    }
   ],
   "source": [
    "for exp in tqdm(exps4):\n",
    "    exp.run_up_to(threshold=5000, metric='frames')"
   ]
  },
  {
   "cell_type": "code",
   "execution_count": 341,
   "metadata": {
    "ExecuteTime": {
     "end_time": "2020-09-12T21:23:26.627269Z",
     "start_time": "2020-09-12T21:23:26.355470Z"
    }
   },
   "outputs": [],
   "source": [
    "res = []\n",
    "for exp in exps4:\n",
    "    r = exp.get_results()\n",
    "    res.append(r)"
   ]
  },
  {
   "cell_type": "code",
   "execution_count": 342,
   "metadata": {
    "ExecuteTime": {
     "end_time": "2020-09-12T21:23:28.720729Z",
     "start_time": "2020-09-12T21:23:28.662043Z"
    }
   },
   "outputs": [],
   "source": [
    "all_res = pd.concat(res)\n",
    "df = all_res"
   ]
  },
  {
   "cell_type": "code",
   "execution_count": 343,
   "metadata": {
    "ExecuteTime": {
     "end_time": "2020-09-12T21:23:29.787487Z",
     "start_time": "2020-09-12T21:23:29.772409Z"
    }
   },
   "outputs": [
    {
     "data": {
      "text/plain": [
       "array(['random1_dummy_dummy_16777216_2000_3.337860107421875e-06_4.159343242645264e-05_0.0003134012222290039_2.930580244735737e-05_128',\n",
       "       'statscorer_gt_ts_16777216_2000_3.337860107421875e-06_4.159343242645264e-05_0.0003134012222290039_2.930580244735737e-05_128',\n",
       "       'framescore_gt_ts_100_0_16777216_2000_3.337860107421875e-06_4.159343242645264e-05_0.0003134012222290039_2.930580244735737e-05_128',\n",
       "       'framescore_gt_ts_100_0.1_16777216_2000_3.337860107421875e-06_4.159343242645264e-05_0.0003134012222290039_2.930580244735737e-05_128'],\n",
       "      dtype=object)"
      ]
     },
     "execution_count": 343,
     "metadata": {},
     "output_type": "execute_result"
    }
   ],
   "source": [
    "df.method.unique()"
   ]
  },
  {
   "cell_type": "code",
   "execution_count": 321,
   "metadata": {
    "ExecuteTime": {
     "end_time": "2020-09-09T17:50:27.127938Z",
     "start_time": "2020-09-09T17:50:27.121201Z"
    }
   },
   "outputs": [],
   "source": [
    "def mn(m):\n",
    "    if m.startswith('random1'):\n",
    "        return 'random'\n",
    "    elif m.startswith('statscorer'):\n",
    "        return 'this work'\n",
    "    elif m.startswith('framescore_gt_ts_100_0_'):\n",
    "        return 'perfect frame score'\n",
    "    elif m.startswith('framescore_gt_ts_100_0.1_'):\n",
    "        return 'varying perfect frame score'\n",
    "    else:\n",
    "        assert False"
   ]
  },
  {
   "cell_type": "code",
   "execution_count": 323,
   "metadata": {
    "ExecuteTime": {
     "end_time": "2020-09-09T17:50:42.089604Z",
     "start_time": "2020-09-09T17:50:42.063233Z"
    }
   },
   "outputs": [],
   "source": [
    "df = df.assign(method=df.method.map(mn))"
   ]
  },
  {
   "cell_type": "code",
   "execution_count": 306,
   "metadata": {
    "ExecuteTime": {
     "end_time": "2020-09-09T17:46:33.431183Z",
     "start_time": "2020-09-09T17:46:33.427544Z"
    }
   },
   "outputs": [],
   "source": [
    "from plotnine import *"
   ]
  },
  {
   "cell_type": "code",
   "execution_count": 324,
   "metadata": {
    "ExecuteTime": {
     "end_time": "2020-09-09T17:50:55.471187Z",
     "start_time": "2020-09-09T17:50:55.462381Z"
    }
   },
   "outputs": [],
   "source": [
    "# df = df.assign(method=make_composite(df, ['score', 'stat', 'exp_model', 'M']))\n",
    "df = df.assign(task='t')\n",
    "#df = df.assign(method=df.method.fillna('random'))\n",
    "#df = df.assign(duration=(df.mup*NF).astype('int')//30, chunks=df.M)\n",
    "# df = df.assign(method=df.score)#df.method.map(lambda x: x.split('_')[0] if x.endswith('gt_ts') else 'random'))"
   ]
  },
  {
   "cell_type": "code",
   "execution_count": 325,
   "metadata": {
    "ExecuteTime": {
     "end_time": "2020-09-09T17:50:56.118555Z",
     "start_time": "2020-09-09T17:50:56.064715Z"
    }
   },
   "outputs": [
    {
     "data": {
      "text/html": [
       "<div>\n",
       "<style scoped>\n",
       "    .dataframe tbody tr th:only-of-type {\n",
       "        vertical-align: middle;\n",
       "    }\n",
       "\n",
       "    .dataframe tbody tr th {\n",
       "        vertical-align: top;\n",
       "    }\n",
       "\n",
       "    .dataframe thead th {\n",
       "        text-align: right;\n",
       "    }\n",
       "</style>\n",
       "<table border=\"1\" class=\"dataframe\">\n",
       "  <thead>\n",
       "    <tr style=\"text-align: right;\">\n",
       "      <th></th>\n",
       "      <th>timestamp</th>\n",
       "      <th>ni</th>\n",
       "      <th>nf</th>\n",
       "      <th>wall_clock</th>\n",
       "      <th>score</th>\n",
       "      <th>stat</th>\n",
       "      <th>exp_model</th>\n",
       "      <th>NF</th>\n",
       "      <th>N</th>\n",
       "      <th>minp</th>\n",
       "      <th>...</th>\n",
       "      <th>M</th>\n",
       "      <th>experiment_id</th>\n",
       "      <th>method</th>\n",
       "      <th>params</th>\n",
       "      <th>instance_f</th>\n",
       "      <th>frame_f</th>\n",
       "      <th>NI</th>\n",
       "      <th>gap</th>\n",
       "      <th>score_sigma</th>\n",
       "      <th>task</th>\n",
       "    </tr>\n",
       "  </thead>\n",
       "  <tbody>\n",
       "    <tr>\n",
       "      <th>0</th>\n",
       "      <td>1.599674e+09</td>\n",
       "      <td>0</td>\n",
       "      <td>0</td>\n",
       "      <td>0.000000</td>\n",
       "      <td>random1</td>\n",
       "      <td>dummy</td>\n",
       "      <td>dummy</td>\n",
       "      <td>16777216</td>\n",
       "      <td>2000</td>\n",
       "      <td>0.000003</td>\n",
       "      <td>...</td>\n",
       "      <td>128</td>\n",
       "      <td>7080404209362723575</td>\n",
       "      <td>random</td>\n",
       "      <td>random1_dummy_dummy_16777216_2000_3.3378601074...</td>\n",
       "      <td>0.0000</td>\n",
       "      <td>0.000000e+00</td>\n",
       "      <td>2000</td>\n",
       "      <td>NaN</td>\n",
       "      <td>NaN</td>\n",
       "      <td>t</td>\n",
       "    </tr>\n",
       "    <tr>\n",
       "      <th>1</th>\n",
       "      <td>1.599674e+09</td>\n",
       "      <td>0</td>\n",
       "      <td>6</td>\n",
       "      <td>5.487427</td>\n",
       "      <td>random1</td>\n",
       "      <td>dummy</td>\n",
       "      <td>dummy</td>\n",
       "      <td>16777216</td>\n",
       "      <td>2000</td>\n",
       "      <td>0.000003</td>\n",
       "      <td>...</td>\n",
       "      <td>128</td>\n",
       "      <td>7080404209362723575</td>\n",
       "      <td>random</td>\n",
       "      <td>random1_dummy_dummy_16777216_2000_3.3378601074...</td>\n",
       "      <td>0.0000</td>\n",
       "      <td>3.576279e-07</td>\n",
       "      <td>2000</td>\n",
       "      <td>NaN</td>\n",
       "      <td>NaN</td>\n",
       "      <td>t</td>\n",
       "    </tr>\n",
       "    <tr>\n",
       "      <th>2</th>\n",
       "      <td>1.599674e+09</td>\n",
       "      <td>3</td>\n",
       "      <td>7</td>\n",
       "      <td>5.487434</td>\n",
       "      <td>random1</td>\n",
       "      <td>dummy</td>\n",
       "      <td>dummy</td>\n",
       "      <td>16777216</td>\n",
       "      <td>2000</td>\n",
       "      <td>0.000003</td>\n",
       "      <td>...</td>\n",
       "      <td>128</td>\n",
       "      <td>7080404209362723575</td>\n",
       "      <td>random</td>\n",
       "      <td>random1_dummy_dummy_16777216_2000_3.3378601074...</td>\n",
       "      <td>0.0015</td>\n",
       "      <td>4.172325e-07</td>\n",
       "      <td>2000</td>\n",
       "      <td>NaN</td>\n",
       "      <td>NaN</td>\n",
       "      <td>t</td>\n",
       "    </tr>\n",
       "    <tr>\n",
       "      <th>3</th>\n",
       "      <td>1.599674e+09</td>\n",
       "      <td>3</td>\n",
       "      <td>8</td>\n",
       "      <td>5.487995</td>\n",
       "      <td>random1</td>\n",
       "      <td>dummy</td>\n",
       "      <td>dummy</td>\n",
       "      <td>16777216</td>\n",
       "      <td>2000</td>\n",
       "      <td>0.000003</td>\n",
       "      <td>...</td>\n",
       "      <td>128</td>\n",
       "      <td>7080404209362723575</td>\n",
       "      <td>random</td>\n",
       "      <td>random1_dummy_dummy_16777216_2000_3.3378601074...</td>\n",
       "      <td>0.0015</td>\n",
       "      <td>4.768372e-07</td>\n",
       "      <td>2000</td>\n",
       "      <td>NaN</td>\n",
       "      <td>NaN</td>\n",
       "      <td>t</td>\n",
       "    </tr>\n",
       "    <tr>\n",
       "      <th>4</th>\n",
       "      <td>1.599674e+09</td>\n",
       "      <td>5</td>\n",
       "      <td>9</td>\n",
       "      <td>5.488004</td>\n",
       "      <td>random1</td>\n",
       "      <td>dummy</td>\n",
       "      <td>dummy</td>\n",
       "      <td>16777216</td>\n",
       "      <td>2000</td>\n",
       "      <td>0.000003</td>\n",
       "      <td>...</td>\n",
       "      <td>128</td>\n",
       "      <td>7080404209362723575</td>\n",
       "      <td>random</td>\n",
       "      <td>random1_dummy_dummy_16777216_2000_3.3378601074...</td>\n",
       "      <td>0.0025</td>\n",
       "      <td>5.364418e-07</td>\n",
       "      <td>2000</td>\n",
       "      <td>NaN</td>\n",
       "      <td>NaN</td>\n",
       "      <td>t</td>\n",
       "    </tr>\n",
       "    <tr>\n",
       "      <th>...</th>\n",
       "      <td>...</td>\n",
       "      <td>...</td>\n",
       "      <td>...</td>\n",
       "      <td>...</td>\n",
       "      <td>...</td>\n",
       "      <td>...</td>\n",
       "      <td>...</td>\n",
       "      <td>...</td>\n",
       "      <td>...</td>\n",
       "      <td>...</td>\n",
       "      <td>...</td>\n",
       "      <td>...</td>\n",
       "      <td>...</td>\n",
       "      <td>...</td>\n",
       "      <td>...</td>\n",
       "      <td>...</td>\n",
       "      <td>...</td>\n",
       "      <td>...</td>\n",
       "      <td>...</td>\n",
       "      <td>...</td>\n",
       "      <td>...</td>\n",
       "    </tr>\n",
       "    <tr>\n",
       "      <th>1699</th>\n",
       "      <td>1.599674e+09</td>\n",
       "      <td>1998</td>\n",
       "      <td>3948</td>\n",
       "      <td>39.631045</td>\n",
       "      <td>framescore</td>\n",
       "      <td>gt</td>\n",
       "      <td>ts</td>\n",
       "      <td>16777216</td>\n",
       "      <td>2000</td>\n",
       "      <td>0.000003</td>\n",
       "      <td>...</td>\n",
       "      <td>128</td>\n",
       "      <td>8025630163183545708</td>\n",
       "      <td>varying perfect frame score</td>\n",
       "      <td>framescore_gt_ts_100_0.1_16777216_2000_3.33786...</td>\n",
       "      <td>0.9990</td>\n",
       "      <td>2.353191e-04</td>\n",
       "      <td>2000</td>\n",
       "      <td>100.0</td>\n",
       "      <td>0.1</td>\n",
       "      <td>t</td>\n",
       "    </tr>\n",
       "    <tr>\n",
       "      <th>1700</th>\n",
       "      <td>1.599674e+09</td>\n",
       "      <td>1999</td>\n",
       "      <td>3949</td>\n",
       "      <td>39.631051</td>\n",
       "      <td>framescore</td>\n",
       "      <td>gt</td>\n",
       "      <td>ts</td>\n",
       "      <td>16777216</td>\n",
       "      <td>2000</td>\n",
       "      <td>0.000003</td>\n",
       "      <td>...</td>\n",
       "      <td>128</td>\n",
       "      <td>8025630163183545708</td>\n",
       "      <td>varying perfect frame score</td>\n",
       "      <td>framescore_gt_ts_100_0.1_16777216_2000_3.33786...</td>\n",
       "      <td>0.9995</td>\n",
       "      <td>2.353787e-04</td>\n",
       "      <td>2000</td>\n",
       "      <td>100.0</td>\n",
       "      <td>0.1</td>\n",
       "      <td>t</td>\n",
       "    </tr>\n",
       "    <tr>\n",
       "      <th>1701</th>\n",
       "      <td>1.599674e+09</td>\n",
       "      <td>1999</td>\n",
       "      <td>3959</td>\n",
       "      <td>39.632301</td>\n",
       "      <td>framescore</td>\n",
       "      <td>gt</td>\n",
       "      <td>ts</td>\n",
       "      <td>16777216</td>\n",
       "      <td>2000</td>\n",
       "      <td>0.000003</td>\n",
       "      <td>...</td>\n",
       "      <td>128</td>\n",
       "      <td>8025630163183545708</td>\n",
       "      <td>varying perfect frame score</td>\n",
       "      <td>framescore_gt_ts_100_0.1_16777216_2000_3.33786...</td>\n",
       "      <td>0.9995</td>\n",
       "      <td>2.359748e-04</td>\n",
       "      <td>2000</td>\n",
       "      <td>100.0</td>\n",
       "      <td>0.1</td>\n",
       "      <td>t</td>\n",
       "    </tr>\n",
       "    <tr>\n",
       "      <th>1702</th>\n",
       "      <td>1.599674e+09</td>\n",
       "      <td>2000</td>\n",
       "      <td>3960</td>\n",
       "      <td>39.632307</td>\n",
       "      <td>framescore</td>\n",
       "      <td>gt</td>\n",
       "      <td>ts</td>\n",
       "      <td>16777216</td>\n",
       "      <td>2000</td>\n",
       "      <td>0.000003</td>\n",
       "      <td>...</td>\n",
       "      <td>128</td>\n",
       "      <td>8025630163183545708</td>\n",
       "      <td>varying perfect frame score</td>\n",
       "      <td>framescore_gt_ts_100_0.1_16777216_2000_3.33786...</td>\n",
       "      <td>1.0000</td>\n",
       "      <td>2.360344e-04</td>\n",
       "      <td>2000</td>\n",
       "      <td>100.0</td>\n",
       "      <td>0.1</td>\n",
       "      <td>t</td>\n",
       "    </tr>\n",
       "    <tr>\n",
       "      <th>1703</th>\n",
       "      <td>1.599674e+09</td>\n",
       "      <td>2000</td>\n",
       "      <td>3960</td>\n",
       "      <td>43.642222</td>\n",
       "      <td>framescore</td>\n",
       "      <td>gt</td>\n",
       "      <td>ts</td>\n",
       "      <td>16777216</td>\n",
       "      <td>2000</td>\n",
       "      <td>0.000003</td>\n",
       "      <td>...</td>\n",
       "      <td>128</td>\n",
       "      <td>8025630163183545708</td>\n",
       "      <td>varying perfect frame score</td>\n",
       "      <td>framescore_gt_ts_100_0.1_16777216_2000_3.33786...</td>\n",
       "      <td>1.0000</td>\n",
       "      <td>2.360344e-04</td>\n",
       "      <td>2000</td>\n",
       "      <td>100.0</td>\n",
       "      <td>0.1</td>\n",
       "      <td>t</td>\n",
       "    </tr>\n",
       "  </tbody>\n",
       "</table>\n",
       "<p>27526 rows × 23 columns</p>\n",
       "</div>"
      ],
      "text/plain": [
       "         timestamp    ni    nf  wall_clock       score   stat exp_model  \\\n",
       "0     1.599674e+09     0     0    0.000000     random1  dummy     dummy   \n",
       "1     1.599674e+09     0     6    5.487427     random1  dummy     dummy   \n",
       "2     1.599674e+09     3     7    5.487434     random1  dummy     dummy   \n",
       "3     1.599674e+09     3     8    5.487995     random1  dummy     dummy   \n",
       "4     1.599674e+09     5     9    5.488004     random1  dummy     dummy   \n",
       "...            ...   ...   ...         ...         ...    ...       ...   \n",
       "1699  1.599674e+09  1998  3948   39.631045  framescore     gt        ts   \n",
       "1700  1.599674e+09  1999  3949   39.631051  framescore     gt        ts   \n",
       "1701  1.599674e+09  1999  3959   39.632301  framescore     gt        ts   \n",
       "1702  1.599674e+09  2000  3960   39.632307  framescore     gt        ts   \n",
       "1703  1.599674e+09  2000  3960   43.642222  framescore     gt        ts   \n",
       "\n",
       "            NF     N      minp  ...    M        experiment_id  \\\n",
       "0     16777216  2000  0.000003  ...  128  7080404209362723575   \n",
       "1     16777216  2000  0.000003  ...  128  7080404209362723575   \n",
       "2     16777216  2000  0.000003  ...  128  7080404209362723575   \n",
       "3     16777216  2000  0.000003  ...  128  7080404209362723575   \n",
       "4     16777216  2000  0.000003  ...  128  7080404209362723575   \n",
       "...        ...   ...       ...  ...  ...                  ...   \n",
       "1699  16777216  2000  0.000003  ...  128  8025630163183545708   \n",
       "1700  16777216  2000  0.000003  ...  128  8025630163183545708   \n",
       "1701  16777216  2000  0.000003  ...  128  8025630163183545708   \n",
       "1702  16777216  2000  0.000003  ...  128  8025630163183545708   \n",
       "1703  16777216  2000  0.000003  ...  128  8025630163183545708   \n",
       "\n",
       "                           method  \\\n",
       "0                          random   \n",
       "1                          random   \n",
       "2                          random   \n",
       "3                          random   \n",
       "4                          random   \n",
       "...                           ...   \n",
       "1699  varying perfect frame score   \n",
       "1700  varying perfect frame score   \n",
       "1701  varying perfect frame score   \n",
       "1702  varying perfect frame score   \n",
       "1703  varying perfect frame score   \n",
       "\n",
       "                                                 params  instance_f  \\\n",
       "0     random1_dummy_dummy_16777216_2000_3.3378601074...      0.0000   \n",
       "1     random1_dummy_dummy_16777216_2000_3.3378601074...      0.0000   \n",
       "2     random1_dummy_dummy_16777216_2000_3.3378601074...      0.0015   \n",
       "3     random1_dummy_dummy_16777216_2000_3.3378601074...      0.0015   \n",
       "4     random1_dummy_dummy_16777216_2000_3.3378601074...      0.0025   \n",
       "...                                                 ...         ...   \n",
       "1699  framescore_gt_ts_100_0.1_16777216_2000_3.33786...      0.9990   \n",
       "1700  framescore_gt_ts_100_0.1_16777216_2000_3.33786...      0.9995   \n",
       "1701  framescore_gt_ts_100_0.1_16777216_2000_3.33786...      0.9995   \n",
       "1702  framescore_gt_ts_100_0.1_16777216_2000_3.33786...      1.0000   \n",
       "1703  framescore_gt_ts_100_0.1_16777216_2000_3.33786...      1.0000   \n",
       "\n",
       "           frame_f    NI    gap  score_sigma  task  \n",
       "0     0.000000e+00  2000    NaN          NaN     t  \n",
       "1     3.576279e-07  2000    NaN          NaN     t  \n",
       "2     4.172325e-07  2000    NaN          NaN     t  \n",
       "3     4.768372e-07  2000    NaN          NaN     t  \n",
       "4     5.364418e-07  2000    NaN          NaN     t  \n",
       "...            ...   ...    ...          ...   ...  \n",
       "1699  2.353191e-04  2000  100.0          0.1     t  \n",
       "1700  2.353787e-04  2000  100.0          0.1     t  \n",
       "1701  2.359748e-04  2000  100.0          0.1     t  \n",
       "1702  2.360344e-04  2000  100.0          0.1     t  \n",
       "1703  2.360344e-04  2000  100.0          0.1     t  \n",
       "\n",
       "[27526 rows x 23 columns]"
      ]
     },
     "execution_count": 325,
     "metadata": {},
     "output_type": "execute_result"
    }
   ],
   "source": [
    "df"
   ]
  },
  {
   "cell_type": "code",
   "execution_count": 326,
   "metadata": {
    "ExecuteTime": {
     "end_time": "2020-09-09T17:51:00.364087Z",
     "start_time": "2020-09-09T17:51:00.360524Z"
    }
   },
   "outputs": [],
   "source": [
    "# df = df.assign(method=make_composite(df, ['score', 'stat', 'exp_model']), \n",
    "#               M1=df.M.map(str), dur1=df.dur_coeff.map(str))\n",
    "# df = df.assign(task=make_composite(df, ['M1', 'dur1']))\n",
    "# df = df.assign(method=df.method.fillna('random'))\n",
    "# #df = df.assign(duration=(df.mup*NF).astype('int')//30, chunks=df.M)\n",
    "#df = df.assign(method=df.method.map(lambda x : ))"
   ]
  },
  {
   "cell_type": "code",
   "execution_count": 327,
   "metadata": {
    "ExecuteTime": {
     "end_time": "2020-09-09T17:51:01.098014Z",
     "start_time": "2020-09-09T17:51:01.086445Z"
    }
   },
   "outputs": [
    {
     "data": {
      "text/plain": [
       "(array(['random', 'this work', 'perfect frame score',\n",
       "        'varying perfect frame score'], dtype=object),\n",
       " array(['t'], dtype=object))"
      ]
     },
     "execution_count": 327,
     "metadata": {},
     "output_type": "execute_result"
    }
   ],
   "source": [
    "df['method'].unique(), df['task'].unique()"
   ]
  },
  {
   "cell_type": "code",
   "execution_count": 1030,
   "metadata": {
    "ExecuteTime": {
     "end_time": "2020-09-08T15:35:39.543949Z",
     "start_time": "2020-09-08T15:35:39.540417Z"
    }
   },
   "outputs": [],
   "source": [
    "# rs = []\n",
    "# for level in [10,100,1000]:\n",
    "#     rel_savings = savings_at(df, fixed_metric='ni', fixed_metric_level=level, measured_metric='nf',\n",
    "#            task_keys=['task', 'dur_coeff', 'skew'], \n",
    "#            method_keys=['method'],\n",
    "#            reference_method=('random')).assign(level=level)\n",
    "#     rs.append(rel_savings)\n",
    "    \n",
    "# rel = pd.concat(rs)\n",
    "# rel = rel[rel.method.isin(['this work', 'random1_dummy_dummy'])]\n",
    "# #rel = rel.assign(skew=rel['skew'])\n",
    "# rel = rel.assign(mid=np.sqrt(rel.ref*rel.metric))\n",
    "# rel = rel.dropna(axis=0)"
   ]
  },
  {
   "cell_type": "code",
   "execution_count": 329,
   "metadata": {
    "ExecuteTime": {
     "end_time": "2020-09-09T17:51:14.951529Z",
     "start_time": "2020-09-09T17:51:07.455835Z"
    }
   },
   "outputs": [],
   "source": [
    "svgs = []\n",
    "#levels = [np.arange(100)]\n",
    "levels = [np.arange(1,50,1),\n",
    "          np.arange(50,300,step=5),\n",
    "          np.arange(300,500,step=5),\n",
    "          np.arange(500,1000,step=10),\n",
    "          np.arange(1000,3000,step=20),\n",
    "          np.arange(3000,5000,step=50),\n",
    "         ]\n",
    "#          np.arange(5000,20000,step=500)]\n",
    "#, np.arange(1500,20000,step=500)]\n",
    "all_levels = sum(map(list,levels),[])\n",
    "\n",
    "for level in all_levels:    \n",
    "    svgs.append(savings_at(df, fixed_metric='nf',\n",
    "                           fixed_metric_level=level,\n",
    "                           measured_metric='ni',\n",
    "                           task_keys=['task'],# 'dur_coeff', 'skew'], \n",
    "                           method_keys=['method'],\n",
    "                           quantiles=[.25,.5,.75],\n",
    "                           reference_method=('random1')).assign(level=level))\n",
    "\n",
    "svgs = pd.concat(svgs, ignore_index=True)\n",
    "#svgs = svgs.assign(method=make_composite(svgs, ['score']))\n",
    "svgs = svgs.assign(ratio=svgs.ratio.pow(-1))\n",
    "#svgs = svgs.assign(duration=svgs.duration)"
   ]
  },
  {
   "cell_type": "code",
   "execution_count": 330,
   "metadata": {
    "ExecuteTime": {
     "end_time": "2020-09-09T17:51:14.964118Z",
     "start_time": "2020-09-09T17:51:14.953105Z"
    }
   },
   "outputs": [
    {
     "data": {
      "text/html": [
       "<div>\n",
       "<style scoped>\n",
       "    .dataframe tbody tr th:only-of-type {\n",
       "        vertical-align: middle;\n",
       "    }\n",
       "\n",
       "    .dataframe tbody tr th {\n",
       "        vertical-align: top;\n",
       "    }\n",
       "\n",
       "    .dataframe thead th {\n",
       "        text-align: right;\n",
       "    }\n",
       "</style>\n",
       "<table border=\"1\" class=\"dataframe\">\n",
       "  <thead>\n",
       "    <tr style=\"text-align: right;\">\n",
       "      <th></th>\n",
       "      <th>task</th>\n",
       "      <th>method</th>\n",
       "      <th>lower</th>\n",
       "      <th>metric</th>\n",
       "      <th>upper</th>\n",
       "      <th>ratio</th>\n",
       "      <th>ref</th>\n",
       "      <th>level</th>\n",
       "    </tr>\n",
       "  </thead>\n",
       "  <tbody>\n",
       "    <tr>\n",
       "      <th>0</th>\n",
       "      <td>t</td>\n",
       "      <td>perfect frame score</td>\n",
       "      <td>11.0</td>\n",
       "      <td>11.0</td>\n",
       "      <td>11.0</td>\n",
       "      <td>NaN</td>\n",
       "      <td>NaN</td>\n",
       "      <td>1</td>\n",
       "    </tr>\n",
       "    <tr>\n",
       "      <th>1</th>\n",
       "      <td>t</td>\n",
       "      <td>random</td>\n",
       "      <td>0.0</td>\n",
       "      <td>0.0</td>\n",
       "      <td>0.0</td>\n",
       "      <td>NaN</td>\n",
       "      <td>NaN</td>\n",
       "      <td>1</td>\n",
       "    </tr>\n",
       "    <tr>\n",
       "      <th>2</th>\n",
       "      <td>t</td>\n",
       "      <td>this work</td>\n",
       "      <td>0.0</td>\n",
       "      <td>0.0</td>\n",
       "      <td>0.0</td>\n",
       "      <td>NaN</td>\n",
       "      <td>NaN</td>\n",
       "      <td>1</td>\n",
       "    </tr>\n",
       "    <tr>\n",
       "      <th>3</th>\n",
       "      <td>t</td>\n",
       "      <td>varying perfect frame score</td>\n",
       "      <td>11.0</td>\n",
       "      <td>11.0</td>\n",
       "      <td>11.0</td>\n",
       "      <td>NaN</td>\n",
       "      <td>NaN</td>\n",
       "      <td>1</td>\n",
       "    </tr>\n",
       "    <tr>\n",
       "      <th>4</th>\n",
       "      <td>t</td>\n",
       "      <td>perfect frame score</td>\n",
       "      <td>22.0</td>\n",
       "      <td>22.0</td>\n",
       "      <td>22.0</td>\n",
       "      <td>NaN</td>\n",
       "      <td>NaN</td>\n",
       "      <td>2</td>\n",
       "    </tr>\n",
       "    <tr>\n",
       "      <th>...</th>\n",
       "      <td>...</td>\n",
       "      <td>...</td>\n",
       "      <td>...</td>\n",
       "      <td>...</td>\n",
       "      <td>...</td>\n",
       "      <td>...</td>\n",
       "      <td>...</td>\n",
       "      <td>...</td>\n",
       "    </tr>\n",
       "    <tr>\n",
       "      <th>1266</th>\n",
       "      <td>t</td>\n",
       "      <td>this work</td>\n",
       "      <td>1766.0</td>\n",
       "      <td>1767.0</td>\n",
       "      <td>1768.0</td>\n",
       "      <td>NaN</td>\n",
       "      <td>NaN</td>\n",
       "      <td>4850</td>\n",
       "    </tr>\n",
       "    <tr>\n",
       "      <th>1267</th>\n",
       "      <td>t</td>\n",
       "      <td>random</td>\n",
       "      <td>338.0</td>\n",
       "      <td>349.0</td>\n",
       "      <td>354.0</td>\n",
       "      <td>NaN</td>\n",
       "      <td>NaN</td>\n",
       "      <td>4900</td>\n",
       "    </tr>\n",
       "    <tr>\n",
       "      <th>1268</th>\n",
       "      <td>t</td>\n",
       "      <td>this work</td>\n",
       "      <td>1768.0</td>\n",
       "      <td>1768.0</td>\n",
       "      <td>1772.0</td>\n",
       "      <td>NaN</td>\n",
       "      <td>NaN</td>\n",
       "      <td>4900</td>\n",
       "    </tr>\n",
       "    <tr>\n",
       "      <th>1269</th>\n",
       "      <td>t</td>\n",
       "      <td>random</td>\n",
       "      <td>340.0</td>\n",
       "      <td>354.0</td>\n",
       "      <td>356.0</td>\n",
       "      <td>NaN</td>\n",
       "      <td>NaN</td>\n",
       "      <td>4950</td>\n",
       "    </tr>\n",
       "    <tr>\n",
       "      <th>1270</th>\n",
       "      <td>t</td>\n",
       "      <td>this work</td>\n",
       "      <td>1770.0</td>\n",
       "      <td>1770.0</td>\n",
       "      <td>1772.0</td>\n",
       "      <td>NaN</td>\n",
       "      <td>NaN</td>\n",
       "      <td>4950</td>\n",
       "    </tr>\n",
       "  </tbody>\n",
       "</table>\n",
       "<p>1271 rows × 8 columns</p>\n",
       "</div>"
      ],
      "text/plain": [
       "     task                       method   lower  metric   upper  ratio  ref  \\\n",
       "0       t          perfect frame score    11.0    11.0    11.0    NaN  NaN   \n",
       "1       t                       random     0.0     0.0     0.0    NaN  NaN   \n",
       "2       t                    this work     0.0     0.0     0.0    NaN  NaN   \n",
       "3       t  varying perfect frame score    11.0    11.0    11.0    NaN  NaN   \n",
       "4       t          perfect frame score    22.0    22.0    22.0    NaN  NaN   \n",
       "...   ...                          ...     ...     ...     ...    ...  ...   \n",
       "1266    t                    this work  1766.0  1767.0  1768.0    NaN  NaN   \n",
       "1267    t                       random   338.0   349.0   354.0    NaN  NaN   \n",
       "1268    t                    this work  1768.0  1768.0  1772.0    NaN  NaN   \n",
       "1269    t                       random   340.0   354.0   356.0    NaN  NaN   \n",
       "1270    t                    this work  1770.0  1770.0  1772.0    NaN  NaN   \n",
       "\n",
       "      level  \n",
       "0         1  \n",
       "1         1  \n",
       "2         1  \n",
       "3         1  \n",
       "4         2  \n",
       "...     ...  \n",
       "1266   4850  \n",
       "1267   4900  \n",
       "1268   4900  \n",
       "1269   4950  \n",
       "1270   4950  \n",
       "\n",
       "[1271 rows x 8 columns]"
      ]
     },
     "execution_count": 330,
     "metadata": {},
     "output_type": "execute_result"
    }
   ],
   "source": [
    "svgs"
   ]
  },
  {
   "cell_type": "code",
   "execution_count": 313,
   "metadata": {
    "ExecuteTime": {
     "end_time": "2020-09-09T17:46:46.003430Z",
     "start_time": "2020-09-09T17:46:45.990659Z"
    }
   },
   "outputs": [],
   "source": [
    "import plotnine.facets.labelling"
   ]
  },
  {
   "cell_type": "code",
   "execution_count": 314,
   "metadata": {
    "ExecuteTime": {
     "end_time": "2020-09-09T17:46:46.019906Z",
     "start_time": "2020-09-09T17:46:46.005190Z"
    }
   },
   "outputs": [],
   "source": [
    "def lskew(x):\n",
    "    ans = f'skewed toward\\n1/{int(float(x))} of dataset' if x != '1.0' else 'no instance skew'\n",
    "    return ans\n",
    "\n",
    "def lchunks(x):\n",
    "    ans = f'dataset split into\\nM={x} chunks'\n",
    "    return ans\n",
    "\n",
    "def ldur(x):\n",
    "    dur = int(round(float(x)*700))\n",
    "    ans = 'mean duration\\n{} frames'.format(dur)\n",
    "    return ans\n",
    "\n",
    "lab = plotnine.facets.labeller(rows=as_labeller(ldur), cols=as_labeller(lskew))"
   ]
  },
  {
   "cell_type": "code",
   "execution_count": 331,
   "metadata": {
    "ExecuteTime": {
     "end_time": "2020-09-09T17:51:14.979600Z",
     "start_time": "2020-09-09T17:51:14.965516Z"
    }
   },
   "outputs": [],
   "source": [
    "pdf = svgs #[svgs.method.isin(['random', 'this work', 'random1_dummy_dummy'])]\n",
    "pdf = pdf.assign(lower=pdf.lower.round(), \n",
    "                metric=pdf.metric.round(),\n",
    "                upper=pdf.upper.round())"
   ]
  },
  {
   "cell_type": "code",
   "execution_count": 332,
   "metadata": {
    "ExecuteTime": {
     "end_time": "2020-09-09T17:51:14.997627Z",
     "start_time": "2020-09-09T17:51:14.981345Z"
    }
   },
   "outputs": [
    {
     "data": {
      "text/plain": [
       "array(['perfect frame score', 'random', 'this work',\n",
       "       'varying perfect frame score'], dtype=object)"
      ]
     },
     "execution_count": 332,
     "metadata": {},
     "output_type": "execute_result"
    }
   ],
   "source": [
    "pdf.method.unique()"
   ]
  },
  {
   "cell_type": "code",
   "execution_count": null,
   "metadata": {
    "ExecuteTime": {
     "end_time": "2020-09-09T17:41:12.820956Z",
     "start_time": "2020-09-09T17:41:10.315Z"
    }
   },
   "outputs": [],
   "source": [
    "#dfmodel = dfmodel.assign(M=dfmodel.M.fillna(0).astype('int'))"
   ]
  },
  {
   "cell_type": "code",
   "execution_count": 120,
   "metadata": {
    "ExecuteTime": {
     "end_time": "2020-09-09T14:47:19.623703Z",
     "start_time": "2020-09-09T14:47:19.610474Z"
    }
   },
   "outputs": [],
   "source": [
    "#dfmodel = dfmodel.assign(method=make_composite(dfmodel, ['method', 'M']).map(lambda x : 'random' if x.startswith('random') else x.split('_')[-1]))"
   ]
  },
  {
   "cell_type": "code",
   "execution_count": 121,
   "metadata": {
    "ExecuteTime": {
     "end_time": "2020-09-09T14:47:19.641722Z",
     "start_time": "2020-09-09T14:47:19.626450Z"
    }
   },
   "outputs": [],
   "source": [
    "#dfmodel.groupby('method').size(), pdf.groupby('method').size()"
   ]
  },
  {
   "cell_type": "code",
   "execution_count": 333,
   "metadata": {
    "ExecuteTime": {
     "end_time": "2020-09-09T17:51:17.322071Z",
     "start_time": "2020-09-09T17:51:17.301687Z"
    },
    "scrolled": false
   },
   "outputs": [],
   "source": [
    "#dodge_text = position_dodge2(width=4)\n",
    "xmin=10.\n",
    "simplot = (ggplot(pdf)\n",
    " + geom_ribbon(aes(x='level', ymin='lower',ymax='upper',fill='method'), alpha=.2, color=None)\n",
    " + geom_line(aes(x='level', y='metric', color='method'))\n",
    "#  + geom_line(aes(x='nf', y='ni', color='method'),\n",
    "#              data=dfmodel.dropna(axis=0), \n",
    "#              linetype='--', alpha=1.)\n",
    " #+ geom_point(aes(x='level', y='metric', color='method'))\n",
    " #+ geom_segment(aes(x='ref', xend='metric', y='level', yend='level'), data=rel.assign(ref=rel.ref.clip(xmin+.1)))\n",
    "#  + geom_text(aes(x='mid', y='level', label='ratio'), format_string='{:2.2g}x',\n",
    "#              ha='center', va='bottom', data=rel)\n",
    "#+ facet_wrap(facets=['M'], scales='free', labeller='label_both')\n",
    "# + facet_grid(facets=['dur_coeff','skew'], scales='free', labeller=lab)\n",
    " + theme(panel_grid_minor=element_blank(),\n",
    "         figure_size=(7,4),\n",
    "         subplots_adjust={'hspace':.0, 'wspace':.0},\n",
    "         panel_border=element_line(color='black'),\n",
    "        legend_position='top',\n",
    "        legend_direction='horizontal', \n",
    "         legend_title=element_blank(),\n",
    "         strip_text=element_text(size=8),\n",
    "         plot_margin=0,\n",
    "         legend_margin=0,\n",
    "         legend_box_margin=0,\n",
    "         strip_margin=0\n",
    "        )\n",
    "+ scale_x_log10(name='number of frames sampled (out of {:d} Million)'.format(int(NF//(1e6))), breaks=[10.,100.,1000.,10000],)\n",
    "#                  labels=[10, 100, '1k', '10k'],\n",
    "#                  limits=np.array([xmin,30000.]))\n",
    "+ scale_y_log10(name=f'number of distinct instances found (out of {N})', breaks=[1.,10.,100.,1000.,2000.])\n",
    "#                  labels=[1, 10, 100, '1k', '2k'],\n",
    "#                  limits=[1.,3000.])\n",
    " + annotate('hline', yintercept=2000., color='gray', alpha=.5)\n",
    "#  + geom_line(aes(x='n', y='pred'), data=dfmodel,linetype='--', alpha=.5)\n",
    " # + geom_text(aes(x='method', y=0, label='method'), va='bottom', angle=90)\n",
    " # + geom_text(aes(x='level', y='ratio', label='metric'), va='top')\n",
    " # + geom_text(aes(x='level', y='ratio', label='ratio'), va='bottom', format_string='{:0.1f}x')\n",
    " # + annotate('hline', yintercept=1., color='black')\n",
    ")"
   ]
  },
  {
   "cell_type": "code",
   "execution_count": 340,
   "metadata": {
    "ExecuteTime": {
     "end_time": "2020-09-09T18:00:18.887462Z",
     "start_time": "2020-09-09T18:00:18.880860Z"
    }
   },
   "outputs": [
    {
     "data": {
      "text/plain": [
       "200.95"
      ]
     },
     "execution_count": 340,
     "metadata": {},
     "output_type": "execute_result"
    }
   ],
   "source": [
    "# show effect of average duration\n",
    "# and duration skew on perfect score\n",
    "np.quantile(durations, .05)"
   ]
  },
  {
   "cell_type": "code",
   "execution_count": 334,
   "metadata": {
    "ExecuteTime": {
     "end_time": "2020-09-09T17:51:19.214259Z",
     "start_time": "2020-09-09T17:51:18.235127Z"
    }
   },
   "outputs": [
    {
     "name": "stderr",
     "output_type": "stream",
     "text": [
      "/nvme_drive/vsms3/lib/python3.7/site-packages/pandas/core/series.py:679: RuntimeWarning: divide by zero encountered in log10\n"
     ]
    },
    {
     "data": {
      "image/png": "[encoded data removed]",
      "text/plain": [
       "<Figure size 700x400 with 1 Axes>"
      ]
     },
     "metadata": {
      "image/png": {
       "height": 497,
       "width": 778
      }
     },
     "output_type": "display_data"
    },
    {
     "data": {
      "text/plain": [
       "<ggplot: (8726517005253)>"
      ]
     },
     "execution_count": 334,
     "metadata": {},
     "output_type": "execute_result"
    }
   ],
   "source": [
    "simplot"
   ]
  },
  {
   "cell_type": "code",
   "execution_count": 1311,
   "metadata": {
    "ExecuteTime": {
     "end_time": "2020-09-09T01:48:08.895387Z",
     "start_time": "2020-09-09T01:48:08.881147Z"
    }
   },
   "outputs": [],
   "source": [
    "pm = pdf.merge(dfmodel[['method', 'nf', 'ni']], how='left', left_on=('method', 'level'), right_on=('method', 'nf'))"
   ]
  },
  {
   "cell_type": "code",
   "execution_count": 1312,
   "metadata": {
    "ExecuteTime": {
     "end_time": "2020-09-09T01:48:09.785560Z",
     "start_time": "2020-09-09T01:48:09.761758Z"
    }
   },
   "outputs": [
    {
     "data": {
      "text/html": [
       "<div>\n",
       "<style scoped>\n",
       "    .dataframe tbody tr th:only-of-type {\n",
       "        vertical-align: middle;\n",
       "    }\n",
       "\n",
       "    .dataframe tbody tr th {\n",
       "        vertical-align: top;\n",
       "    }\n",
       "\n",
       "    .dataframe thead th {\n",
       "        text-align: right;\n",
       "    }\n",
       "</style>\n",
       "<table border=\"1\" class=\"dataframe\">\n",
       "  <thead>\n",
       "    <tr style=\"text-align: right;\">\n",
       "      <th></th>\n",
       "      <th>task</th>\n",
       "      <th>method</th>\n",
       "      <th>lower</th>\n",
       "      <th>metric</th>\n",
       "      <th>upper</th>\n",
       "      <th>ratio</th>\n",
       "      <th>ref</th>\n",
       "      <th>level</th>\n",
       "      <th>nf</th>\n",
       "      <th>ni</th>\n",
       "    </tr>\n",
       "  </thead>\n",
       "  <tbody>\n",
       "    <tr>\n",
       "      <th>0</th>\n",
       "      <td>t</td>\n",
       "      <td>1024</td>\n",
       "      <td>0</td>\n",
       "      <td>0</td>\n",
       "      <td>0</td>\n",
       "      <td>1.000000</td>\n",
       "      <td>0</td>\n",
       "      <td>1</td>\n",
       "      <td>1</td>\n",
       "      <td>4.400408</td>\n",
       "    </tr>\n",
       "    <tr>\n",
       "      <th>1</th>\n",
       "      <td>t</td>\n",
       "      <td>128</td>\n",
       "      <td>0</td>\n",
       "      <td>0</td>\n",
       "      <td>0</td>\n",
       "      <td>1.000000</td>\n",
       "      <td>0</td>\n",
       "      <td>1</td>\n",
       "      <td>1</td>\n",
       "      <td>3.855026</td>\n",
       "    </tr>\n",
       "    <tr>\n",
       "      <th>2</th>\n",
       "      <td>t</td>\n",
       "      <td>16</td>\n",
       "      <td>0</td>\n",
       "      <td>0</td>\n",
       "      <td>0</td>\n",
       "      <td>1.000000</td>\n",
       "      <td>0</td>\n",
       "      <td>1</td>\n",
       "      <td>1</td>\n",
       "      <td>1.328688</td>\n",
       "    </tr>\n",
       "    <tr>\n",
       "      <th>3</th>\n",
       "      <td>t</td>\n",
       "      <td>2</td>\n",
       "      <td>0</td>\n",
       "      <td>0</td>\n",
       "      <td>0</td>\n",
       "      <td>1.000000</td>\n",
       "      <td>0</td>\n",
       "      <td>1</td>\n",
       "      <td>1</td>\n",
       "      <td>0.166367</td>\n",
       "    </tr>\n",
       "    <tr>\n",
       "      <th>4</th>\n",
       "      <td>t</td>\n",
       "      <td>random</td>\n",
       "      <td>0</td>\n",
       "      <td>0</td>\n",
       "      <td>0</td>\n",
       "      <td>1.000000</td>\n",
       "      <td>0</td>\n",
       "      <td>1</td>\n",
       "      <td>1</td>\n",
       "      <td>0.083187</td>\n",
       "    </tr>\n",
       "    <tr>\n",
       "      <th>...</th>\n",
       "      <td>...</td>\n",
       "      <td>...</td>\n",
       "      <td>...</td>\n",
       "      <td>...</td>\n",
       "      <td>...</td>\n",
       "      <td>...</td>\n",
       "      <td>...</td>\n",
       "      <td>...</td>\n",
       "      <td>...</td>\n",
       "      <td>...</td>\n",
       "    </tr>\n",
       "    <tr>\n",
       "      <th>2340</th>\n",
       "      <td>t</td>\n",
       "      <td>1024</td>\n",
       "      <td>1884</td>\n",
       "      <td>1899</td>\n",
       "      <td>1908</td>\n",
       "      <td>1.513944</td>\n",
       "      <td>1254</td>\n",
       "      <td>29500</td>\n",
       "      <td>29500</td>\n",
       "      <td>1999.818522</td>\n",
       "    </tr>\n",
       "    <tr>\n",
       "      <th>2341</th>\n",
       "      <td>t</td>\n",
       "      <td>128</td>\n",
       "      <td>1975</td>\n",
       "      <td>1979</td>\n",
       "      <td>1983</td>\n",
       "      <td>1.577689</td>\n",
       "      <td>1254</td>\n",
       "      <td>29500</td>\n",
       "      <td>29500</td>\n",
       "      <td>1999.479909</td>\n",
       "    </tr>\n",
       "    <tr>\n",
       "      <th>2342</th>\n",
       "      <td>t</td>\n",
       "      <td>16</td>\n",
       "      <td>1991</td>\n",
       "      <td>1992</td>\n",
       "      <td>1995</td>\n",
       "      <td>1.588048</td>\n",
       "      <td>1254</td>\n",
       "      <td>29500</td>\n",
       "      <td>29500</td>\n",
       "      <td>1997.474225</td>\n",
       "    </tr>\n",
       "    <tr>\n",
       "      <th>2343</th>\n",
       "      <td>t</td>\n",
       "      <td>2</td>\n",
       "      <td>1634</td>\n",
       "      <td>1653</td>\n",
       "      <td>1658</td>\n",
       "      <td>1.317928</td>\n",
       "      <td>1254</td>\n",
       "      <td>29500</td>\n",
       "      <td>29500</td>\n",
       "      <td>1647.187363</td>\n",
       "    </tr>\n",
       "    <tr>\n",
       "      <th>2344</th>\n",
       "      <td>t</td>\n",
       "      <td>random</td>\n",
       "      <td>1240</td>\n",
       "      <td>1254</td>\n",
       "      <td>1288</td>\n",
       "      <td>1.000000</td>\n",
       "      <td>1254</td>\n",
       "      <td>29500</td>\n",
       "      <td>29500</td>\n",
       "      <td>1258.262285</td>\n",
       "    </tr>\n",
       "  </tbody>\n",
       "</table>\n",
       "<p>2345 rows × 10 columns</p>\n",
       "</div>"
      ],
      "text/plain": [
       "     task  method  lower  metric  upper     ratio   ref  level     nf  \\\n",
       "0       t    1024      0       0      0  1.000000     0      1      1   \n",
       "1       t     128      0       0      0  1.000000     0      1      1   \n",
       "2       t      16      0       0      0  1.000000     0      1      1   \n",
       "3       t       2      0       0      0  1.000000     0      1      1   \n",
       "4       t  random      0       0      0  1.000000     0      1      1   \n",
       "...   ...     ...    ...     ...    ...       ...   ...    ...    ...   \n",
       "2340    t    1024   1884    1899   1908  1.513944  1254  29500  29500   \n",
       "2341    t     128   1975    1979   1983  1.577689  1254  29500  29500   \n",
       "2342    t      16   1991    1992   1995  1.588048  1254  29500  29500   \n",
       "2343    t       2   1634    1653   1658  1.317928  1254  29500  29500   \n",
       "2344    t  random   1240    1254   1288  1.000000  1254  29500  29500   \n",
       "\n",
       "               ni  \n",
       "0        4.400408  \n",
       "1        3.855026  \n",
       "2        1.328688  \n",
       "3        0.166367  \n",
       "4        0.083187  \n",
       "...           ...  \n",
       "2340  1999.818522  \n",
       "2341  1999.479909  \n",
       "2342  1997.474225  \n",
       "2343  1647.187363  \n",
       "2344  1258.262285  \n",
       "\n",
       "[2345 rows x 10 columns]"
      ]
     },
     "execution_count": 1312,
     "metadata": {},
     "output_type": "execute_result"
    }
   ],
   "source": [
    "pm"
   ]
  },
  {
   "cell_type": "code",
   "execution_count": 1262,
   "metadata": {
    "ExecuteTime": {
     "end_time": "2020-09-08T19:04:40.026327Z",
     "start_time": "2020-09-08T19:04:40.022997Z"
    }
   },
   "outputs": [],
   "source": [
    "#pm.method[pm.nf.isna()].shape[0]"
   ]
  },
  {
   "cell_type": "code",
   "execution_count": 1313,
   "metadata": {
    "ExecuteTime": {
     "end_time": "2020-09-09T01:48:13.231796Z",
     "start_time": "2020-09-09T01:48:13.224174Z"
    }
   },
   "outputs": [],
   "source": [
    "pm = pm.assign(gap=(pm['ni'] - pm['metric']))"
   ]
  },
  {
   "cell_type": "code",
   "execution_count": 1321,
   "metadata": {
    "ExecuteTime": {
     "end_time": "2020-09-09T02:05:30.606753Z",
     "start_time": "2020-09-09T02:05:30.033377Z"
    }
   },
   "outputs": [
    {
     "data": {
      "image/png": "[encoded data removed]",
      "text/plain": [
       "<Figure size 640x480 with 1 Axes>"
      ]
     },
     "metadata": {
      "image/png": {
       "height": 429,
       "width": 684
      }
     },
     "output_type": "display_data"
    },
    {
     "data": {
      "text/plain": [
       "<ggplot: (8782964421931)>"
      ]
     },
     "execution_count": 1321,
     "metadata": {},
     "output_type": "execute_result"
    }
   ],
   "source": [
    "(ggplot(pm.dropna(axis=0)) \n",
    " + geom_line(aes(x='level', y='gap', color='method'))\n",
    " # + scale_x_log10(name='number of samples', breaks=[1.,10.,100.,1000.,2000.], limits=np.array([10.,4000.]))\n",
    " + annotate('vline', xintercept=[16,128,1024], color='gray',alpha=.5))\n",
    "# + scale_y_log10(name='result gap', breaks=[1.,10.,100.,1000.,2000.], limits=[1.,3000.]))"
   ]
  },
  {
   "cell_type": "code",
   "execution_count": null,
   "metadata": {},
   "outputs": [],
   "source": [
    "#dodge_text = position_dodge2(width=4)\n",
    "(ggplot(svgs[svgs.method.isin(['random', 'this work'])])\n",
    " + geom_ribbon(aes(x='level', ymin='lower',ymax='upper',fill='method', group=), alpha=.2, color=None)\n",
    " + geom_line(aes(x='level', y='metric', color='method'))\n",
    " + geom_line(aes(x='n', y='N', color='method'), data=dfmodel, linetype='--', alpha=1.)\n",
    " #+ geom_point(aes(x='level', y='metric', color='method'))\n",
    " + geom_segment(aes(x='ref', xend='metric', y='level', yend='level'), data=rel)\n",
    " + geom_text(aes(x='mid', y='level', label='ratio'), format_string='{:.01f}x', ha='center', va='bottom', data=rel)\n",
    " + facet_grid(facets=['skew', 'chunks'], scales='free', labeller='label_both', )\n",
    " + theme(panel_grid_minor=element_blank(),\n",
    "         figure_size=(4*3,2*4.5),\n",
    "         subplots_adjust={'hspace':.0, 'wspace':.0},\n",
    "         panel_border=element_line(color='black')\n",
    "        )\n",
    " \n",
    " + scale_x_log10(name='number of samples', breaks=[1.,10.,100.,1000.,2000.], limits=np.array([10.,4000.]))\n",
    " + scale_y_log10(name='number of results', breaks=[1.,10.,100.,1000.,2000.], limits=[1.,3000.])\n",
    " + annotate('hline', yintercept=2000., color='gray', alpha=.5)\n",
    " \n",
    "#  + geom_line(aes(x='n', y='pred'), data=dfmodel,linetype='--', alpha=.5)\n",
    " # + geom_text(aes(x='method', y=0, label='method'), va='bottom', angle=90)\n",
    " # + geom_text(aes(x='level', y='ratio', label='metric'), va='top')\n",
    " # + geom_text(aes(x='level', y='ratio', label='ratio'), va='bottom', format_string='{:0.1f}x')\n",
    " # + annotate('hline', yintercept=1., color='black')\n",
    ")"
   ]
  },
  {
   "cell_type": "code",
   "execution_count": 626,
   "metadata": {
    "ExecuteTime": {
     "end_time": "2020-09-02T15:52:02.526208Z",
     "start_time": "2020-09-02T15:52:02.513559Z"
    }
   },
   "outputs": [
    {
     "data": {
      "text/plain": [
       "metric    False\n",
       "level     False\n",
       "upper     False\n",
       "lower     False\n",
       "method    False\n",
       "skew      False\n",
       "chunks    False\n",
       "dtype: bool"
      ]
     },
     "execution_count": 626,
     "metadata": {},
     "output_type": "execute_result"
    }
   ],
   "source": [
    "svgs[['metric', 'level', 'upper', 'lower', 'method', 'skew', 'chunks']].isna().any()"
   ]
  }
 ],
 "metadata": {
  "kernelspec": {
   "display_name": "Python3 (vsms)",
   "language": "python",
   "name": "vsms"
  },
  "language_info": {
   "codemirror_mode": {
    "name": "ipython",
    "version": 3
   },
   "file_extension": ".py",
   "mimetype": "text/x-python",
   "name": "python",
   "nbconvert_exporter": "python",
   "pygments_lexer": "ipython3",
   "version": "3.7.0"
  }
 },
 "nbformat": 4,
 "nbformat_minor": 2
}
